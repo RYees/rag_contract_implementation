{
 "cells": [
  {
   "cell_type": "markdown",
   "metadata": {},
   "source": [
    "# LanceDB vectorstore"
   ]
  },
  {
   "cell_type": "code",
   "execution_count": 4,
   "metadata": {},
   "outputs": [],
   "source": [
    "# ! pip install lancedb\n",
    "# https://api.python.langchain.com/en/latest/vectorstores/langchain_community.vectorstores.lancedb.LanceDB.html"
   ]
  },
  {
   "cell_type": "code",
   "execution_count": 5,
   "metadata": {},
   "outputs": [],
   "source": [
    "import getpass\n",
    "import os\n",
    "\n",
    "os.environ[\"OPENAI_API_KEY\"] = \"sk-proj-Tzc9mrWyEFVxyDsq5HiWT3BlbkFJxp47toOztG4XRILBeRxr\""
   ]
  },
  {
   "cell_type": "code",
   "execution_count": 6,
   "metadata": {},
   "outputs": [],
   "source": [
    "! rm -rf /tmp/lancedb"
   ]
  },
  {
   "cell_type": "code",
   "execution_count": 10,
   "metadata": {},
   "outputs": [],
   "source": [
    "from collections import namedtuple\n",
    "from pypdf import PdfReader\n",
    "Page = namedtuple(\"Page\", [\"id\", \"page_content\", \"metadata\"])\n",
    "\n",
    "def pdf_reader(file_path):\n",
    "    reader = PdfReader(file_path)\n",
    "    pdf_pages = []\n",
    "    for page_number, page in enumerate(reader.pages):\n",
    "        page_content = page.extract_text().strip()\n",
    "        if page_content:\n",
    "            metadata = {\"page_number\": page_number}  # Add any additional metadata as needed\n",
    "            pdf_pages.append(Page(id=page_number, page_content=page_content, metadata=metadata))\n",
    "    return pdf_pages\n",
    "\n",
    "file_path = '../data/RaptorContract.pdf'\n",
    "documents = pdf_reader(file_path)"
   ]
  },
  {
   "cell_type": "code",
   "execution_count": 11,
   "metadata": {},
   "outputs": [],
   "source": [
    "from langchain_community.document_loaders import TextLoader\n",
    "from langchain_community.vectorstores import LanceDB\n",
    "from langchain_openai import OpenAIEmbeddings\n",
    "from langchain_text_splitters import CharacterTextSplitter\n",
    "\n",
    "# loader = TextLoader(\"../../how_to/state_of_the_union.txt\")\n",
    "# documents = loader.load()\n",
    "\n",
    "documents = CharacterTextSplitter().split_documents(documents)\n",
    "embeddings = OpenAIEmbeddings()"
   ]
  },
  {
   "cell_type": "code",
   "execution_count": 12,
   "metadata": {},
   "outputs": [
    {
     "name": "stderr",
     "output_type": "stream",
     "text": [
      "WARNING:urllib3.connectionpool:Retrying (Retry(total=2, connect=3, read=3, redirect=None, status=None)) after connection broken by 'SSLError(SSLCertVerificationError(1, \"[SSL: CERTIFICATE_VERIFY_FAILED] certificate verify failed: Hostname mismatch, certificate is not valid for 'lang_test.us-east-1-dev.api.lancedb.com'. (_ssl.c:1007)\"))': /v1/table/langchain_test/describe/\n",
      "WARNING:urllib3.connectionpool:Retrying (Retry(total=1, connect=3, read=3, redirect=None, status=None)) after connection broken by 'SSLError(SSLCertVerificationError(1, \"[SSL: CERTIFICATE_VERIFY_FAILED] certificate verify failed: Hostname mismatch, certificate is not valid for 'lang_test.us-east-1-dev.api.lancedb.com'. (_ssl.c:1007)\"))': /v1/table/langchain_test/describe/\n",
      "WARNING:urllib3.connectionpool:Retrying (Retry(total=0, connect=3, read=3, redirect=None, status=None)) after connection broken by 'SSLError(SSLCertVerificationError(1, \"[SSL: CERTIFICATE_VERIFY_FAILED] certificate verify failed: Hostname mismatch, certificate is not valid for 'lang_test.us-east-1-dev.api.lancedb.com'. (_ssl.c:1007)\"))': /v1/table/langchain_test/describe/\n"
     ]
    }
   ],
   "source": [
    "db_url = \"db://lang_test\" # url of db you created\n",
    "api_key = \"sk-proj-Tzc9mrWyEFVxyDsq5HiWT3BlbkFJxp47toOztG4XRILBeRxr\" # your API key\n",
    "region=\"us-east-1-dev\"  # your selected region\n",
    "\n",
    "vector_store = LanceDB(\n",
    "    uri=db_url,\n",
    "    api_key=api_key,\n",
    "    region=region,\n",
    "    embedding=embeddings,\n",
    "    table_name='langchain_test'\n",
    "    )"
   ]
  },
  {
   "cell_type": "code",
   "execution_count": null,
   "metadata": {},
   "outputs": [],
   "source": [
    "from lancedb.rerankers import LinearCombinationReranker\n",
    "\n",
    "reranker = LinearCombinationReranker(weight=0.3)\n",
    "from langchain.storage import LocalFileStore\n",
    "store = LocalFileStore(\"./cache/\")\n",
    "docsearch = LanceDB.from_documents(documents, embeddings, store, reranker=reranker)\n",
    "query = \"How much is the escrow amount?\""
   ]
  },
  {
   "cell_type": "code",
   "execution_count": 16,
   "metadata": {},
   "outputs": [
    {
     "name": "stdout",
     "output_type": "stream",
     "text": [
      "relevance score -  0.7345872178794977\n",
      "text-  -20- \n",
      "112923184_5 (d) Resolution of Disputes.  Buyer and the Sellers ’ Representative will attempt to \n",
      "promptly resolve the matters raised in any Dispute Notice in good faith.  Beginning ten (10) \n",
      "Business Days after delivery of any Dispute Notice pursuant to Section 2.07(d), either Buyer or \n",
      "the Sellers ’ Representative may provide written notice to the other (the “Dispute Submission \n",
      "Notice ”) that it elects to submit the disputed items to a nationally recognized independent \n",
      "accounting firm chosen jointly by Buyer and the Sellers ’ Representative (the “Accounting \n",
      "Firm ”).  The Accounting Firm will promptly, in accordance with the guidelines and procedures \n",
      "set forth in this Agreement, review only those unresolved items and amounts specifically set \n",
      "forth and objected to in the Dispute Notice and resolve the dispute with respect to each such \n",
      "specific unresolved item and amount in accordance with this Agreement.  The Accounting Firm \n",
      "shall render a written decision as to each disput\n"
     ]
    }
   ],
   "source": [
    "docs = docsearch.similarity_search_with_relevance_scores(query)\n",
    "print(\"relevance score - \", docs[0][1])\n",
    "print(\"text- \", docs[0][0].page_content[:1000])"
   ]
  },
  {
   "cell_type": "markdown",
   "metadata": {},
   "source": [
    "# Faiss vectorestore"
   ]
  },
  {
   "cell_type": "code",
   "execution_count": 3,
   "metadata": {},
   "outputs": [],
   "source": [
    "# ! pip install faiss-cpu\n",
    "# https://api.python.langchain.com/en/latest/vectorstores/langchain_community.vectorstores.faiss.FAISS.html"
   ]
  },
  {
   "cell_type": "markdown",
   "metadata": {},
   "source": [
    "# Chroma vectorstore"
   ]
  },
  {
   "cell_type": "code",
   "execution_count": null,
   "metadata": {},
   "outputs": [],
   "source": []
  },
  {
   "cell_type": "markdown",
   "metadata": {},
   "source": [
    "# Weaviate vectorstore"
   ]
  },
  {
   "cell_type": "code",
   "execution_count": null,
   "metadata": {},
   "outputs": [],
   "source": []
  },
  {
   "cell_type": "markdown",
   "metadata": {},
   "source": [
    "# Pinecone vectorstore"
   ]
  },
  {
   "cell_type": "code",
   "execution_count": null,
   "metadata": {},
   "outputs": [],
   "source": []
  }
 ],
 "metadata": {
  "kernelspec": {
   "display_name": "Python 3",
   "language": "python",
   "name": "python3"
  },
  "language_info": {
   "codemirror_mode": {
    "name": "ipython",
    "version": 3
   },
   "file_extension": ".py",
   "mimetype": "text/x-python",
   "name": "python",
   "nbconvert_exporter": "python",
   "pygments_lexer": "ipython3",
   "version": "3.10.12"
  }
 },
 "nbformat": 4,
 "nbformat_minor": 2
}
