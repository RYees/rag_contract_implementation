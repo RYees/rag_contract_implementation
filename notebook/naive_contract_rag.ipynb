{
 "cells": [
  {
   "cell_type": "code",
   "execution_count": 1,
   "metadata": {},
   "outputs": [],
   "source": [
    "import warnings\n",
    "warnings.filterwarnings(\"ignore\")\n"
   ]
  },
  {
   "cell_type": "code",
   "execution_count": 2,
   "metadata": {},
   "outputs": [],
   "source": [
    "#!pip install chromadb\n",
    "#!pip install sentence-transformers\n",
    "#!pip install langchain openai"
   ]
  },
  {
   "cell_type": "code",
   "execution_count": 98,
   "metadata": {},
   "outputs": [],
   "source": [
    "import matplotlib.pyplot as plt\n",
    "from langchain.text_splitter import RecursiveCharacterTextSplitter\n",
    "from langchain_core.documents import Document\n",
    "import openai\n",
    "from langchain_community.embeddings.openai import OpenAIEmbeddings\n",
    "from langchain_community.vectorstores import SupabaseVectorStore\n",
    "from supabase.client import create_client\n",
    "import numpy as np\n",
    "from sentence_transformers import CrossEncoder\n",
    "from dotenv import dotenv_values\n",
    "\n",
    "env_vars = dotenv_values('../.env')\n",
    "openai.api_key = env_vars.get('OPENAI_API_KEY')\n",
    "openai_client = openai.OpenAI(api_key=openai.api_key)\n",
    "supabase_url = env_vars.get('SUPABASE_URL')\n",
    "supabase_key = env_vars.get('SUPABASE_KEY')"
   ]
  },
  {
   "cell_type": "code",
   "execution_count": 2,
   "metadata": {},
   "outputs": [],
   "source": [
    "import os, sys\n",
    "rpath = os.path.abspath('..')\n",
    "if rpath not in sys.path:\n",
    "    sys.path.insert(0, rpath)\n",
    "\n",
    "import utils.chroma as chom"
   ]
  },
  {
   "cell_type": "markdown",
   "metadata": {},
   "source": [
    "## The Rag Retriever Section"
   ]
  },
  {
   "cell_type": "markdown",
   "metadata": {},
   "source": [
    "* The retriever section chunked, embed and save to chroma vector db\n",
    "* Uses similarity search to the vector db based on users question\n",
    "* Before passing the retrieved document to the generator section it passes through to the cross encoder to be reranked"
   ]
  },
  {
   "cell_type": "code",
   "execution_count": 82,
   "metadata": {},
   "outputs": [],
   "source": [
    "file_path = '../data/RaptorContract.pdf'\n",
    "# file_path = \"../data/RobinsonAdvisory.pdf\""
   ]
  },
  {
   "cell_type": "code",
   "execution_count": 10,
   "metadata": {},
   "outputs": [
    {
     "data": {
      "text/plain": [
       "Page(id=0, page_content='[R&G Draft 12.__.2021] \\n112923184_5  \\n \\nSTOCK PURCHASE AGREEMENT \\nBY AND AMONG \\n[BUYER], \\n[TARGET COMPANY], \\nTHE SELLERS LISTED ON SCHEDULE I HERETO \\nAND  \\nTHE SELLERS ’ REPRESENTATIVE NAMED HEREIN \\nDated as of [●]  \\n \\n[This document is intended solely to facilitate discussions among the parties identified herein.  \\nNeither this document nor such discussions are intended to create, nor will either or both be \\ndeemed to create, a legally binding or enforceable offer or agreement of any type or nature, \\nunless and until a definitive written agreement is executed and delivered by each of th e parties \\nhereto. \\n \\nThis document shall be kept confidential pursuant to the terms of the Confidentiality \\nAgreement entered into by the parties and, if applicable, its affiliates with respect to the subject \\nmatter hereof.]', metadata={'page_number': 0})"
      ]
     },
     "execution_count": 10,
     "metadata": {},
     "output_type": "execute_result"
    }
   ],
   "source": [
    "from pypdf import PdfReader\n",
    "from collections import namedtuple\n",
    "Page = namedtuple(\"Page\", [\"id\", \"page_content\", \"metadata\"])\n",
    "def pdf_reader_to_document_format(file_path):\n",
    "        reader = PdfReader(file_path)\n",
    "        pdf_pages = []\n",
    "        for page_number, page in enumerate(reader.pages):\n",
    "            page_content = page.extract_text().strip()\n",
    "            if page_content:\n",
    "                metadata = {\"page_number\": page_number}  # Add any additional metadata as needed\n",
    "                pdf_pages.append(Page(id=page_number, page_content=page_content, metadata=metadata))\n",
    "        return pdf_pages\n",
    "pdf_pages = pdf_reader_to_document_format(file_path)\n",
    "pdf_pages[0]"
   ]
  },
  {
   "cell_type": "code",
   "execution_count": 86,
   "metadata": {},
   "outputs": [],
   "source": [
    "def chunking_RecursiveCharacterTextSplitter(pdf_doc):\n",
    "        text = '\\n\\n'.join([page.page_content for page in pdf_doc])\n",
    "        text_splitter = RecursiveCharacterTextSplitter(\n",
    "            separators=[\"\\n\\n\", \"\\n\", \" \"],\n",
    "            chunk_size=200,\n",
    "            chunk_overlap=100,\n",
    "            length_function=len,\n",
    "            is_separator_regex=False\n",
    "        )\n",
    "\n",
    "        chunk_list = []\n",
    "        for i, chunk in enumerate(text_splitter.create_documents([text])):\n",
    "            metadata = {\"page_number\": [page.metadata[\"page_number\"] for page in pdf_doc if page.page_content in chunk.page_content]}\n",
    "            chunk_list.append(Document(id=i, page_content=chunk.page_content, metadata=metadata))\n",
    "\n",
    "        return chunk_list\n",
    "\n",
    "tsplit_texts = chunking_RecursiveCharacterTextSplitter(pdf_pages)"
   ]
  },
  {
   "cell_type": "code",
   "execution_count": 5,
   "metadata": {},
   "outputs": [],
   "source": [
    "embedding_function = chom.embedding()"
   ]
  },
  {
   "cell_type": "code",
   "execution_count": 93,
   "metadata": {},
   "outputs": [],
   "source": [
    "import chromadb\n",
    "\n",
    "def connect_with_chromadb(embedding_function, token_split_texts):\n",
    "    chroma_client = chromadb.Client()\n",
    "    chroma_collection = chroma_client.create_collection(\"microsoft_annual_report_cp5\", embedding_function=embedding_function)\n",
    "    text_list = [doc.page_content for doc in token_split_texts]\n",
    "    ids = [str(i) for i in range(len(text_list))]\n",
    "    chroma_collection.add(ids=ids, documents=text_list)\n",
    "    chroma_collection.count()\n",
    "    return chroma_collection"
   ]
  },
  {
   "cell_type": "code",
   "execution_count": null,
   "metadata": {},
   "outputs": [],
   "source": [
    "chroma_collection = connect_with_chromadb(embedding_function, tsplit_texts)\n",
    "# chroma_collection.count()"
   ]
  },
  {
   "cell_type": "code",
   "execution_count": 95,
   "metadata": {},
   "outputs": [],
   "source": [
    "def vectordb_answer_question(query, chroma_collection):\n",
    "    # query = \"What was the total revenue?\"\n",
    "    results = chroma_collection.query(query_texts=[query], n_results=chroma_collection.count())\n",
    "    retrieved_documents = results['documents'][0]\n",
    "    # for document in retrieved_documents:\n",
    "    #     print(document)\n",
    "    #     print('\\n')\n",
    "    return retrieved_documents\n"
   ]
  },
  {
   "cell_type": "markdown",
   "metadata": {},
   "source": [
    "* If the retrieved_documents parameter in the reranker function below is in Document format use this on line 3 of the function code\n",
    "\n",
    "- pairs = [[query_text, doc.page_content] for doc in retrieved_documents]\n",
    "* If the retrieved_documents parameter in the reranker function below is in list format use this on line 3 of the function code\n",
    "\n",
    "- pairs = [[query_text, doc] for doc in retrieved_documents]"
   ]
  },
  {
   "cell_type": "code",
   "execution_count": 105,
   "metadata": {},
   "outputs": [],
   "source": [
    "def reranker(query, retrieved_documents):\n",
    "    cross_encoder = CrossEncoder('cross-encoder/ms-marco-MiniLM-L-6-v2')\n",
    "    query_text = query\n",
    "    \n",
    "    pairs = [[query_text, doc] for doc in retrieved_documents]\n",
    "    \n",
    "    scores = cross_encoder.predict(pairs)\n",
    "    for score in scores:\n",
    "        f\"{score:.2f}\"\n",
    "    ordered_indices = np.argsort(scores)[::-1]\n",
    "    for i in ordered_indices:\n",
    "        f\"{i+1}. {retrieved_documents[i]}\"\n",
    "    top_scored_docs = [retrieved_documents[i] for i in ordered_indices[:15]]\n",
    "\n",
    "    return top_scored_docs"
   ]
  },
  {
   "cell_type": "markdown",
   "metadata": {},
   "source": [
    "## The Rag Generator section"
   ]
  },
  {
   "cell_type": "code",
   "execution_count": 100,
   "metadata": {},
   "outputs": [],
   "source": [
    "def generate_llm_response(question, ranked_docs):\n",
    "    try:\n",
    "        messages = [\n",
    "            {\"role\": \"system\", \"content\": \"You are an AI assistant that provides answers to questions based on the given information.\"},\n",
    "            {\"role\": \"user\", \"content\": f\"Question: {question}. Information: {ranked_docs}\"}\n",
    "        ]\n",
    "\n",
    "        response = openai_client.chat.completions.create(\n",
    "            model=\"gpt-4\",\n",
    "            messages=messages,\n",
    "        )\n",
    "\n",
    "        return response.choices[0].message.content.strip()\n",
    "    except Exception as e:\n",
    "        return f'Error: {str(e)}'  "
   ]
  },
  {
   "cell_type": "markdown",
   "metadata": {},
   "source": [
    "**openai stream response**"
   ]
  },
  {
   "cell_type": "code",
   "execution_count": 78,
   "metadata": {},
   "outputs": [],
   "source": [
    "from openai import ChatCompletion\n",
    "\n",
    "def get_response_stream(question, ranked_docs):\n",
    "    # client = ChatCompletion()\n",
    "    response_stream = openai_client.chat.completions.create(\n",
    "        model=\"gpt-3.5-turbo\",\n",
    "        messages=[{\"role\": \"user\", \"content\": f\"Question: {question}. Information: {ranked_docs}\"}],\n",
    "        temperature=0,\n",
    "        max_tokens=729,\n",
    "        top_p=1,\n",
    "        stream=True,\n",
    "    )\n",
    "    return response_stream\n",
    "\n",
    "import textwrap\n",
    "from IPython.display import display, clear_output, HTML\n",
    "\n",
    "\n",
    "def process_streamed_responses(response_stream):\n",
    "    response_text = \"\"\n",
    "    for chunk in response_stream:\n",
    "        chunk_message = chunk.choices[0].delta.content\n",
    "        if chunk_message is not None:  # Check if chunk_message is not None\n",
    "            response_text += chunk_message\n",
    "        is_complete = chunk.choices[0].finish_reason is not None\n",
    "        wrapped_text = textwrap.fill(response_text, width=80)  \n",
    "        clear_output(wait=True)\n",
    "        display(HTML(f\"<div style='text-align: left;'><pre>{wrapped_text}</pre></div>\"))\n",
    "        if is_complete:\n",
    "            break\n",
    "    return response_text\n",
    "\n",
    "\n",
    "def main(query, ranked_docs):\n",
    "    stream = get_response_stream(query, ranked_docs)\n",
    "    text =  process_streamed_responses(stream)\n",
    "    return text\n"
   ]
  },
  {
   "cell_type": "code",
   "execution_count": 107,
   "metadata": {},
   "outputs": [
    {
     "data": {
      "text/plain": [
       "2333"
      ]
     },
     "execution_count": 107,
     "metadata": {},
     "output_type": "execute_result"
    }
   ],
   "source": [
    "# query = \"Under what circumstances and to what extent the Sellers are responsible for a breach of representations and warranties?\"\n",
    "query = \"Is the escrow amount greater than the retention amount?\"\n",
    "# query =\"Who are the parties to the Agreement and what are their defined names?\"\n",
    "# query = \"Is there a non-compete obligation to the Advisor?\"\n",
    "# query = \"In which street does the Advisor live?\"\n",
    "retrieved_documents = vectordb_answer_question(query, chroma_collection)\n",
    "len(retrieved_documents)"
   ]
  },
  {
   "cell_type": "code",
   "execution_count": 108,
   "metadata": {},
   "outputs": [
    {
     "data": {
      "text/html": [
       "<div style='text-align: left;'><pre>Based on the information provided, the escrow amount is $1,000,000 and the\n",
       "retention amount is $5,000,000. Therefore, the escrow amount is not greater than\n",
       "the retention amount.</pre></div>"
      ],
      "text/plain": [
       "<IPython.core.display.HTML object>"
      ]
     },
     "metadata": {},
     "output_type": "display_data"
    },
    {
     "name": "stdout",
     "output_type": "stream",
     "text": [
      "Based on the information provided, the escrow amount is $1,000,000 and the retention amount is $5,000,000. Therefore, the escrow amount is not greater than the retention amount.\n"
     ]
    }
   ],
   "source": [
    "top_docs = reranker(query, retrieved_documents)\n",
    "output_answer = main(query, top_docs)\n",
    "# output_answer = generate_llm_response(query, top_docs)\n",
    "print(output_answer)"
   ]
  },
  {
   "cell_type": "markdown",
   "metadata": {},
   "source": [
    "**CREATING THE EVALUATION DATA**"
   ]
  },
  {
   "cell_type": "code",
   "execution_count": 113,
   "metadata": {},
   "outputs": [
    {
     "name": "stdout",
     "output_type": "stream",
     "text": [
      "('The Sellers are responsible for a breach of representations and warranties '\n",
      " 'under the circumstance that any of its Affiliates or its or its Affiliates’ '\n",
      " 'Representatives violate the provisions of Section 6.05(a). Each Seller is '\n",
      " 'severally responsible, meaning not jointly, for their individual conduct. '\n",
      " 'The extent of their responsibility includes any Liability required to be '\n",
      " 'disclosed on Schedule 4.06. In addition, responsibility can also extend to '\n",
      " 'any breach under Government Orders affecting the Seller or its properties. '\n",
      " 'Nevertheless, the Sellers’ Representative is not liable for these actions or '\n",
      " 'omissions unless in the case of gross negligence, bad faith, or willful '\n",
      " 'misconduct. Cooperation and non-disclosure following the Closing Date are '\n",
      " 'also expected from the Sellers.')\n",
      "('The provided information does not offer a definitive answer to the question '\n",
      " 'of whether the Sellers would be responsible for inaccuracies in their '\n",
      " 'representations due to gross negligence after closing. However, the data '\n",
      " 'suggests that some agreements to be performed after closing will survive the '\n",
      " 'closing, and that nothing in the agreement will constitute a release by any '\n",
      " 'Seller of any right or entitlement. Therefore, depending on the specifics of '\n",
      " 'the agreement, the Sellers might bear some responsibility for inaccuracies '\n",
      " 'resulting from their gross negligence, but it is not explicitly stated.')\n",
      "'The escrow amount is $1,000,000.'\n",
      "('No, the escrow amount is not greater than the Retention Amount. The escrow '\n",
      " 'amount is $1,000,000 and the Retention Amount is $5,000,000.')\n",
      "('The purpose of the escrow is to hold funds that are used to satisfy the '\n",
      " 'obligations of the company. These funds are kept in an Escrow Account and '\n",
      " 'are managed according to the terms specified in the Escrow Agreement. The '\n",
      " 'funds can also be used for the obligations of the Company Securityholders if '\n",
      " 'necessary. When disputes are resolved, instructions can be given to the '\n",
      " 'Escrow Agent to disburse the necessary funds according to the Escrow '\n",
      " 'Agreement.')\n",
      "('Yes, the Escrow Amount may serve as a recourse for the Buyer in case of a '\n",
      " 'breach of representations by the Company. The information indicates that '\n",
      " \"recovery from the Escrow Amount shall constitute the Buyer's exclusive \"\n",
      " 'remedy against the Company Securityholders in connection with any claim '\n",
      " 'relating to any adjustments of the provisions of this Agreement.')\n",
      "('Yes, there are conditions to the closing. These conditions include that the '\n",
      " 'Buyer has to deliver specific documents and also has to use commercially '\n",
      " 'reasonable efforts to waive any pre-existing condition exclusions and ensure '\n",
      " 'that any covered expenses incurred on or before the Closing Date by any '\n",
      " 'Acquired Companies’ employee or a covered dependent are taken into '\n",
      " 'consideration. The Sellers are required to sell, transfer, and deliver '\n",
      " 'specific items according to the terms and conditions set forth in the '\n",
      " 'Agreement. The levels of coverage, terms, and conditions provided by the '\n",
      " 'buyer should be at least as favorable to such Person as the directors’ and '\n",
      " 'officers’ liability. These conditions must be met before, on, or after the '\n",
      " 'Closing Date as specified in the agreement.')\n",
      "('Yes, based on the provided information, Change of Control Payments are '\n",
      " 'considered a part of the Seller Transaction Expenses.')\n",
      "('Based on the provided information, it can be deduced that the aggregate '\n",
      " 'amount payable by the Buyer to the Sellers would likely be affected if it is '\n",
      " 'determined that the actual Closing Debt Amount is greater than the estimated '\n",
      " \"Closing Debt Amount. This is implied in the text's emphasis on Purchase \"\n",
      " 'Price Adjustment, the concept of estimated amounts used to derive the '\n",
      " 'Purchase Price, and the provisions for final determinations of variables '\n",
      " 'like the Closing Debt Amount. Changes to the actual amounts as compared to '\n",
      " 'estimated amounts would likely incur adjustments to the total amount '\n",
      " 'payable.')\n",
      "('No, the Buyer does not need to pay the Employees Closing Bonus Amount '\n",
      " \"directly to the Company's employees. Instead, the Buyer should deposit the \"\n",
      " 'Employee Closing Bonus Amount with the Company. The Company then pays the '\n",
      " 'amount through its payroll system to each Employee Closing Bonus '\n",
      " 'Beneficiary.')\n",
      "('Based on the given information, it is not explicitly stated whether the '\n",
      " 'Sellers provide a representation with respect to any Tax matters related to '\n",
      " 'the Company. However, it does mention \"connection with any Tax matters '\n",
      " 'relating to the Acquired Companies\" and an indirect implication about the '\n",
      " 'Sellers\\' cooperation on Tax Matters. There\\'s also a note that \"Tax related '\n",
      " 'reps and provisions are subject to Company\\'s tax advisors’ review\". But an '\n",
      " 'explicit representation on tax matters by the Sellers related to the Company '\n",
      " 'is not clearly specified.')\n",
      "('Based on the provided information, the sellers are bound by a '\n",
      " 'non-competition covenant after the closing. This is evidenced by the '\n",
      " 'information saying, \"For a period of 12 months from and after the Closing '\n",
      " 'Date (the “Restricted Period ”), the Sellers shall not, and shall not '\n",
      " 'permit, cause or encourage any of their Affiliates to,\".')\n",
      "('The consent required for the assignment of the Agreement by the Buyer comes '\n",
      " \"from the Buyer, the Company, and the Sellers' Representative.\")\n",
      "('Based on the provided information, it is not clearly stated whether the '\n",
      " \"buyer needs the sellers' consent in the event of an assignment of the \"\n",
      " \"agreement to a third party who is not a buyer's affiliates. The only related \"\n",
      " 'information available states that the buyer may assign this agreement, but '\n",
      " \"doesn't specify if seller's consent is required in that case.\")\n"
     ]
    }
   ],
   "source": [
    "import pandas as pd\n",
    "import pprint\n",
    "evaluation = pd.read_csv('../data/RaptorQA.csv')\n",
    "\n",
    "answers = []\n",
    "contexts = []\n",
    "for question in evaluation['question']:\n",
    "    docs = reranker(question, retrieved_documents)\n",
    "    answer = generate_llm_response(question, docs)\n",
    "    pprint.pp(answer)\n",
    "    answers.append(answer)\n",
    "    \n",
    "    context = [doc for doc in docs]\n",
    "    contexts.append(context)\n",
    "\n",
    "evaluation['answer'] = answers\n",
    "evaluation['contexts'] = contexts\n",
    "# evaluation.head()\n",
    "evaluation.to_csv('../data/evaluation_data/updated_raptor_crossendoderReranker_evaluation.csv', index=False)"
   ]
  }
 ],
 "metadata": {
  "kernelspec": {
   "display_name": "Python 3",
   "language": "python",
   "name": "python3"
  },
  "language_info": {
   "codemirror_mode": {
    "name": "ipython",
    "version": 3
   },
   "file_extension": ".py",
   "mimetype": "text/x-python",
   "name": "python",
   "nbconvert_exporter": "python",
   "pygments_lexer": "ipython3",
   "version": "3.10.12"
  }
 },
 "nbformat": 4,
 "nbformat_minor": 2
}
