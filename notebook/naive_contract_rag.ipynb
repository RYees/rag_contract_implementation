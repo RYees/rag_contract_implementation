{
 "cells": [
  {
   "cell_type": "code",
   "execution_count": 83,
   "metadata": {},
   "outputs": [],
   "source": [
    "import warnings\n",
    "warnings.filterwarnings(\"ignore\")"
   ]
  },
  {
   "cell_type": "code",
   "execution_count": 84,
   "metadata": {},
   "outputs": [],
   "source": [
    "#!pip install chromadb\n",
    "#!pip install sentence-transformers\n",
    "#!pip install langchain openai"
   ]
  },
  {
   "cell_type": "code",
   "execution_count": 85,
   "metadata": {},
   "outputs": [],
   "source": [
    "import matplotlib.pyplot as plt"
   ]
  },
  {
   "cell_type": "code",
   "execution_count": 86,
   "metadata": {},
   "outputs": [],
   "source": [
    "import os, sys\n",
    "rpath = os.path.abspath('..')\n",
    "if rpath not in sys.path:\n",
    "    sys.path.insert(0, rpath)\n",
    "\n",
    "import utils.chroma as chom"
   ]
  },
  {
   "cell_type": "markdown",
   "metadata": {},
   "source": [
    "## Naive Retriever"
   ]
  },
  {
   "cell_type": "code",
   "execution_count": 87,
   "metadata": {},
   "outputs": [
    {
     "data": {
      "text/plain": [
       "'ADVISORY SERVICES AGREEMENT \\n \\nThis Advisory Services Agreement is entered into as of June 15th, 2023 (the “Effective Date ”), by and \\nbetween Cloud Investments Ltd., ID 51-426526-3, an Israeli company (the \" Company \"), and Mr. Jack \\nRobinson, Passport Number 780055578, residing at 1 Rabin st, Tel Aviv, Israel, Email: \\njackrobinson@gmail.com (\"Advisor \"). \\n \\nWhereas, Advisor has expertise and/or knowledge and/or relationships, which are relevant to the \\nCompany ’s business and the Company has asked Advisor to provide it with certain Advisory \\nservices, as described in this Agreement; and \\nWhereas,  Advisor has agreed to provide the Company with such services, subject to the terms set forth \\nin this Agreement. \\n \\nNOW THEREFORE THE PARTIES AGREE AS FOLLOWS: \\n \\n1. Services:   \\n1.1 Advisor shall provide to the Company, as an independent contractor, software development \\nservices, and / or any other services as agreed by the parties from time to time (the “Services ”). \\nAdvisor shall not appoint any sub-agents or delegates in connection with performance of the \\nServices, nor assign any of his obligations or rights hereunder without obtaining the prior written \\nconsent of the Company.  \\nWithout derogating from the foregoing, the Advisor shall not be required to provide the Services \\nfor a period of eighteen (18) days in each 12-month period.  \\n1.2 In performing the Services, Advisor shall devote his time, know-how, expertise, talent, \\nexperience and best efforts and attention to the provision of the Services, as shall be reasonably \\nrequired by the Company . Advisor shall render the Services in a diligent manner and at a high \\nprofessional standard for the benefit of the Company and shall perform and discharge well and \\nfaithfully, with devotion, honesty and fidelity, his obligations hereunder.  \\n1.3 Advisor further agrees and undertakes to (i) comply with all the Company\\'s policies, procedures \\nand objectives, as in effect from time to time; (ii) adhere to any applicable law or provision, \\npertaining to his services; (iii) not take any action with the intention that the same will cause \\nmaterial damage to the good name of the Company; (iv) keep the contents of this Agreement \\nconfidential and not to disclose the existence or contents of this Agreement to any third party \\nwithout the prior written consent of the Company. \\n \\n2. Time Tracking:  Advisor shall provide the Company with a written report, in a format acceptable by \\nthe Company, setting forth the number of hours in which he provided the Services, on a daily basis, as \\nwell as an aggregated monthly report at the last day of each calendar month. \\n3. No Conflicts: Advisor represents that there is no contractual or other legal restriction preventing or \\nlimiting him/her from entering into this Agreement or performing any of his/her obligations \\nhereunder. Advisor shall immediately and without delay inform the Company of any affairs and/or \\nmatters that might constitute a conflict of interest with his/her services to Company and/or the \\ninterests of the Company. Advisor agrees to indemnify, defend and hold harmless the Company and \\nits directors, officers and employees against all claims, liabilities, and costs, including reasonable \\nattorneys\\' fees in connection with any breach by Advisor, of any obligations pursuant to a prior or \\nexisting engagement with any other third party, including without limitation other employers or \\nclients.'"
      ]
     },
     "execution_count": 87,
     "metadata": {},
     "output_type": "execute_result"
    }
   ],
   "source": [
    "file_path = '../data/RobinsonAdvisory.pdf'\n",
    "pdftexts = chom.pdf_reader(file_path)\n",
    "pdftexts[0]"
   ]
  },
  {
   "cell_type": "code",
   "execution_count": 88,
   "metadata": {},
   "outputs": [
    {
     "name": "stdout",
     "output_type": "stream",
     "text": [
      "\n",
      "Total chunks: 17\n"
     ]
    }
   ],
   "source": [
    "character_split_texts = chom.text_splitter_chunks(pdftexts)\n",
    "# print(character_split_texts[10])\n",
    "print(f\"\\nTotal chunks: {len(character_split_texts)}\")"
   ]
  },
  {
   "cell_type": "code",
   "execution_count": 89,
   "metadata": {},
   "outputs": [
    {
     "name": "stdout",
     "output_type": "stream",
     "text": [
      "\n",
      "Total chunks: 17\n"
     ]
    }
   ],
   "source": [
    "token_split_texts = chom.sentence_transfomer_textsplitter(character_split_texts)\n",
    "# print(token_split_texts[10])\n",
    "print(f\"\\nTotal chunks: {len(token_split_texts)}\")"
   ]
  },
  {
   "cell_type": "code",
   "execution_count": 90,
   "metadata": {},
   "outputs": [],
   "source": [
    "from langchain.embeddings.openai import OpenAIEmbeddings\n",
    "embed_model = OpenAIEmbeddings(model=\"text-embedding-ada-002\")\n",
    "\n",
    "embedding_fun = []\n",
    "embedded_document = embed_model.embed_documents(token_split_texts)\n",
    "embedding_fun.append(embedded_document)"
   ]
  },
  {
   "cell_type": "code",
   "execution_count": 91,
   "metadata": {},
   "outputs": [],
   "source": [
    "embedding_function = chom.embedding(token_split_texts)\n",
    "# print(embedding_function([token_split_texts[10]]))"
   ]
  },
  {
   "cell_type": "code",
   "execution_count": 92,
   "metadata": {},
   "outputs": [],
   "source": [
    "import chromadb\n",
    "def connect_with_chromadb(embedding_function, token_split_texts):\n",
    "    chroma_client = chromadb.Client()\n",
    "    chroma_collection = chroma_client.create_collection(\"microsoft_annual_report_l22\", embedding_function=embedding_function)\n",
    "\n",
    "    ids = [str(i) for i in range(len(token_split_texts))]\n",
    "\n",
    "    chroma_collection.add(ids=ids, documents=token_split_texts)\n",
    "    chroma_collection.count()\n",
    "    return chroma_collection"
   ]
  },
  {
   "cell_type": "code",
   "execution_count": 93,
   "metadata": {},
   "outputs": [],
   "source": [
    "chroma_collection = connect_with_chromadb(embedding_function, token_split_texts)\n",
    "# chroma_collection.count()"
   ]
  },
  {
   "cell_type": "code",
   "execution_count": 94,
   "metadata": {},
   "outputs": [
    {
     "name": "stdout",
     "output_type": "stream",
     "text": [
      "The payments to the Advisor under the Agreement consist of salary payments and 40% for statutory rights and benefits, with potential deductions for any amounts due, but may change in case of an employer-employee relationship determination.\n"
     ]
    }
   ],
   "source": [
    "query = \"What are the payments to the Advisor under the Agreement?\"\n",
    "retrieved_documents = chom.vectordb_answer_question(query, chroma_collection)\n",
    "output_answer = chom.openai_model_answer(query=query, retrieved_documents=retrieved_documents)\n",
    "print(output_answer)"
   ]
  },
  {
   "cell_type": "markdown",
   "metadata": {},
   "source": [
    "# UMAP"
   ]
  },
  {
   "cell_type": "code",
   "execution_count": 95,
   "metadata": {},
   "outputs": [],
   "source": [
    "# !pip install umap-learn"
   ]
  },
  {
   "cell_type": "code",
   "execution_count": 96,
   "metadata": {},
   "outputs": [],
   "source": [
    "import umap\n",
    "import numpy as np\n",
    "from tqdm import tqdm\n",
    "\n",
    "embeddings = chroma_collection.get(include=['embeddings'])['embeddings']\n",
    "umap_transform = umap.UMAP(random_state=0, transform_seed=0).fit(embeddings)"
   ]
  },
  {
   "cell_type": "code",
   "execution_count": 97,
   "metadata": {},
   "outputs": [],
   "source": [
    "def project_embeddings(embeddings, umap_transform):\n",
    "    umap_embeddings = np.empty((len(embeddings),2))\n",
    "    for i, embedding in enumerate(tqdm(embeddings)): \n",
    "        umap_embeddings[i] = umap_transform.transform([embedding])\n",
    "    return umap_embeddings   "
   ]
  },
  {
   "cell_type": "code",
   "execution_count": 98,
   "metadata": {},
   "outputs": [
    {
     "name": "stderr",
     "output_type": "stream",
     "text": [
      "100%|██████████| 17/17 [00:10<00:00,  1.64it/s]\n"
     ]
    }
   ],
   "source": [
    "projected_dataset_embeddings = project_embeddings(embeddings, umap_transform)"
   ]
  },
  {
   "cell_type": "code",
   "execution_count": 99,
   "metadata": {},
   "outputs": [
    {
     "data": {
      "text/plain": [
       "(-4.462840829417109,\n",
       " 0.3433709111064672,\n",
       " 14.068113040924072,\n",
       " 19.118206310272218)"
      ]
     },
     "execution_count": 99,
     "metadata": {},
     "output_type": "execute_result"
    },
    {
     "data": {
      "image/png": "[encoded data removed]",
      "text/plain": [
       "<Figure size 640x480 with 1 Axes>"
      ]
     },
     "metadata": {},
     "output_type": "display_data"
    }
   ],
   "source": [
    "plt.figure()\n",
    "plt.scatter(projected_dataset_embeddings[:, 0], projected_dataset_embeddings[:, 1], s=10)\n",
    "plt.gca().set_aspect('equal', 'datalim')\n",
    "plt.title('Projected Embeddings')\n",
    "plt.axis('off')"
   ]
  },
  {
   "cell_type": "markdown",
   "metadata": {},
   "source": [
    "# Relevancy and Distraction"
   ]
  },
  {
   "cell_type": "code",
   "execution_count": 100,
   "metadata": {},
   "outputs": [
    {
     "name": "stdout",
     "output_type": "stream",
     "text": [
      "providing the company a prompt written notice and subject to promptl y cooperate with the company in seeking a protective order. 3. safeguard : the advisor shall safeguard the confidential information, keep it in strict confidence and shall not disclose it to any third party without the prior written consent of the company. 4. ip : any work product, upon creation, shall be fully and exclusivel y owned by the company. the advisor, immediately upon company ’ s request, shall sign any document and / or perform any action neede d to formalize such ownership. the advisor shall not obtain any righ ts in the work product, including moral rights and / or rights for royalties or ot her consideration under any applicable law ( including section 134 of the israeli patent law – 1967 if applicable ), and shall not be entitled to any compe nsation with respect to the services, which was not specifically agreed, in writing, between the advisor and the comp any.\n",
      "\n",
      "7. third parties : the advisor represents that the performance of the services and the terms of this undertaking, do not and will not breach any right, contractual or other, of any employer, customer or other third party. advisor acknowledges that the company is relying upon the truthfulness and accuracy of such representations in engaging with the advisor. advisor specifically undertakes not to use any proprietary and / or confidential information belonging to the advisor and / or any third party while performing the services and in case any advisor proprietary or confidential information is used, such information will be automatically assigned to the company and become its fu ll and exclusive property. 8. jurisdiction : this undertaking shall be governed by and construed in accordance with the laws of the state of israel, without giving effect\n",
      "\n",
      "5. non - compete : during the term of engagement with the company and for a period of 12 months thereafter, advisor shall not be involved, as an employee, owner, contractor or otherwise, in any business, which competes with the company ’ s business, and shall not solicit and / or hire any employee and / or service provider of the company, without the prior written consent of the company. 6. personnel : the advisor may provide the services only directly or through employees, contractors or agents ( “ personnel ” ), which were specifically approved by the company, and have committed in writ ing to confidentiality and ownership rights towards the advisor and / or the company, in a form restrictive enough to allow advisor to comply and enforce the commitments under this undertaking ( “ authorized personnel ” ). without limiting the foregoing, the advisor is liable hereunder for any breach of this undertaking by any advisor personne l.\n",
      "\n",
      "confidentiality, non - competition and ip ownership undertaking in the form attached hereto as exhibit a. 8. relationship of the parties ; indemnification : the sole relationship between the company and the advisor shall be that of independent contractors. advisor shall not be deemed to be, nor treated by the company as, an employee of the company. advisor shall not receive nor be entitled to overtime pay, insurance, paid vacation, severance payments or similar fringe or employment benefits from the company. without derogating from the above, if it is adjudicated or otherwise determined by any governmental authority that the advisor and / or anyone on advisor's behalf, is, regardless of the terms of this agreement, an employee of the company, then payments to advisor hereunder shall be reduced effective retroactively as of the beginning of the term so that 60 % of such payments sha ll\n",
      "\n",
      "this agreement may not be assigned, sold, delegated or transferred in any manner by advisor for any reason whatsoever. the company may assign the agreement to a successor of all or substantially all of its assets or business, provided the assignee has assumed the company ’ s obligations under this agreement. 10. governing law and jurisdiction : this agreement shall be governed by the laws of the state of israel, without giving effect to the rules respecting conflicts of laws. the parties consent to the exclusive jurisdiction and venue of tel aviv courts for any lawsuit filed arising from or relating to this agreement. 11. notices : notices under this agreement shall be delivered to the party ’ s email address as follows : company : info @ cloudcorp. com, advisor : jackrobinson @ gmail. com, or in any the other means with a proof of acceptance by the other party. in witness whereof the parties have executed this agreement as of the date first above written.\n",
      "\n"
     ]
    }
   ],
   "source": [
    "query = \"Under what circumstances and to what extent the Sellers are responsible for a breach of representations and warranties?\"\n",
    "\n",
    "results = chroma_collection.query(query_texts=query, n_results=5, include=['documents', 'embeddings'])\n",
    "\n",
    "retrieved_documents = results['documents'][0]\n",
    "\n",
    "for document in results['documents'][0]:\n",
    "    print(document)\n",
    "    print('')"
   ]
  },
  {
   "cell_type": "code",
   "execution_count": 101,
   "metadata": {},
   "outputs": [
    {
     "name": "stdout",
     "output_type": "stream",
     "text": [
      "Sellers are responsible for breach of representations and warranties if they fail to provide prompt written notices and cooperate to seek protective orders as per agreement terms.\n"
     ]
    }
   ],
   "source": [
    "output_answer = chom.openai_model_answer(query=query, retrieved_documents=retrieved_documents)\n",
    "print(output_answer)"
   ]
  },
  {
   "cell_type": "code",
   "execution_count": 102,
   "metadata": {},
   "outputs": [
    {
     "name": "stderr",
     "output_type": "stream",
     "text": [
      "100%|██████████| 1/1 [00:00<00:00,  1.70it/s]\n",
      "100%|██████████| 5/5 [00:03<00:00,  1.61it/s]\n"
     ]
    }
   ],
   "source": [
    "query_embedding = embedding_function([query])[0]\n",
    "retrieved_embeddings = results['embeddings'][0]\n",
    "\n",
    "projected_query_embedding = project_embeddings([query_embedding], umap_transform)\n",
    "projected_retrieved_embeddings = project_embeddings(retrieved_embeddings, umap_transform)"
   ]
  },
  {
   "cell_type": "code",
   "execution_count": 103,
   "metadata": {},
   "outputs": [
    {
     "data": {
      "text/plain": [
       "(-4.462840829417109,\n",
       " 0.3433709111064672,\n",
       " 14.068113040924072,\n",
       " 19.118206310272218)"
      ]
     },
     "execution_count": 103,
     "metadata": {},
     "output_type": "execute_result"
    },
    {
     "data": {
      "image/png": "[encoded data removed]",
      "text/plain": [
       "<Figure size 640x480 with 1 Axes>"
      ]
     },
     "metadata": {},
     "output_type": "display_data"
    }
   ],
   "source": [
    "# Plot the projected query and retrieved documents in the embedding space\n",
    "plt.figure()\n",
    "plt.scatter(projected_dataset_embeddings[:, 0], projected_dataset_embeddings[:, 1], s=10, color='gray')\n",
    "plt.scatter(projected_query_embedding[:, 0], projected_query_embedding[:, 1], s=150, marker='X', color='r')\n",
    "plt.scatter(projected_retrieved_embeddings[:, 0], projected_retrieved_embeddings[:, 1], s=100, facecolors='none', edgecolors='g')\n",
    "\n",
    "plt.gca().set_aspect('equal', 'datalim')\n",
    "plt.title(f'{query}')\n",
    "plt.axis('off')"
   ]
  },
  {
   "cell_type": "code",
   "execution_count": 104,
   "metadata": {},
   "outputs": [
    {
     "name": "stdout",
     "output_type": "stream",
     "text": [
      "- 2 - 4. term : the term of this agreement shall commence on the effective date and shall continue until terminated in accordance with the provisions herein ( the \" term \" ). 5. termination : either party, at any given time, may terminate this agreement, for any reason whatsoever, with or without cause, upon fourteen ( 14 ) days ’ prior written notice. notwithstanding the above, the company may terminate this agreement immediately and without prior notice if advisor refuses or is unable to perform the services, or is in breach of any provision of this agreement. 6. compensation : 6. 1 as full and sole consideration for the services, and subject to the performance of the services, the company shall pay the advisor, against an invoice provided to the company by advisor, hourly fees at a rate of usd 9 ( nine ) per billable hour as defined below, limited to a maximum of usd 1, 500 per month ( the \" fees \" ). in addition, the company shall pay the advisor usd 100\n",
      "\n",
      "this agreement may not be assigned, sold, delegated or transferred in any manner by advisor for any reason whatsoever. the company may assign the agreement to a successor of all or substantially all of its assets or business, provided the assignee has assumed the company ’ s obligations under this agreement. 10. governing law and jurisdiction : this agreement shall be governed by the laws of the state of israel, without giving effect to the rules respecting conflicts of laws. the parties consent to the exclusive jurisdiction and venue of tel aviv courts for any lawsuit filed arising from or relating to this agreement. 11. notices : notices under this agreement shall be delivered to the party ’ s email address as follows : company : info @ cloudcorp. com, advisor : jackrobinson @ gmail. com, or in any the other means with a proof of acceptance by the other party. in witness whereof the parties have executed this agreement as of the date first above written.\n",
      "\n",
      "- 3 - constitute salary payments, and 40 % of such payments shall constitute payment by the company for all other advisor statutory rights and benefits as employee of the company throughout the term. advisor further consents that the compan y may offset any amounts due to him under this section from any amounts payable to advisor under this agreement. advisor shall indemnify the company for any loss or expenses incurred by the company if it were determined that an alleged employer / employee relationship existed between the advisor and the company. 9. entire agreement ; no waiver or assignment : this agreement together with the exhibits, which are attached hereto and incorporated herein, set forth the entire agreement between the pa rties and shall supersede all previous communications and agreements between the parties, either oral or written. this agreement may be modified only by a written amendment executed by both parties.\n",
      "\n",
      "subject to company's prior written consent for each specific expense, before advisor incurs such expenses. as a condition to reimbursement, advisor shall provide the company with copies of all invoices, receipts and other evidence of expenditures as required by company policy. 6. 4 advisor shall be solely responsible for any income taxes or other assessments made or imposed by any governmental authority on advisor with respect to the services rendered and the compensation received hereunder, and any and all expenses and costs of himself, employees, agents and representatives, including, without limitation, any salary, overtime, severance or social benefits payable thereto, and marketing costs incurred in connection with the performance of obligations hereunder. 7. confidentiality, non - competition and ip ownership undertaking : in connection with the performance of advisor ’ s obligations under this agreement, the advisor shall execute a\n",
      "\n",
      "per month to finance a workspace for the advisor, as long as the advisor actually hires a professional workspace ( the “ workspace expense ” ). advisor will not be entitled to any additional fees or expense reimbursement whatsoever, except as expressly provided for in this agreement. billable hour : net time devoted to the provisioning of the services, without calculating meals, travels or any other overhead time borne by the advisor. 6. 2 the fees and the workspace expense for each month shall be payable by no later than ten ( 10 ) days from the beginning of the following month, against receipt by the company of a duly issued tax invoice. 6. 3 in addition, the company shall reimburse advisor for any reasonable and actual expenses incurred by the advisor in connection with the performance of the services, all in accordance with the company ’ s policies as determined by the board of directors from time to time, and\n",
      "\n"
     ]
    }
   ],
   "source": [
    "query = \"How much is the escrow amount in value?\"\n",
    "results = chroma_collection.query(query_texts=query, n_results=5, include=['documents', 'embeddings'])\n",
    "\n",
    "retrieved_documents = results['documents'][0]\n",
    "\n",
    "for document in results['documents'][0]:\n",
    "    print(document)\n",
    "    print('')"
   ]
  },
  {
   "cell_type": "code",
   "execution_count": 105,
   "metadata": {},
   "outputs": [
    {
     "name": "stdout",
     "output_type": "stream",
     "text": [
      "The value of the escrow amount is not provided in the information given.\n"
     ]
    }
   ],
   "source": [
    "output_answer = chom.openai_model_answer(query=query, retrieved_documents=retrieved_documents)\n",
    "print(output_answer)"
   ]
  },
  {
   "cell_type": "code",
   "execution_count": 106,
   "metadata": {},
   "outputs": [
    {
     "name": "stderr",
     "output_type": "stream",
     "text": [
      "100%|██████████| 1/1 [00:00<00:00,  1.71it/s]\n",
      "100%|██████████| 5/5 [00:03<00:00,  1.63it/s]\n"
     ]
    }
   ],
   "source": [
    "query_embedding = embedding_function([query])[0]\n",
    "retrieved_embeddings = results['embeddings'][0]\n",
    "\n",
    "projected_query_embedding = project_embeddings([query_embedding], umap_transform)\n",
    "projected_retrieved_embeddings = project_embeddings(retrieved_embeddings, umap_transform)"
   ]
  },
  {
   "cell_type": "code",
   "execution_count": 107,
   "metadata": {},
   "outputs": [
    {
     "data": {
      "text/plain": [
       "(-4.462840829417109,\n",
       " 0.3433709111064672,\n",
       " 14.068113040924072,\n",
       " 19.118206310272218)"
      ]
     },
     "execution_count": 107,
     "metadata": {},
     "output_type": "execute_result"
    },
    {
     "data": {
      "image/png": "[encoded data removed]",
      "text/plain": [
       "<Figure size 640x480 with 1 Axes>"
      ]
     },
     "metadata": {},
     "output_type": "display_data"
    }
   ],
   "source": [
    "# Plot the projected query and retrieved documents in the embedding space\n",
    "plt.figure()\n",
    "plt.scatter(projected_dataset_embeddings[:, 0], projected_dataset_embeddings[:, 1], s=10, color='gray')\n",
    "plt.scatter(projected_query_embedding[:, 0], projected_query_embedding[:, 1], s=150, marker='X', color='r')\n",
    "plt.scatter(projected_retrieved_embeddings[:, 0], projected_retrieved_embeddings[:, 1], s=100, facecolors='none', edgecolors='g')\n",
    "\n",
    "plt.gca().set_aspect('equal', 'datalim')\n",
    "plt.title(f'{query}')\n",
    "plt.axis('off')"
   ]
  },
  {
   "cell_type": "code",
   "execution_count": 108,
   "metadata": {},
   "outputs": [
    {
     "name": "stdout",
     "output_type": "stream",
     "text": [
      "- 2 - 4. term : the term of this agreement shall commence on the effective date and shall continue until terminated in accordance with the provisions herein ( the \" term \" ). 5. termination : either party, at any given time, may terminate this agreement, for any reason whatsoever, with or without cause, upon fourteen ( 14 ) days ’ prior written notice. notwithstanding the above, the company may terminate this agreement immediately and without prior notice if advisor refuses or is unable to perform the services, or is in breach of any provision of this agreement. 6. compensation : 6. 1 as full and sole consideration for the services, and subject to the performance of the services, the company shall pay the advisor, against an invoice provided to the company by advisor, hourly fees at a rate of usd 9 ( nine ) per billable hour as defined below, limited to a maximum of usd 1, 500 per month ( the \" fees \" ). in addition, the company shall pay the advisor usd 100\n",
      "\n",
      "- 3 - constitute salary payments, and 40 % of such payments shall constitute payment by the company for all other advisor statutory rights and benefits as employee of the company throughout the term. advisor further consents that the compan y may offset any amounts due to him under this section from any amounts payable to advisor under this agreement. advisor shall indemnify the company for any loss or expenses incurred by the company if it were determined that an alleged employer / employee relationship existed between the advisor and the company. 9. entire agreement ; no waiver or assignment : this agreement together with the exhibits, which are attached hereto and incorporated herein, set forth the entire agreement between the pa rties and shall supersede all previous communications and agreements between the parties, either oral or written. this agreement may be modified only by a written amendment executed by both parties.\n",
      "\n",
      "per month to finance a workspace for the advisor, as long as the advisor actually hires a professional workspace ( the “ workspace expense ” ). advisor will not be entitled to any additional fees or expense reimbursement whatsoever, except as expressly provided for in this agreement. billable hour : net time devoted to the provisioning of the services, without calculating meals, travels or any other overhead time borne by the advisor. 6. 2 the fees and the workspace expense for each month shall be payable by no later than ten ( 10 ) days from the beginning of the following month, against receipt by the company of a duly issued tax invoice. 6. 3 in addition, the company shall reimburse advisor for any reasonable and actual expenses incurred by the advisor in connection with the performance of the services, all in accordance with the company ’ s policies as determined by the board of directors from time to time, and\n",
      "\n",
      "this agreement may not be assigned, sold, delegated or transferred in any manner by advisor for any reason whatsoever. the company may assign the agreement to a successor of all or substantially all of its assets or business, provided the assignee has assumed the company ’ s obligations under this agreement. 10. governing law and jurisdiction : this agreement shall be governed by the laws of the state of israel, without giving effect to the rules respecting conflicts of laws. the parties consent to the exclusive jurisdiction and venue of tel aviv courts for any lawsuit filed arising from or relating to this agreement. 11. notices : notices under this agreement shall be delivered to the party ’ s email address as follows : company : info @ cloudcorp. com, advisor : jackrobinson @ gmail. com, or in any the other means with a proof of acceptance by the other party. in witness whereof the parties have executed this agreement as of the date first above written.\n",
      "\n",
      "subject to company's prior written consent for each specific expense, before advisor incurs such expenses. as a condition to reimbursement, advisor shall provide the company with copies of all invoices, receipts and other evidence of expenditures as required by company policy. 6. 4 advisor shall be solely responsible for any income taxes or other assessments made or imposed by any governmental authority on advisor with respect to the services rendered and the compensation received hereunder, and any and all expenses and costs of himself, employees, agents and representatives, including, without limitation, any salary, overtime, severance or social benefits payable thereto, and marketing costs incurred in connection with the performance of obligations hereunder. 7. confidentiality, non - competition and ip ownership undertaking : in connection with the performance of advisor ’ s obligations under this agreement, the advisor shall execute a\n",
      "\n"
     ]
    }
   ],
   "source": [
    "query = \"How much is the escrow amount?\"\n",
    "results = chroma_collection.query(query_texts=query, n_results=5, include=['documents', 'embeddings'])\n",
    "\n",
    "retrieved_documents = results['documents'][0]\n",
    "\n",
    "for document in results['documents'][0]:\n",
    "    print(document)\n",
    "    print('')"
   ]
  },
  {
   "cell_type": "code",
   "execution_count": 109,
   "metadata": {},
   "outputs": [
    {
     "name": "stdout",
     "output_type": "stream",
     "text": [
      "The escrow amount is not mentioned in the provided information.\n"
     ]
    }
   ],
   "source": [
    "output_answer = chom.openai_model_answer(query=query, retrieved_documents=retrieved_documents)\n",
    "print(output_answer)"
   ]
  },
  {
   "cell_type": "code",
   "execution_count": 110,
   "metadata": {},
   "outputs": [
    {
     "name": "stderr",
     "output_type": "stream",
     "text": [
      "100%|██████████| 1/1 [00:00<00:00,  1.70it/s]\n",
      "100%|██████████| 5/5 [00:03<00:00,  1.62it/s]\n"
     ]
    }
   ],
   "source": [
    "query_embedding = embedding_function([query])[0]\n",
    "retrieved_embeddings = results['embeddings'][0]\n",
    "\n",
    "projected_query_embedding = project_embeddings([query_embedding], umap_transform)\n",
    "projected_retrieved_embeddings = project_embeddings(retrieved_embeddings, umap_transform)"
   ]
  },
  {
   "cell_type": "code",
   "execution_count": 111,
   "metadata": {},
   "outputs": [
    {
     "data": {
      "text/plain": [
       "(-4.462840829417109,\n",
       " 0.3433709111064672,\n",
       " 14.068113040924072,\n",
       " 19.118206310272218)"
      ]
     },
     "execution_count": 111,
     "metadata": {},
     "output_type": "execute_result"
    },
    {
     "data": {
      "image/png": "[encoded data removed]",
      "text/plain": [
       "<Figure size 640x480 with 1 Axes>"
      ]
     },
     "metadata": {},
     "output_type": "display_data"
    }
   ],
   "source": [
    "# Plot the projected query and retrieved documents in the embedding space\n",
    "plt.figure()\n",
    "plt.scatter(projected_dataset_embeddings[:, 0], projected_dataset_embeddings[:, 1], s=10, color='gray')\n",
    "plt.scatter(projected_query_embedding[:, 0], projected_query_embedding[:, 1], s=150, marker='X', color='r')\n",
    "plt.scatter(projected_retrieved_embeddings[:, 0], projected_retrieved_embeddings[:, 1], s=100, facecolors='none', edgecolors='g')\n",
    "\n",
    "plt.gca().set_aspect('equal', 'datalim')\n",
    "plt.title(f'{query}')\n",
    "plt.axis('off')"
   ]
  },
  {
   "cell_type": "code",
   "execution_count": 112,
   "metadata": {},
   "outputs": [
    {
     "name": "stdout",
     "output_type": "stream",
     "text": [
      "5. non - compete : during the term of engagement with the company and for a period of 12 months thereafter, advisor shall not be involved, as an employee, owner, contractor or otherwise, in any business, which competes with the company ’ s business, and shall not solicit and / or hire any employee and / or service provider of the company, without the prior written consent of the company. 6. personnel : the advisor may provide the services only directly or through employees, contractors or agents ( “ personnel ” ), which were specifically approved by the company, and have committed in writ ing to confidentiality and ownership rights towards the advisor and / or the company, in a form restrictive enough to allow advisor to comply and enforce the commitments under this undertaking ( “ authorized personnel ” ). without limiting the foregoing, the advisor is liable hereunder for any breach of this undertaking by any advisor personne l.\n",
      "\n",
      "- 2 - 4. term : the term of this agreement shall commence on the effective date and shall continue until terminated in accordance with the provisions herein ( the \" term \" ). 5. termination : either party, at any given time, may terminate this agreement, for any reason whatsoever, with or without cause, upon fourteen ( 14 ) days ’ prior written notice. notwithstanding the above, the company may terminate this agreement immediately and without prior notice if advisor refuses or is unable to perform the services, or is in breach of any provision of this agreement. 6. compensation : 6. 1 as full and sole consideration for the services, and subject to the performance of the services, the company shall pay the advisor, against an invoice provided to the company by advisor, hourly fees at a rate of usd 9 ( nine ) per billable hour as defined below, limited to a maximum of usd 1, 500 per month ( the \" fees \" ). in addition, the company shall pay the advisor usd 100\n",
      "\n",
      "7. third parties : the advisor represents that the performance of the services and the terms of this undertaking, do not and will not breach any right, contractual or other, of any employer, customer or other third party. advisor acknowledges that the company is relying upon the truthfulness and accuracy of such representations in engaging with the advisor. advisor specifically undertakes not to use any proprietary and / or confidential information belonging to the advisor and / or any third party while performing the services and in case any advisor proprietary or confidential information is used, such information will be automatically assigned to the company and become its fu ll and exclusive property. 8. jurisdiction : this undertaking shall be governed by and construed in accordance with the laws of the state of israel, without giving effect\n",
      "\n",
      "this agreement may not be assigned, sold, delegated or transferred in any manner by advisor for any reason whatsoever. the company may assign the agreement to a successor of all or substantially all of its assets or business, provided the assignee has assumed the company ’ s obligations under this agreement. 10. governing law and jurisdiction : this agreement shall be governed by the laws of the state of israel, without giving effect to the rules respecting conflicts of laws. the parties consent to the exclusive jurisdiction and venue of tel aviv courts for any lawsuit filed arising from or relating to this agreement. 11. notices : notices under this agreement shall be delivered to the party ’ s email address as follows : company : info @ cloudcorp. com, advisor : jackrobinson @ gmail. com, or in any the other means with a proof of acceptance by the other party. in witness whereof the parties have executed this agreement as of the date first above written.\n",
      "\n",
      "to its laws pertaining to conflict of laws. the advisor agrees that any an d all disputes in connection with this undertaking shall be submitted to the exclusive jurisdiction of the competent courts in the c ity of tel aviv - yafo, israel. 9. pre - undertaking : in case the advisor has been providing services to the company before the effective date ( “ pre - undertaking period ” ), this undertaking shall also apply to the pre - undertaking period, including, if relevant, before company ’ s incorporation. the company may assign this undertaking to third parties. in witness whereof, the undersigned has executed this undertaking as of the effective date. advisor by : _ _ _ _ _ _ _ _ _ _ _ _ _ _ _ _ _ _ _ _ _ _ _ _ _ _ _ _ _ _ _ _ _ _ _ _ _ name : jack robinson\n",
      "\n"
     ]
    }
   ],
   "source": [
    "query = \"Are there any conditions to the closing?\"\n",
    "results = chroma_collection.query(query_texts=query, n_results=5, include=['documents', 'embeddings'])\n",
    "\n",
    "retrieved_documents = results['documents'][0]\n",
    "\n",
    "for document in results['documents'][0]:\n",
    "    print(document)\n",
    "    print('')"
   ]
  },
  {
   "cell_type": "code",
   "execution_count": 113,
   "metadata": {},
   "outputs": [
    {
     "name": "stdout",
     "output_type": "stream",
     "text": [
      "The conditions for closing include a non-compete clause, termination clauses, compensation details, specifics about authorized personnel, and jurisdiction rules.\n"
     ]
    }
   ],
   "source": [
    "output_answer = chom.openai_model_answer(query=query, retrieved_documents=retrieved_documents)\n",
    "print(output_answer)"
   ]
  },
  {
   "cell_type": "code",
   "execution_count": 114,
   "metadata": {},
   "outputs": [
    {
     "name": "stderr",
     "output_type": "stream",
     "text": [
      "100%|██████████| 1/1 [00:00<00:00,  1.18it/s]\n",
      "100%|██████████| 5/5 [00:03<00:00,  1.59it/s]\n"
     ]
    }
   ],
   "source": [
    "query_embedding = embedding_function([query])[0]\n",
    "retrieved_embeddings = results['embeddings'][0]\n",
    "\n",
    "projected_query_embedding = project_embeddings([query_embedding], umap_transform)\n",
    "projected_retrieved_embeddings = project_embeddings(retrieved_embeddings, umap_transform)"
   ]
  },
  {
   "cell_type": "code",
   "execution_count": 115,
   "metadata": {},
   "outputs": [
    {
     "data": {
      "text/plain": [
       "(-4.462840829417109,\n",
       " 0.3433709111064672,\n",
       " 14.068113040924072,\n",
       " 19.118206310272218)"
      ]
     },
     "execution_count": 115,
     "metadata": {},
     "output_type": "execute_result"
    },
    {
     "data": {
      "image/png": "[encoded data removed]",
      "text/plain": [
       "<Figure size 640x480 with 1 Axes>"
      ]
     },
     "metadata": {},
     "output_type": "display_data"
    }
   ],
   "source": [
    "# Plot the projected query and retrieved documents in the embedding space\n",
    "plt.figure()\n",
    "plt.scatter(projected_dataset_embeddings[:, 0], projected_dataset_embeddings[:, 1], s=10, color='gray')\n",
    "plt.scatter(projected_query_embedding[:, 0], projected_query_embedding[:, 1], s=150, marker='X', color='r')\n",
    "plt.scatter(projected_retrieved_embeddings[:, 0], projected_retrieved_embeddings[:, 1], s=100, facecolors='none', edgecolors='g')\n",
    "\n",
    "plt.gca().set_aspect('equal', 'datalim')\n",
    "plt.title(f'{query}')\n",
    "plt.axis('off')"
   ]
  }
 ],
 "metadata": {
  "kernelspec": {
   "display_name": "Python 3",
   "language": "python",
   "name": "python3"
  },
  "language_info": {
   "codemirror_mode": {
    "name": "ipython",
    "version": 3
   },
   "file_extension": ".py",
   "mimetype": "text/x-python",
   "name": "python",
   "nbconvert_exporter": "python",
   "pygments_lexer": "ipython3",
   "version": "3.10.12"
  }
 },
 "nbformat": 4,
 "nbformat_minor": 2
}
