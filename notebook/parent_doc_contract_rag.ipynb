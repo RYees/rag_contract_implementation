{
 "cells": [
  {
   "cell_type": "code",
   "execution_count": 1,
   "metadata": {},
   "outputs": [],
   "source": [
    "import warnings\n",
    "warnings.filterwarnings(\"ignore\")"
   ]
  },
  {
   "cell_type": "code",
   "execution_count": 50,
   "metadata": {},
   "outputs": [],
   "source": [
    "# !pip install pdfplumber\n",
    "# !pip install faiss-cpu\n",
    "# !pip install tiktoken\n",
    "# !pip install lancedb"
   ]
  },
  {
   "cell_type": "code",
   "execution_count": 31,
   "metadata": {},
   "outputs": [],
   "source": [
    "import pprint\n",
    "import pandas as pd\n",
    "import numpy as np\n",
    "from dotenv import dotenv_values\n",
    "import openai\n",
    "import pickle\n",
    "from pypdf import PdfReader\n",
    "from langchain.retrievers import ParentDocumentRetriever\n",
    "from langchain.storage import InMemoryStore\n",
    "from langchain_text_splitters import RecursiveCharacterTextSplitter\n",
    "from langchain.embeddings.openai import OpenAIEmbeddings\n",
    "from langchain_community.chat_models import ChatOpenAI\n",
    "from langchain_community.vectorstores import Chroma\n",
    "from langchain_community.vectorstores import FAISS\n",
    "from langchain_community.vectorstores import Weaviate\n",
    "from langchain_community.vectorstores import LanceDB\n",
    "from langchain_core.runnables import RunnablePassthrough, RunnableParallel\n",
    "from operator import itemgetter\n",
    "from langchain_core.output_parsers import StrOutputParser\n",
    "from sentence_transformers import CrossEncoder\n",
    "\n",
    "\n",
    "env_vars = dotenv_values('.env')\n",
    "openai.api_key = env_vars.get('OPENAI_API_KEY')"
   ]
  },
  {
   "cell_type": "code",
   "execution_count": 3,
   "metadata": {},
   "outputs": [],
   "source": [
    "import os, sys\n",
    "rpath = os.path.abspath('..')\n",
    "if rpath not in sys.path:\n",
    "    sys.path.insert(0, rpath)\n",
    "\n",
    "# import utils.chroma as chom"
   ]
  },
  {
   "cell_type": "markdown",
   "metadata": {},
   "source": [
    "# Parent Document Rag Retriever Section"
   ]
  },
  {
   "cell_type": "code",
   "execution_count": 4,
   "metadata": {},
   "outputs": [],
   "source": [
    "def pretty_print_docs(docs):\n",
    "    print(\n",
    "        f\"\\n{'-' * 100}\\n\".join(\n",
    "            [\n",
    "                f\"Document {i+1}:\\n\\n{d.page_content}\\nMetadata: {d.metadata}\"\n",
    "                for i, d in enumerate(docs)\n",
    "            ]\n",
    "        )\n",
    "    )"
   ]
  },
  {
   "cell_type": "code",
   "execution_count": 32,
   "metadata": {},
   "outputs": [],
   "source": [
    "from collections import namedtuple\n",
    "Page = namedtuple(\"Page\", [\"id\", \"page_content\", \"metadata\"])\n",
    "\n",
    "def pdf_reader(file_path):\n",
    "    reader = PdfReader(file_path)\n",
    "    pdf_pages = []\n",
    "    for page_number, page in enumerate(reader.pages):\n",
    "        page_content = page.extract_text().strip()\n",
    "        if page_content:\n",
    "            metadata = {\"page_number\": page_number}  # Add any additional metadata as needed\n",
    "            pdf_pages.append(Page(id=page_number, page_content=page_content, metadata=metadata))\n",
    "    return pdf_pages\n",
    "\n",
    "file_path = '../data/RaptorContract.pdf'\n",
    "# file_path = \"../data/RobinsonAdvisory.pdf\"\n",
    "pdf_pages = pdf_reader(file_path)"
   ]
  },
  {
   "cell_type": "code",
   "execution_count": 22,
   "metadata": {},
   "outputs": [
    {
     "data": {
      "text/plain": [
       "[Page(id=0, page_content='ADVISORY SERVICES AGREEMENT \\n \\nThis Advisory Services Agreement is entered into as of June 15th, 2023 (the “Effective Date ”), by and \\nbetween Cloud Investments Ltd., ID 51-426526-3, an Israeli company (the \" Company \"), and Mr. Jack \\nRobinson, Passport Number 780055578, residing at 1 Rabin st, Tel Aviv, Israel, Email: \\njackrobinson@gmail.com (\"Advisor \"). \\n \\nWhereas, Advisor has expertise and/or knowledge and/or relationships, which are relevant to the \\nCompany ’s business and the Company has asked Advisor to provide it with certain Advisory \\nservices, as described in this Agreement; and \\nWhereas,  Advisor has agreed to provide the Company with such services, subject to the terms set forth \\nin this Agreement. \\n \\nNOW THEREFORE THE PARTIES AGREE AS FOLLOWS: \\n \\n1. Services:   \\n1.1 Advisor shall provide to the Company, as an independent contractor, software development \\nservices, and / or any other services as agreed by the parties from time to time (the “Services ”). \\nAdvisor shall not appoint any sub-agents or delegates in connection with performance of the \\nServices, nor assign any of his obligations or rights hereunder without obtaining the prior written \\nconsent of the Company.  \\nWithout derogating from the foregoing, the Advisor shall not be required to provide the Services \\nfor a period of eighteen (18) days in each 12-month period.  \\n1.2 In performing the Services, Advisor shall devote his time, know-how, expertise, talent, \\nexperience and best efforts and attention to the provision of the Services, as shall be reasonably \\nrequired by the Company . Advisor shall render the Services in a diligent manner and at a high \\nprofessional standard for the benefit of the Company and shall perform and discharge well and \\nfaithfully, with devotion, honesty and fidelity, his obligations hereunder.  \\n1.3 Advisor further agrees and undertakes to (i) comply with all the Company\\'s policies, procedures \\nand objectives, as in effect from time to time; (ii) adhere to any applicable law or provision, \\npertaining to his services; (iii) not take any action with the intention that the same will cause \\nmaterial damage to the good name of the Company; (iv) keep the contents of this Agreement \\nconfidential and not to disclose the existence or contents of this Agreement to any third party \\nwithout the prior written consent of the Company. \\n \\n2. Time Tracking:  Advisor shall provide the Company with a written report, in a format acceptable by \\nthe Company, setting forth the number of hours in which he provided the Services, on a daily basis, as \\nwell as an aggregated monthly report at the last day of each calendar month. \\n3. No Conflicts: Advisor represents that there is no contractual or other legal restriction preventing or \\nlimiting him/her from entering into this Agreement or performing any of his/her obligations \\nhereunder. Advisor shall immediately and without delay inform the Company of any affairs and/or \\nmatters that might constitute a conflict of interest with his/her services to Company and/or the \\ninterests of the Company. Advisor agrees to indemnify, defend and hold harmless the Company and \\nits directors, officers and employees against all claims, liabilities, and costs, including reasonable \\nattorneys\\' fees in connection with any breach by Advisor, of any obligations pursuant to a prior or \\nexisting engagement with any other third party, including without limitation other employers or \\nclients.', metadata={'page_number': 0}),\n",
       " Page(id=1, page_content='-  2- \\n \\n4. Term : The term of this Agreement shall commence on the Effective Date and shall continue until \\nterminated in accordance with the provisions herein (the \" Term \").   \\n \\n5. Termination : Either party, at any given time, may terminate this Agreement, for any reason \\nwhatsoever, with or without cause, upon fourteen (14) days ’ prior written notice. Notwithstanding the \\nabove, the Company may terminate this Agreement immediately and without prior notice if Advisor \\nrefuses or is unable to perform the Services, or is in breach of any provision of this Agreement.  \\n \\n6. Compensation: \\n6.1 As full and sole consideration for the Services, and subject to the performance of the Services, \\nthe Company shall pay the Advisor, against an invoice provided to the Company by Advisor , \\nhourly fees at a rate of USD 9 (nine) per Billable Hour as defined below, limited to a maximum \\nof USD 1,500 per month (the \" Fees \"). In addition, the Company shall pay the advisor USD 100  \\nper month to finance a workspace for the Advisor, as long as the Advisor actually hires a \\nprofessional workspace (the “Workspace Expense ”). Advisor will not be entitled to any \\nadditional fees or expense reimbursement whatsoever, except as expressly provided for in this \\nAgreement.  \\nBillable Hour:  Net time devoted to the provisioning of the Services, without calculating meals, \\ntravels or any other overhead time borne by the Advisor.  \\n6.2 The Fees and the Workspace Expense for each month shall be payable by no later than ten (10) \\ndays from the beginning of the following month, against receipt by the Company of a duly issued \\ntax invoice. \\n6.3 In addition, the Company shall reimburse Advisor for any reasonable and actual expenses \\nincurred by the Advisor in connection with the performance of the Services, all in accordance \\nwith the Company ’s policies as determined by the Board of Directors from time to time, and \\nsubject to Company\\'s prior written consent for each specific expense, before Advisor incurs such \\nexpenses. As a condition to reimbursement, Advisor shall provide the Company with copies of \\nall invoices, receipts and other evidence of expenditures as required by Company policy. \\n6.4 Advisor shall be solely responsible for any income taxes or other assessments made or imposed \\nby any governmental authority on Advisor with respect to the Services rendered and the \\ncompensation received hereunder, and any and all expenses and costs of himself, employees, \\nagents and representatives, including, without limitation, any salary, overtime, severance or \\nsocial benefits payable thereto, and marketing costs incurred in connection with the performance \\nof obligations hereunder. \\n \\n7. Confidentiality, Non-Competition and IP Ownership Undertaking : In connection with the \\nperformance of Advisor ’s obligations under this Agreement, the Advisor shall execute a \\nConfidentiality, Non-Competition and IP Ownership Undertaking in the form attached hereto as \\nExhibit A .  \\n \\n8. Relationship of the Parties; Indemnification : The sole relationship between the Company and the \\nAdvisor shall be that of independent contractors. Advisor shall not be deemed to be, nor treated by the \\nCompany as, an employee of the Company. Advisor shall not receive nor be entitled to overtime pay , \\ninsurance, paid vacation, severance payments or similar fringe or employment benefits from the \\nCompany. Without derogating from the above, if it is adjudicated or otherwise determined by any \\ngovernmental authority that the Advisor and/or anyone on Advisor\\'s behalf, is, regardless of the terms \\nof this Agreement, an employee of the Company, then payments to Advisor hereunder shall be \\nreduced effective retroactively as of the beginning of the Term so that 60% of such payments sha ll', metadata={'page_number': 1}),\n",
       " Page(id=2, page_content='-  3- \\n \\nconstitute salary payments, and 40% of such payments shall constitute payment by the Company for \\nall other Advisor statutory rights and benefits as employee of the Company throughout the Term. \\nAdvisor further consents that the Compan y may offset any amounts due to him under this Section \\nfrom any amounts payable to Advisor under this Agreement. Advisor shall indemnify the Company \\nfor any loss or expenses incurred by the Company if it were determined that an alleged \\nemployer/employee relationship existed between the Advisor and the Company.  \\n \\n9. Entire Agreement; No Waiver or Assignment : This Agreement together with the Exhibits, which \\nare attached hereto and incorporated herein, set forth the entire Agreement between the pa rties and \\nshall supersede all previous communications and agreements between the parties, either oral or \\nwritten. This Agreement may be modified only by a written amendment executed by both parties. \\nThis Agreement may not be assigned, sold, delegated or transferred in any manner by Advisor for any \\nreason whatsoever. The Company may assign the Agreement to a successor of all or substantially all \\nof its assets or business, provided the assignee has assumed the Company ’s obligations under this \\nAgreement.   \\n \\n10. Governing Law and Jurisdiction :  This Agreement shall be governed by the laws of the State of \\nIsrael, without giving effect to the rules respecting conflicts of laws. The parties consent to the \\nexclusive jurisdiction and venue of Tel Aviv courts for any lawsuit filed arising from or relating to \\nthis Agreement.    \\n \\n11. Notices : Notices under this Agreement shall be delivered to the party ’s email address as follows: \\nCompany: info@cloudcorp.com , Advisor: jackrobinson@gmail.com , or in any the other means with a \\nproof of acceptance by the other party. \\n \\nIN WITNESS WHEREOF the parties have executed this Agreement as of the date first above written. \\n \\n \\n \\nCloud Investments Ltd.    Advisor  \\n \\nBy: ________________________  By:________________________ \\nName: Silvan Joseph    Name: Jack Robinson   \\nTitle: CEO', metadata={'page_number': 2}),\n",
       " Page(id=3, page_content='-  4- \\n \\nConfidentiality, None Compete and IP Ownership Undertaking \\nAppendix A to Advisory Service Agreement as of June 1 5th, 2023 \\n \\nTHIS CONFIDENTIALITY UNDERTAKING (“Undertaking ”) is entered into as of June 15th, 2023 ( “Effective Date ”), by Mr. Jack \\nRobinson, Passport Number 780055578, residing at 1 Rabin st, Tel Avi v, Israel, Email: jackrobinson@gmail.com, ( “Advisor ”), towards Cloud \\nInvestments Ltd ( “Company ”), as follows: \\n1. Definitions:  (a) Company ’s Business:  development of an AI-based contract assistant. (b) Services:  Software development services and/or \\nany other services provided by the Advisor to the Company. (c) Work Product:  Any product of the Services, tangible and/or intangible, \\nincluding any inventions, discoveries and/or other intellectual property. (d) Confidential Information:  any information disclosed by the \\nCompany to the Advisor and/or created as a result of the Services (including  Work Product), of any type, form (including orally) or media, \\nincluding (without limitation), code, specifications, architecture, desig n, data, algorithms, business plans, budget, customers / suppliers lists \\netc.), but excluding information which prior to the disclosure was publicly  available or known to the Advisor (both without breach of any \\nconfidentiality obligation towards the Company). \\n \\n2. Use: The Advisor may use the Confidential Information only for the purpo se of providing the Services and shall not obtain any rights in it. \\nThe Advisor shall stop using Confidential Information and/or return it to the Company and/or destroy it immediately upon Company ’s \\nrequest. The Advisor may disclose Confidential Information in case this i s required by law, but only to the extent required and after \\nproviding the Company a prompt written notice and subject to promptl y cooperate with the Company in seeking a protective order.  \\n \\n3. Safeguard: The Advisor shall safeguard the Confidential Information, keep it in strict confidence and shall not disclose it to any third party \\nwithout the prior written consent of the Company. \\n \\n4. IP: Any Work Product, upon creation, shall be fully and exclusivel y owned by the Company. The Advisor, immediately upon Company ’s \\nrequest, shall sign any document and/or perform any action neede d to formalize such ownership. The Advisor shall not obtain any righ ts in \\nthe Work Product, including moral rights and/or rights for royalties or ot her consideration under any applicable law (including Section 134 \\nof the Israeli Patent Law – 1967 if applicable), and shall not be entitled to any compe nsation with respect to the Services, which was not \\nspecifically agreed, in writing, between the Advisor and the Comp any. \\n \\n5. Non-Compete : During the term of engagement with the Company and for a period  of 12 months thereafter, Advisor shall not be involved, \\nas an employee, owner, contractor or otherwise, in any business, which competes with the Company ’s Business, and shall not solicit and/or \\nhire any employee and/or service provider of the Company, without the prior written consent of the Company. \\n \\n6. Personnel: The Advisor may provide the Services only directly or through employees, contractors or agents ( “Personnel ”), which were \\nspecifically approved by the Company, and have committed in writ ing to confidentiality and ownership rights towards the Advisor and/or \\nthe Company, in a form restrictive enough to allow Advisor to comply and enforce the commitments under this undertaking ( “Authorized \\nPersonnel ”). Without limiting the foregoing, the Advisor is liable hereunder for any breach of this undertaking by any Advisor Personne l. \\n \\n7. Third Parties: The Advisor represents that the performance of the Services and the terms of  this Undertaking, do not and will not breach \\nany right, contractual or other, of any employer, customer or other third party. Advisor acknowledges that the Company is relying upon the \\ntruthfulness and accuracy of such representations in engaging with the Advisor. Advisor specifically undertakes not to use any proprietary \\nand/or confidential information belonging to the Advisor and/or any third party while performing the Services and in case any Advisor \\nproprietary or confidential information is used, such information will  be automatically assigned to the Company and become its fu ll and \\nexclusive property.  \\n \\n8. Jurisdiction: This Undertaking shall be governed by and construed in accordance with the laws of the State of Israel, without giving effect \\nto its laws pertaining to conflict of laws.  The Advisor agrees that any an d all disputes in connection with this Undertaking shall be \\nsubmitted to the exclusive jurisdiction of the competent courts in the c ity of Tel Aviv-Yafo, Israel. \\n \\n9. Pre-Undertaking: In case the Advisor has been providing Services to the Company before the Effective Date ( “Pre-Undertaking Period ”), \\nthis Undertaking shall also apply to the Pre-Undertaking Period, including,  if relevant, before Company ’s incorporation. The Company may \\nassign this undertaking to third parties. \\nIN WITNESS WHEREOF , the undersigned has executed this Undertaking as of the Effective Date. \\nAdvisor   \\nBy: _____________________________________  \\nName: Jack Robinson', metadata={'page_number': 3})]"
      ]
     },
     "execution_count": 22,
     "metadata": {},
     "output_type": "execute_result"
    }
   ],
   "source": [
    "# pretty_print_docs(pdf_pages)\n",
    "pdf_pages"
   ]
  },
  {
   "cell_type": "code",
   "execution_count": 33,
   "metadata": {},
   "outputs": [],
   "source": [
    "embed = OpenAIEmbeddings(model=\"text-embedding-3-small\", openai_api_key=openai.api_key)\n",
    "child_splitter = RecursiveCharacterTextSplitter(chunk_size=200)\n",
    "store = InMemoryStore()\n",
    "vectorstore = FAISS.from_documents(pdf_pages, embed)"
   ]
  },
  {
   "cell_type": "code",
   "execution_count": 34,
   "metadata": {},
   "outputs": [],
   "source": [
    "parent_document_retriever = ParentDocumentRetriever(\n",
    "    vectorstore=vectorstore,\n",
    "    docstore=store,\n",
    "    child_splitter=child_splitter\n",
    ")\n",
    "\n",
    "parent_document_retriever.add_documents(pdf_pages , ids=None)"
   ]
  },
  {
   "cell_type": "code",
   "execution_count": null,
   "metadata": {},
   "outputs": [],
   "source": [
    "# To retrieve documents\n",
    "# query = \"Would the aggregate amount payable by the Buyer to the Sellers be affected if it is determined that the actual Closing Debt Amount is greater the estimated Closing Debut Amount?\"\n",
    "# results = vectorstore.similarity_search(query)\n",
    "# results\n",
    "# query = \"Under what circumstances and to what extent the Sellers are responsible for a breach of representations and warranties?\"\n",
    "query =\"Who are the parties to the Agreement and what are their defined names?\"\n",
    "def parent_document_retriever_wrapper(question: str) -> dict:\n",
    "    return {\"context\": vectorstore.similarity_search(question, k=10)}\n",
    "result = parent_document_retriever_wrapper(query)"
   ]
  },
  {
   "cell_type": "code",
   "execution_count": 87,
   "metadata": {},
   "outputs": [],
   "source": [
    "# def reranker(retrieved_documents):\n",
    "#     cross_encoder = CrossEncoder('cross-encoder/ms-marco-MiniLM-L-6-v2')\n",
    "      \n",
    "#     pairs = [[question, doc] for doc in retrieved_documents]\n",
    "    \n",
    "#     scores = cross_encoder.predict(pairs)\n",
    "#     for score in scores:\n",
    "#         f\"{score:.2f}\"\n",
    "#     ordered_indices = np.argsort(scores)[::-1]\n",
    "#     for i in ordered_indices:\n",
    "#         f\"{i+1}. {retrieved_documents[i]}\"\n",
    "#     top_scored_docs = [retrieved_documents[i] for i in ordered_indices[:15]]\n",
    "\n",
    "#     return top_scored_docs\n",
    "\n",
    "def reranker(documents: list[list]):\n",
    "    cross_encoder = CrossEncoder('cross-encoder/ms-marco-MiniLM-L-6-v2')\n",
    "    pairs = [[question, doc.__str__()] for sublist in documents for doc in sublist]\n",
    "    scores = cross_encoder.predict(pairs)\n",
    "    ordered_indices = np.argsort(scores)[::-1]\n",
    "    # Get the top scored document pairs\n",
    "    top_scored_pairs = [pairs[i] for i in ordered_indices[:min(15, len(pairs))]]\n",
    "\n",
    "    # Find the top scored documents in the original documents list\n",
    "    top_scored_docs = []\n",
    "    for pair in top_scored_pairs:\n",
    "        for doc_list in documents:\n",
    "            for doc in doc_list:\n",
    "                if doc.__str__() == pair[1]:\n",
    "                    top_scored_docs.append(doc)\n",
    "                    break\n",
    "\n",
    "    return {\"context\": top_scored_docs, \"question\": question}\n"
   ]
  },
  {
   "cell_type": "markdown",
   "metadata": {},
   "source": [
    "# Parent Document Rag Generator Section"
   ]
  },
  {
   "cell_type": "code",
   "execution_count": 21,
   "metadata": {},
   "outputs": [],
   "source": [
    "from langchain_core.prompts import ChatPromptTemplate\n",
    "\n",
    "TEMPLATE = \"\"\"\\\n",
    "You are happy assistant. Use the context provided below to answer the question.\n",
    "\n",
    "Answer question in summarization, put section number of the answer from the file for example like \n",
    " \n",
    "Query:\n",
    "{question}\n",
    "\n",
    "Context:\n",
    "{context}\n",
    "\"\"\"\n",
    "\n",
    "rag_prompt = ChatPromptTemplate.from_template(TEMPLATE)"
   ]
  },
  {
   "cell_type": "code",
   "execution_count": 25,
   "metadata": {},
   "outputs": [
    {
     "name": "stderr",
     "output_type": "stream",
     "text": [
      "/home/ek/.local/lib/python3.10/site-packages/langchain_core/_api/deprecation.py:139: LangChainDeprecationWarning: The class `ChatOpenAI` was deprecated in LangChain 0.0.10 and will be removed in 0.3.0. An updated version of the class exists in the langchain-openai package and should be used instead. To use it run `pip install -U langchain-openai` and import as `from langchain_openai import ChatOpenAI`.\n",
      "  warn_deprecated(\n"
     ]
    }
   ],
   "source": [
    "chat_model = ChatOpenAI()"
   ]
  },
  {
   "cell_type": "code",
   "execution_count": 92,
   "metadata": {},
   "outputs": [],
   "source": [
    "# LCEL IMPLMENTATION\n",
    "setup_and_retrieval = RunnableParallel({\"question\": RunnablePassthrough(), \"context\": parent_document_retriever })\n",
    "output_parser = StrOutputParser()\n",
    "parent_retrieval_chain = setup_and_retrieval | rag_prompt | chat_model | output_parser"
   ]
  },
  {
   "cell_type": "code",
   "execution_count": null,
   "metadata": {},
   "outputs": [],
   "source": [
    "parent_retrieval_chain.invoke(\"\"\"Who are the parties to the Agreement and what are their defined names?\"\"\")"
   ]
  },
  {
   "cell_type": "code",
   "execution_count": 95,
   "metadata": {},
   "outputs": [
    {
     "data": {
      "text/plain": [
       "\"Yes, the escrow amount is greater than the Retention Amount.\\n\\nContext: Section 2.08 (a) At Closing, Buyer will deposit the Escrow Amount in escrow on behalf of the Sellers in accordance with the Escrow Agreement. The Escrow Amount shall be held and, subject to Section 2.07, released to the Company Securityholders in accordance with the'\""
      ]
     },
     "execution_count": 95,
     "metadata": {},
     "output_type": "execute_result"
    }
   ],
   "source": [
    "parent_retrieval_chain.invoke(\"Is escrow amount greater than the Retention Amount?\")\n",
    "# answer = result.split('\\n\\nAnswer:')[0].strip()\n",
    "# print(answer)"
   ]
  },
  {
   "cell_type": "code",
   "execution_count": 94,
   "metadata": {},
   "outputs": [
    {
     "data": {
      "text/plain": [
       "'The Escrow amount is $1,000,000. \\n\\n(Page 9)'"
      ]
     },
     "execution_count": 94,
     "metadata": {},
     "output_type": "execute_result"
    }
   ],
   "source": [
    "parent_retrieval_chain.invoke(\"How much is the escrow amount in dollar?\")"
   ]
  },
  {
   "cell_type": "markdown",
   "metadata": {},
   "source": [
    "**CREATING THE EVALUATION DATA**"
   ]
  },
  {
   "cell_type": "code",
   "execution_count": 96,
   "metadata": {},
   "outputs": [],
   "source": [
    "evaluation = pd.read_csv('../data/RaptorQA.csv')\n",
    "\n",
    "answers = []\n",
    "contexts = []\n",
    "\n",
    "for question in evaluation['question']:\n",
    "    answer = parent_retrieval_chain.invoke(question)\n",
    "    answers.append(answer)\n",
    "    result = parent_document_retriever_wrapper(question)\n",
    "    context = [doc.page_content for doc in result['context']]\n",
    "    contexts.append(context)\n",
    "\n",
    "evaluation['answer'] = answers\n",
    "evaluation['contexts'] = contexts\n",
    "# evaluation.head()\n",
    "evaluation.to_csv('../data/evaluation_data/updated_raptor_parnentdoc_evaluation.csv', index=False)"
   ]
  },
  {
   "cell_type": "markdown",
   "metadata": {},
   "source": [
    "# Multi-Query Approach"
   ]
  },
  {
   "cell_type": "code",
   "execution_count": 5,
   "metadata": {},
   "outputs": [
    {
     "name": "stderr",
     "output_type": "stream",
     "text": [
      "USER_AGENT environment variable not set, consider setting it to identify your requests.\n"
     ]
    }
   ],
   "source": [
    "import os\n",
    "import bs4\n",
    "from langchain_community.document_loaders import WebBaseLoader\n",
    "from langchain.prompts import ChatPromptTemplate\n",
    "from langchain_core.output_parsers import StrOutputParser\n",
    "from langchain_openai import ChatOpenAI\n",
    "from operator import itemgetter\n",
    "from langchain_openai import ChatOpenAI\n",
    "from langchain_core.runnables import RunnablePassthrough\n",
    "from langchain.text_splitter import RecursiveCharacterTextSplitter\n",
    "from langchain_openai import OpenAIEmbeddings\n",
    "from langchain_community.vectorstores import Chroma\n",
    "from langchain_openai import ChatOpenAI\n",
    "from langchain.load import dumps, loads\n",
    "\n",
    "\n",
    "## Environment Variables\n",
    "os.environ['LANGCHAIN_TRACING_V2'] = 'true'\n",
    "os.environ['LANGCHAIN_ENDPOINT'] = 'https://api.smith.langchain.com'\n",
    "os.environ['LANGCHAIN_API_KEY'] = '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'\n",
    "os.environ['OPENAI_API_KEY'] = 'sk-proj-Tzc9mrWyEFVxyDsq5HiWT3BlbkFJxp47toOztG4XRILBeRxr'\n",
    "# this is optional, before using this line, create a project with this name in the langsmith\n",
    "os.environ['LANGCHAIN_PROJECT']='parentdoc-multiquery-retriever'"
   ]
  },
  {
   "cell_type": "code",
   "execution_count": 6,
   "metadata": {},
   "outputs": [],
   "source": [
    "# Multi Query: Different Perspectives\n",
    "template = \"\"\"You are an AI language model assistant. Your task is to generate five \n",
    "different versions of the given user question to retrieve relevant documents from a vector \n",
    "database. By generating multiple perspectives on the user question, your goal is to help\n",
    "the user overcome some of the limitations of the distance-based similarity search. \n",
    "Provide these alternative questions separated by newlines. Original question: {question}\"\"\"\n",
    "prompt_perspectives = ChatPromptTemplate.from_template(template)\n",
    "\n",
    "generate_queries = (\n",
    "    prompt_perspectives \n",
    "    | ChatOpenAI(temperature=0) \n",
    "    | StrOutputParser() \n",
    "    | (lambda x: x.split(\"\\n\"))\n",
    ")"
   ]
  },
  {
   "cell_type": "code",
   "execution_count": 11,
   "metadata": {},
   "outputs": [],
   "source": [
    "def get_unique_union(documents: list[list]):\n",
    "    \"\"\" Unique union of retrieved docs \"\"\"\n",
    "    # Flatten list of lists, and convert each Document to string\n",
    "    flattened_docs = [dumps(doc) for sublist in documents for doc in sublist]\n",
    "    # Get unique documents\n",
    "    unique_docs = list(set(flattened_docs))\n",
    "    # Return\n",
    "    return [loads(doc) for doc in unique_docs]\n",
    "\n",
    "retrieval_chain = generate_queries | retriever.map() | get_unique_union\n",
    "# Tesing a single retriever\n",
    "# docs = retrieval_chain.invoke({\"question\":question})\n",
    "# len(docs)"
   ]
  },
  {
   "cell_type": "code",
   "execution_count": 12,
   "metadata": {},
   "outputs": [],
   "source": [
    "template = \"\"\"\n",
    "Provide an answer to the following question based on the given legal contract context. Be sure to include the relevant section number(s) in your response. If there are multiple possible answers, list them all.\n",
    "\n",
    "Context: {context}\n",
    "\n",
    "Question: {question}\n",
    "\"\"\"\n",
    "\n",
    "prompt = ChatPromptTemplate.from_template(template)\n",
    "\n",
    "llm = ChatOpenAI(temperature=0)\n",
    "\n",
    "final_rag_chain = (\n",
    "    {\"context\": retrieval_chain, \n",
    "     \"question\": itemgetter(\"question\")} \n",
    "    | prompt\n",
    "    | llm\n",
    "    | StrOutputParser()\n",
    ")"
   ]
  },
  {
   "cell_type": "code",
   "execution_count": 15,
   "metadata": {},
   "outputs": [
    {
     "data": {
      "text/plain": [
       "'There is no specific mention of an escrow amount or retention amount in the provided legal contract context.'"
      ]
     },
     "execution_count": 15,
     "metadata": {},
     "output_type": "execute_result"
    }
   ],
   "source": [
    "query = \"Can the Advisor charge for meal time?\"\n",
    "question = query\n",
    "final_rag_chain.invoke({\"question\": question})"
   ]
  },
  {
   "cell_type": "markdown",
   "metadata": {},
   "source": [
    "**CREATING EVALUATION DATA**"
   ]
  },
  {
   "cell_type": "code",
   "execution_count": 20,
   "metadata": {},
   "outputs": [],
   "source": [
    "evaluation = pd.read_csv('../data/RaptorQA.csv')\n",
    "\n",
    "answers = []\n",
    "contexts = []\n",
    "for question in evaluation['question']:\n",
    "    answer = final_rag_chain.invoke({\"question\":question})\n",
    "    answers.append(answer)\n",
    "    docs = retrieval_chain.invoke({\"question\":question})\n",
    "    context = [doc.page_content for doc in docs]\n",
    "    contexts.append(context)\n",
    "\n",
    "evaluation['answer'] = answers\n",
    "evaluation['contexts'] = contexts\n",
    "evaluation.head()\n",
    "evaluation.to_csv('../data/updated_raptor_multiquery_chunk2000_evaluation.csv', index=False)"
   ]
  }
 ],
 "metadata": {
  "kernelspec": {
   "display_name": "Python 3",
   "language": "python",
   "name": "python3"
  },
  "language_info": {
   "codemirror_mode": {
    "name": "ipython",
    "version": 3
   },
   "file_extension": ".py",
   "mimetype": "text/x-python",
   "name": "python",
   "nbconvert_exporter": "python",
   "pygments_lexer": "ipython3",
   "version": "3.10.12"
  }
 },
 "nbformat": 4,
 "nbformat_minor": 2
}
