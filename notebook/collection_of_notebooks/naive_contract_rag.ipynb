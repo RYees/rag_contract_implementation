{
 "cells": [
  {
   "cell_type": "code",
   "execution_count": 1,
   "metadata": {},
   "outputs": [],
   "source": [
    "import warnings\n",
    "warnings.filterwarnings(\"ignore\")"
   ]
  },
  {
   "cell_type": "code",
   "execution_count": 2,
   "metadata": {},
   "outputs": [],
   "source": [
    "#!pip install chromadb\n",
    "#!pip install sentence-transformers\n",
    "#!pip install langchain openai"
   ]
  },
  {
   "cell_type": "code",
   "execution_count": 2,
   "metadata": {},
   "outputs": [],
   "source": [
    "import matplotlib.pyplot as plt"
   ]
  },
  {
   "cell_type": "code",
   "execution_count": 2,
   "metadata": {},
   "outputs": [],
   "source": [
    "import os, sys\n",
    "rpath = os.path.abspath('..')\n",
    "if rpath not in sys.path:\n",
    "    sys.path.insert(0, rpath)\n",
    "\n",
    "import utils.chroma as chom"
   ]
  },
  {
   "cell_type": "markdown",
   "metadata": {},
   "source": [
    "## Naive Retriever"
   ]
  },
  {
   "cell_type": "code",
   "execution_count": 9,
   "metadata": {},
   "outputs": [
    {
     "data": {
      "text/plain": [
       "'[R&G Draft 12.__.2021] \\n112923184_5  \\n \\nSTOCK PURCHASE AGREEMENT \\nBY AND AMONG \\n[BUYER], \\n[TARGET COMPANY], \\nTHE SELLERS LISTED ON SCHEDULE I HERETO \\nAND  \\nTHE SELLERS ’ REPRESENTATIVE NAMED HEREIN \\nDated as of [●]  \\n \\n[This document is intended solely to facilitate discussions among the parties identified herein.  \\nNeither this document nor such discussions are intended to create, nor will either or both be \\ndeemed to create, a legally binding or enforceable offer or agreement of any type or nature, \\nunless and until a definitive written agreement is executed and delivered by each of th e parties \\nhereto. \\n \\nThis document shall be kept confidential pursuant to the terms of the Confidentiality \\nAgreement entered into by the parties and, if applicable, its affiliates with respect to the subject \\nmatter hereof.]'"
      ]
     },
     "execution_count": 9,
     "metadata": {},
     "output_type": "execute_result"
    }
   ],
   "source": [
    "file_path = '../data/RaptorContract.pdf'\n",
    "# file_path = \"../data/RobinsonAdvisory.pdf\"\n",
    "pdftexts = chom.pdf_reader(file_path)\n",
    "pdftexts[0]"
   ]
  },
  {
   "cell_type": "code",
   "execution_count": 10,
   "metadata": {},
   "outputs": [
    {
     "data": {
      "text/plain": [
       "Page(id=0, page_content='[R&G Draft 12.__.2021] \\n112923184_5  \\n \\nSTOCK PURCHASE AGREEMENT \\nBY AND AMONG \\n[BUYER], \\n[TARGET COMPANY], \\nTHE SELLERS LISTED ON SCHEDULE I HERETO \\nAND  \\nTHE SELLERS ’ REPRESENTATIVE NAMED HEREIN \\nDated as of [●]  \\n \\n[This document is intended solely to facilitate discussions among the parties identified herein.  \\nNeither this document nor such discussions are intended to create, nor will either or both be \\ndeemed to create, a legally binding or enforceable offer or agreement of any type or nature, \\nunless and until a definitive written agreement is executed and delivered by each of th e parties \\nhereto. \\n \\nThis document shall be kept confidential pursuant to the terms of the Confidentiality \\nAgreement entered into by the parties and, if applicable, its affiliates with respect to the subject \\nmatter hereof.]', metadata={'page_number': 0})"
      ]
     },
     "execution_count": 10,
     "metadata": {},
     "output_type": "execute_result"
    }
   ],
   "source": [
    "from pypdf import PdfReader\n",
    "from collections import namedtuple\n",
    "Page = namedtuple(\"Page\", [\"id\", \"page_content\", \"metadata\"])\n",
    "def pdf_reader_to_document_format(file_path):\n",
    "        reader = PdfReader(file_path)\n",
    "        pdf_pages = []\n",
    "        for page_number, page in enumerate(reader.pages):\n",
    "            page_content = page.extract_text().strip()\n",
    "            if page_content:\n",
    "                metadata = {\"page_number\": page_number}  # Add any additional metadata as needed\n",
    "                pdf_pages.append(Page(id=page_number, page_content=page_content, metadata=metadata))\n",
    "        return pdf_pages\n",
    "pdf_pages = pdf_reader_to_document_format(file_path)\n",
    "pdf_pages[0]"
   ]
  },
  {
   "cell_type": "code",
   "execution_count": null,
   "metadata": {},
   "outputs": [],
   "source": [
    "token_split_texts = chom.sentence_transfomer_textsplitter(pdftexts)\n",
    "token_split_texts\n",
    "# # print(token_split_texts[10])\n",
    "# print(f\"\\nTotal chunks: {len(token_split_texts)}\")"
   ]
  },
  {
   "cell_type": "code",
   "execution_count": 20,
   "metadata": {},
   "outputs": [],
   "source": [
    "# from langchain.embeddings.openai import OpenAIEmbeddings\n",
    "# embed_model = OpenAIEmbeddings(model=\"text-embedding-ada-002\")\n",
    "\n",
    "# embedding_fun = []\n",
    "# embedded_document = embed_model.embed_documents(character_split_texts)\n",
    "# embedding_fun.append(embedded_document)"
   ]
  },
  {
   "cell_type": "code",
   "execution_count": 5,
   "metadata": {},
   "outputs": [],
   "source": [
    "embedding_function = chom.embedding()\n",
    "# print(embedding_function([token_split_texts[10]]))"
   ]
  },
  {
   "cell_type": "code",
   "execution_count": 16,
   "metadata": {},
   "outputs": [],
   "source": [
    "import chromadb\n",
    "def connect_with_chromadb(embedding_function, token_split_texts):\n",
    "    chroma_client = chromadb.Client()\n",
    "    chroma_collection = chroma_client.create_collection(\"microsoft_annual_report_2l5\", embedding_function=embedding_function)\n",
    "\n",
    "    ids = [str(i) for i in range(len(token_split_texts))]\n",
    "\n",
    "    chroma_collection.add(ids=ids, documents=token_split_texts)\n",
    "    chroma_collection.count()\n",
    "    return chroma_collection"
   ]
  },
  {
   "cell_type": "code",
   "execution_count": 11,
   "metadata": {},
   "outputs": [],
   "source": [
    "from langchain.text_splitter import RecursiveCharacterTextSplitter\n",
    "from langchain_core.documents import Document\n",
    "def chunking_RecursiveCharacterTextSplitter(pdf_doc):\n",
    "        text = '\\n\\n'.join([page.page_content for page in pdf_doc])\n",
    "        text_splitter = RecursiveCharacterTextSplitter(\n",
    "            separators=[\"\\n\\n\", \"\\n\", \" \"],\n",
    "            chunk_size=200,\n",
    "            chunk_overlap=100,\n",
    "            length_function=len,\n",
    "            is_separator_regex=False\n",
    "        )\n",
    "\n",
    "        chunk_list = []\n",
    "        for i, chunk in enumerate(text_splitter.create_documents([text])):\n",
    "            metadata = {\"page_number\": [page.metadata[\"page_number\"] for page in pdf_doc if page.page_content in chunk.page_content]}\n",
    "            chunk_list.append(Document(id=i, page_content=chunk.page_content, metadata=metadata))\n",
    "\n",
    "        return chunk_list\n",
    "\n",
    "tsplit_texts = chunking_RecursiveCharacterTextSplitter(pdf_pages)"
   ]
  },
  {
   "cell_type": "code",
   "execution_count": 140,
   "metadata": {},
   "outputs": [],
   "source": [
    "# tsplit_texts"
   ]
  },
  {
   "cell_type": "code",
   "execution_count": 21,
   "metadata": {},
   "outputs": [],
   "source": [
    "import openai\n",
    "from langchain_community.embeddings.openai import OpenAIEmbeddings\n",
    "from langchain_community.vectorstores import SupabaseVectorStore\n",
    "from supabase.client import create_client\n",
    "from dotenv import dotenv_values\n",
    "\n",
    "env_vars = dotenv_values('../.env')\n",
    "supabase_url = env_vars.get('SUPABASE_URL')\n",
    "supabase_key = env_vars.get('SUPABASE_KEY')\n",
    "\n",
    "def fetch_stored_embedding():\n",
    "    embeddings = OpenAIEmbeddings(model=\"text-embedding-3-small\", openai_api_key=openai.api_key)\n",
    "    supabase_client = create_client(supabase_url, supabase_key)\n",
    "    vector_store = SupabaseVectorStore(\n",
    "        client=supabase_client,\n",
    "        embedding=embeddings,\n",
    "        table_name=\"documents\",\n",
    "        query_name=\"match_documents\",\n",
    "    )\n",
    "    return vector_store\n",
    "vector_store = fetch_stored_embedding()\n",
    "\n",
    "# def store_to_supabase(docs: list):\n",
    "#     embeddings = OpenAIEmbeddings(model=\"text-embedding-3-small\", openai_api_key=openai.api_key)\n",
    "#     supabase_client = create_client(supabase_url, supabase_key)\n",
    "#     vector_store = SupabaseVectorStore.from_documents(\n",
    "#         docs,\n",
    "#         embeddings,\n",
    "#         client=supabase_client,\n",
    "#         table_name=\"documents\",\n",
    "#         query_name=\"match_documents\",\n",
    "#         chunk_size=500,\n",
    "#     )\n",
    "#     return vector_store\n",
    "# # docs = [ Document(page_content=\"This is a long text\", metadata={\"id\": 1})]\n",
    "# store_to_supabase(tsplit_texts)"
   ]
  },
  {
   "cell_type": "code",
   "execution_count": 47,
   "metadata": {},
   "outputs": [
    {
     "name": "stdout",
     "output_type": "stream",
     "text": [
      "Total count of embeddings in the vector store: 2456\n"
     ]
    }
   ],
   "source": [
    "supabase_client = create_client(supabase_url, supabase_key)\n",
    "total_count = supabase_client.table(\"documents\").select(\"*\", count=\"exact\").execute().count\n",
    "print(f\"Total count of embeddings in the vector store: {total_count}\")"
   ]
  },
  {
   "cell_type": "code",
   "execution_count": 19,
   "metadata": {},
   "outputs": [],
   "source": [
    "# import chromadb\n",
    "\n",
    "# def connect_with_chromadb(embedding_function, token_split_texts):\n",
    "#     chroma_client = chromadb.Client()\n",
    "#     chroma_collection = chroma_client.create_collection(\"microsoft_annual_report_28p5\", embedding_function=embedding_function)\n",
    "\n",
    "#     # Extract the text from the Document objects\n",
    "#     text_list = [doc.page_content for doc in token_split_texts]\n",
    "\n",
    "#     ids = [str(i) for i in range(len(text_list))]\n",
    "\n",
    "#     chroma_collection.add(ids=ids, documents=text_list)\n",
    "#     chroma_collection.count()\n",
    "#     return chroma_collection\n",
    "\n",
    "# chroma_collection = connect_with_chromadb(embedding_function, tsplit_texts)"
   ]
  },
  {
   "cell_type": "code",
   "execution_count": null,
   "metadata": {},
   "outputs": [],
   "source": [
    "chroma_collection = connect_with_chromadb(embedding_function, tsplit_texts)\n",
    "# chroma_collection.count()"
   ]
  },
  {
   "cell_type": "code",
   "execution_count": 127,
   "metadata": {},
   "outputs": [],
   "source": [
    "chroma_collection\n",
    "\n",
    "def vectordb_answer_question(query, chroma_collection):\n",
    "    # query = \"What was the total revenue?\"\n",
    "    results = chroma_collection.query(query_texts=[query], n_results=chroma_collection.count())\n",
    "    retrieved_documents = results['documents'][0]\n",
    "\n",
    "    # for document in retrieved_documents:\n",
    "    #     print(document)\n",
    "    #     print('\\n')\n",
    "    return retrieved_documents\n"
   ]
  },
  {
   "cell_type": "code",
   "execution_count": 35,
   "metadata": {},
   "outputs": [
    {
     "data": {
      "text/plain": [
       "chromadb.api.models.Collection.Collection"
      ]
     },
     "execution_count": 35,
     "metadata": {},
     "output_type": "execute_result"
    }
   ],
   "source": [
    "type(chroma_collection)"
   ]
  },
  {
   "cell_type": "code",
   "execution_count": 47,
   "metadata": {},
   "outputs": [],
   "source": []
  },
  {
   "cell_type": "code",
   "execution_count": 20,
   "metadata": {},
   "outputs": [],
   "source": [
    "from dotenv import dotenv_values\n",
    "env_vars = dotenv_values('../.env')\n",
    "openai.api_key = env_vars.get('OPENAI_API_KEY')\n",
    "openai_client = openai.OpenAI(api_key=openai.api_key)\n",
    "def openai_model_answer(query, retrieved_documents, model=\"gpt-3.5-turbo\"):\n",
    "    information = \"\\n\\n\".join([doc.page_content for doc in retrieved_documents])\n",
    "\n",
    "    messages = [\n",
    "        {\"role\": \"system\", \"content\": \"You are an AI assistant that provides answers to questions based on the given information.\"},\n",
    "        {\"role\": \"user\", \"content\": f\"Question: {query}. Information: {information}\"}\n",
    "    ]\n",
    "\n",
    "    response = openai_client.chat.completions.create(\n",
    "        model=model,\n",
    "        messages=messages,\n",
    "    )\n",
    "\n",
    "    return response.choices[0].message.content.strip()"
   ]
  },
  {
   "cell_type": "code",
   "execution_count": 24,
   "metadata": {},
   "outputs": [
    {
     "name": "stdout",
     "output_type": "stream",
     "text": [
      "Based on the provided information, it is stated in the Confidentiality, Non-Compete, and IP Ownership Undertaking that any Work Product created will be fully and exclusively owned by the Company, and the Advisor will not obtain any rights in the Work Product. Additionally, the Advisor will not be entitled to any compensation with respect to the Services that is not specifically agreed in writing between the Advisor and the Company. This indicates that the escrow amount is greater than the retention amount in this context.\n"
     ]
    }
   ],
   "source": [
    "query =\"Is the escrow amount greater that the retention amount?\"\n",
    "res = vector_store.similarity_search(query)\n",
    "output_answer = openai_model_answer(query=query, retrieved_documents=res)\n",
    "print(output_answer)"
   ]
  },
  {
   "cell_type": "code",
   "execution_count": 51,
   "metadata": {},
   "outputs": [
    {
     "data": {
      "text/plain": [
       "[Document(metadata={'page_number': 2}, page_content='-  3- \\n \\nconstitute salary payments, and 40% of such payments shall constitute payment by the Company for \\nall other Advisor statutory rights and benefits as employee of the Company throughout the Term. \\nAdvisor further consents that the Compan y may offset any amounts due to him under this Section \\nfrom any amounts payable to Advisor under this Agreement. Advisor shall indemnify the Company \\nfor any loss or expenses incurred by the Company if it were determined that an alleged \\nemployer/employee relationship existed between the Advisor and the Company.  \\n \\n9. Entire Agreement; No Waiver or Assignment : This Agreement together with the Exhibits, which \\nare attached hereto and incorporated herein, set forth the entire Agreement between the pa rties and \\nshall supersede all previous communications and agreements between the parties, either oral or \\nwritten. This Agreement may be modified only by a written amendment executed by both parties. \\nThis Agreement may not be assigned, sold, delegated or transferred in any manner by Advisor for any \\nreason whatsoever. The Company may assign the Agreement to a successor of all or substantially all \\nof its assets or business, provided the assignee has assumed the Company ’s obligations under this \\nAgreement.   \\n \\n10. Governing Law and Jurisdiction :  This Agreement shall be governed by the laws of the State of \\nIsrael, without giving effect to the rules respecting conflicts of laws. The parties consent to the \\nexclusive jurisdiction and venue of Tel Aviv courts for any lawsuit filed arising from or relating to \\nthis Agreement.    \\n \\n11. Notices : Notices under this Agreement shall be delivered to the party ’s email address as follows: \\nCompany: info@cloudcorp.com , Advisor: jackrobinson@gmail.com , or in any the other means with a \\nproof of acceptance by the other party. \\n \\nIN WITNESS WHEREOF the parties have executed this Agreement as of the date first above written. \\n \\n \\n \\nCloud Investments Ltd.    Advisor  \\n \\nBy: ________________________  By:________________________ \\nName: Silvan Joseph    Name: Jack Robinson   \\nTitle: CEO'),\n",
       " Document(metadata={'page_number': 2}, page_content='-  3- \\n \\nconstitute salary payments, and 40% of such payments shall constitute payment by the Company for \\nall other Advisor statutory rights and benefits as employee of the Company throughout the Term. \\nAdvisor further consents that the Compan y may offset any amounts due to him under this Section \\nfrom any amounts payable to Advisor under this Agreement. Advisor shall indemnify the Company \\nfor any loss or expenses incurred by the Company if it were determined that an alleged \\nemployer/employee relationship existed between the Advisor and the Company.  \\n \\n9. Entire Agreement; No Waiver or Assignment : This Agreement together with the Exhibits, which \\nare attached hereto and incorporated herein, set forth the entire Agreement between the pa rties and \\nshall supersede all previous communications and agreements between the parties, either oral or \\nwritten. This Agreement may be modified only by a written amendment executed by both parties. \\nThis Agreement may not be assigned, sold, delegated or transferred in any manner by Advisor for any \\nreason whatsoever. The Company may assign the Agreement to a successor of all or substantially all \\nof its assets or business, provided the assignee has assumed the Company ’s obligations under this \\nAgreement.   \\n \\n10. Governing Law and Jurisdiction :  This Agreement shall be governed by the laws of the State of \\nIsrael, without giving effect to the rules respecting conflicts of laws. The parties consent to the \\nexclusive jurisdiction and venue of Tel Aviv courts for any lawsuit filed arising from or relating to \\nthis Agreement.    \\n \\n11. Notices : Notices under this Agreement shall be delivered to the party ’s email address as follows: \\nCompany: info@cloudcorp.com , Advisor: jackrobinson@gmail.com , or in any the other means with a \\nproof of acceptance by the other party. \\n \\nIN WITNESS WHEREOF the parties have executed this Agreement as of the date first above written. \\n \\n \\n \\nCloud Investments Ltd.    Advisor  \\n \\nBy: ________________________  By:________________________ \\nName: Silvan Joseph    Name: Jack Robinson   \\nTitle: CEO'),\n",
       " Document(metadata={'page_number': 0}, page_content='ADVISORY SERVICES AGREEMENT \\n \\nThis Advisory Services Agreement is entered into as of June 15th, 2023 (the “Effective Date ”), by and \\nbetween Cloud Investments Ltd., ID 51-426526-3, an Israeli company (the \" Company \"), and Mr. Jack \\nRobinson, Passport Number 780055578, residing at 1 Rabin st, Tel Aviv, Israel, Email: \\njackrobinson@gmail.com (\"Advisor \"). \\n \\nWhereas, Advisor has expertise and/or knowledge and/or relationships, which are relevant to the \\nCompany ’s business and the Company has asked Advisor to provide it with certain Advisory \\nservices, as described in this Agreement; and \\nWhereas,  Advisor has agreed to provide the Company with such services, subject to the terms set forth \\nin this Agreement. \\n \\nNOW THEREFORE THE PARTIES AGREE AS FOLLOWS: \\n \\n1. Services:   \\n1.1 Advisor shall provide to the Company, as an independent contractor, software development \\nservices, and / or any other services as agreed by the parties from time to time (the “Services ”). \\nAdvisor shall not appoint any sub-agents or delegates in connection with performance of the \\nServices, nor assign any of his obligations or rights hereunder without obtaining the prior written \\nconsent of the Company.  \\nWithout derogating from the foregoing, the Advisor shall not be required to provide the Services \\nfor a period of eighteen (18) days in each 12-month period.  \\n1.2 In performing the Services, Advisor shall devote his time, know-how, expertise, talent, \\nexperience and best efforts and attention to the provision of the Services, as shall be reasonably \\nrequired by the Company . Advisor shall render the Services in a diligent manner and at a high \\nprofessional standard for the benefit of the Company and shall perform and discharge well and \\nfaithfully, with devotion, honesty and fidelity, his obligations hereunder.  \\n1.3 Advisor further agrees and undertakes to (i) comply with all the Company\\'s policies, procedures \\nand objectives, as in effect from time to time; (ii) adhere to any applicable law or provision, \\npertaining to his services; (iii) not take any action with the intention that the same will cause \\nmaterial damage to the good name of the Company; (iv) keep the contents of this Agreement \\nconfidential and not to disclose the existence or contents of this Agreement to any third party \\nwithout the prior written consent of the Company. \\n \\n2. Time Tracking:  Advisor shall provide the Company with a written report, in a format acceptable by \\nthe Company, setting forth the number of hours in which he provided the Services, on a daily basis, as \\nwell as an aggregated monthly report at the last day of each calendar month. \\n3. No Conflicts: Advisor represents that there is no contractual or other legal restriction preventing or \\nlimiting him/her from entering into this Agreement or performing any of his/her obligations \\nhereunder. Advisor shall immediately and without delay inform the Company of any affairs and/or \\nmatters that might constitute a conflict of interest with his/her services to Company and/or the \\ninterests of the Company. Advisor agrees to indemnify, defend and hold harmless the Company and \\nits directors, officers and employees against all claims, liabilities, and costs, including reasonable \\nattorneys\\' fees in connection with any breach by Advisor, of any obligations pursuant to a prior or \\nexisting engagement with any other third party, including without limitation other employers or \\nclients.'),\n",
       " Document(metadata={'page_number': 0}, page_content='ADVISORY SERVICES AGREEMENT \\n \\nThis Advisory Services Agreement is entered into as of June 15th, 2023 (the “Effective Date ”), by and \\nbetween Cloud Investments Ltd., ID 51-426526-3, an Israeli company (the \" Company \"), and Mr. Jack \\nRobinson, Passport Number 780055578, residing at 1 Rabin st, Tel Aviv, Israel, Email: \\njackrobinson@gmail.com (\"Advisor \"). \\n \\nWhereas, Advisor has expertise and/or knowledge and/or relationships, which are relevant to the \\nCompany ’s business and the Company has asked Advisor to provide it with certain Advisory \\nservices, as described in this Agreement; and \\nWhereas,  Advisor has agreed to provide the Company with such services, subject to the terms set forth \\nin this Agreement. \\n \\nNOW THEREFORE THE PARTIES AGREE AS FOLLOWS: \\n \\n1. Services:   \\n1.1 Advisor shall provide to the Company, as an independent contractor, software development \\nservices, and / or any other services as agreed by the parties from time to time (the “Services ”). \\nAdvisor shall not appoint any sub-agents or delegates in connection with performance of the \\nServices, nor assign any of his obligations or rights hereunder without obtaining the prior written \\nconsent of the Company.  \\nWithout derogating from the foregoing, the Advisor shall not be required to provide the Services \\nfor a period of eighteen (18) days in each 12-month period.  \\n1.2 In performing the Services, Advisor shall devote his time, know-how, expertise, talent, \\nexperience and best efforts and attention to the provision of the Services, as shall be reasonably \\nrequired by the Company . Advisor shall render the Services in a diligent manner and at a high \\nprofessional standard for the benefit of the Company and shall perform and discharge well and \\nfaithfully, with devotion, honesty and fidelity, his obligations hereunder.  \\n1.3 Advisor further agrees and undertakes to (i) comply with all the Company\\'s policies, procedures \\nand objectives, as in effect from time to time; (ii) adhere to any applicable law or provision, \\npertaining to his services; (iii) not take any action with the intention that the same will cause \\nmaterial damage to the good name of the Company; (iv) keep the contents of this Agreement \\nconfidential and not to disclose the existence or contents of this Agreement to any third party \\nwithout the prior written consent of the Company. \\n \\n2. Time Tracking:  Advisor shall provide the Company with a written report, in a format acceptable by \\nthe Company, setting forth the number of hours in which he provided the Services, on a daily basis, as \\nwell as an aggregated monthly report at the last day of each calendar month. \\n3. No Conflicts: Advisor represents that there is no contractual or other legal restriction preventing or \\nlimiting him/her from entering into this Agreement or performing any of his/her obligations \\nhereunder. Advisor shall immediately and without delay inform the Company of any affairs and/or \\nmatters that might constitute a conflict of interest with his/her services to Company and/or the \\ninterests of the Company. Advisor agrees to indemnify, defend and hold harmless the Company and \\nits directors, officers and employees against all claims, liabilities, and costs, including reasonable \\nattorneys\\' fees in connection with any breach by Advisor, of any obligations pursuant to a prior or \\nexisting engagement with any other third party, including without limitation other employers or \\nclients.')]"
      ]
     },
     "execution_count": 51,
     "metadata": {},
     "output_type": "execute_result"
    }
   ],
   "source": [
    "res"
   ]
  },
  {
   "cell_type": "code",
   "execution_count": null,
   "metadata": {},
   "outputs": [],
   "source": [
    "# query = \"Under what circumstances and to what extent the Sellers are responsible for a breach of representations and warranties?\"\n",
    "query = \"Is the escrow amount greater than the retention amount?\"\n",
    "# query =\"Who are the parties to the Agreement and what are their defined names?\"\n",
    "# query = \"Is there a non-compete obligation to the Advisor?\"\n",
    "# query = \"In which street does the Advisor live?\"\n",
    "retrieved_documents = vectordb_answer_question(query, chroma_collection)\n",
    "# output_answer = chom.openai_model_answer(query=query, retrieved_documents=retrieved_documents)\n",
    "# print(output_answer)"
   ]
  },
  {
   "cell_type": "code",
   "execution_count": 129,
   "metadata": {},
   "outputs": [
    {
     "data": {
      "text/plain": [
       "['Securityholder ’s Pro Rata Percentage (the “Allocation Statement ”).6  \\n(b) At the Closing, Buyer shall deposit the Escrow Amount with the Escrow Agent to',\n",
       " 'the Escrow Agreement or (ii) the amount, if any, by which such estimated Purchase Price paid at \\nClosing in accordance with Section 2.05(a)(i) and Section 2.07(a) exceeds such re-calculated',\n",
       " 'such released amounts in accordance with their Pro Rata Percentages.  From and after the \\nClosing, Buyer and the Sellers ’ Representative will direct the Escrow Agent to disburse',\n",
       " 'Escrow Agent shall release the Escrow Amount to Company Securityholders in accordance with \\nthe Escrow Agreement or (ii) the amount, if any, by which such estimated Purchase Price paid at',\n",
       " 'and (ii) the amounts, if any, from time to time payable to such Optionholder in respect \\nthereof under the Escrow Agreement.',\n",
       " '(a) At Closing, Buyer will deposit the Escrow Amount in escrow on behalf of the \\nSellers in accordance with the Escrow Agreement.  The Escrow Amount shall be held and,',\n",
       " 'the Escrow Amount multiplied by such Warrantholder ’s Pro Rata Percentage and (ii) the \\namounts, if any, from time to time payable to such Warrantholder in respect thereof under the',\n",
       " 'theretofore have been exercised and (b) equals the Escrow Amount multiplied by such \\nOptionholder ’s Pro Rata Percentage (the amount so payable for the benefit of all holders',\n",
       " 'gains of such Person (including stock appreciation, phantom stock, profit participation or other \\nsimilar rights). \\n“Escrow Amount ” means, $1,000,000',\n",
       " 'Contemplated Transactions but excluding Compensation); (c) 50% of all fees and expenses of \\nthe Escrow Agent under the Escrow Agreement, (d) 50% of all premiums paid in connection',\n",
       " 'the Escrow Agreement (and any remaining balance of the Escrow Amount not required to be \\npaid to the Buyer shall be released to Company Securityholders in accordance with the terms of',\n",
       " 'Sellers in accordance with the Escrow Agreement.  The Escrow Amount shall be held and, \\nsubject to Section 2.07, released to the Company Securityholders in accordance with the',\n",
       " '(b) At the Closing, Buyer shall deposit the Escrow Amount with the Escrow Agent to \\nbe held in a separate account (the “Escrow Account ”).  The Escrow Account shall be governed',\n",
       " 'Purchase Price paid at Closing in accordance with Section 2.05(a)(i) and Section 2.07(a) and the \\nEscrow Agent shall release the Escrow Amount to Company Securityholders in accordance with',\n",
       " '(b) if applicable, following the Closing as described in Section 2.07(f). The Closing Cash \\nConsideration plus the Escrow Amount, after all adjustments contemplated in this Agreement, is',\n",
       " 'the Escrow Agreement). \\nSection 2.08  Escrow.   \\n(a) At Closing, Buyer will deposit the Escrow Amount in escrow on behalf of the',\n",
       " 'the Purchase Price (as set forth in Section 2.07(e)) and any such claim shall expire upon the \\ntermination of the Escrow Agreement.  \\n \\nSection 2.09  Withholding Rights.',\n",
       " 'thereof under the Escrow Agreement.  \\n(c) Vesting Acceleration and Cancellation of Options. Effective as of the Closing, (i)',\n",
       " 'agent, manager, consultant, advisor, or other representative of such Person, including legal \\ncounsel, accountants, and financial advisors. \\n“Retention Amount ” means an amount equal to $5,000,000.',\n",
       " 'in escrow and shall be available solely for the purpose of satisfying obligations of the Company \\nSecurityholders, if any, as provided in Section 2.07(f). \\nSection 2.05  Closing Deliveries.',\n",
       " '(b) Recovery from the Escrow Amount shall constitute the Buyer ’s exclusive remedy \\nagainst the Company Securityholders in connection with any claim relating to any adjustments of',\n",
       " 'final Purchase Price shall be paid to the Buyer, or its designee, in accordance with the terms of \\nthe Escrow Agreement (and any remaining balance of the Escrow Amount not required to be',\n",
       " 'of this Agreement and the terms of the Escrow Agreement including: (a) in the case of any \\ndisbursement that is required by the terms of this Agreement and as to which there is no dispute',\n",
       " 'such escrow account any amounts owed by the Sellers pursuant to this Agreement or the Escrow \\nAgreement or otherwise in connection with the Contemplated Transactions;',\n",
       " 'and the Escrow Agreement notwithstanding any dispute or disagreement among any of the \\nSellers or the Sellers ’ Representative with respect to any such action or decision without any',\n",
       " 'provisions of this Agreement, of such dispute. \\n(b) Recovery from the Escrow Amount shall constitute the Buyer ’s exclusive remedy',\n",
       " 'of all holders of Warrants on the Closing, the “Closing Warrant Consideration ”) and (b) equals \\nthe Escrow Amount multiplied by such Warrantholder ’s Pro Rata Percentage and (ii) the',\n",
       " '“Closing Cash Consideration ” means an amount equal to (i) $50,000,000, minus (ii) the \\nEscrow Amount, minus (iii) the Closing Debt Amount, plus (iv) the Closing Cash Amount,',\n",
       " 'by the terms of the Escrow Agreement.  All funds contained in the Escrow Account shall be held \\nin escrow and shall be available solely for the purpose of satisfying obligations of the Company',\n",
       " '“Retention Amount ” means an amount equal to $5,000,000. \\n“Section 102 ” means section 102 of the Income Tax Ordinance.',\n",
       " 'Parent (as applicable); \\n(iii) to the Escrow Agent, by wire transfer of immediately available funds, the Escrow \\nAmount;',\n",
       " 'Consideration plus the Escrow Amount, after all adjustments contemplated in this Agreement, is \\nreferred to herein as the “Purchase Price ”.',\n",
       " '(iii) to the Escrow Agent, by wire transfer of immediately available funds, the Escrow \\nAmount; \\n(iv) repay, or cause to be repaid, in accordance with the payoff letters delivered by the',\n",
       " 'termination of the Escrow Agreement.  \\n \\nSection 2.09  Withholding Rights. \\n(a) (a) Notwithstanding any other provision of this Agreement, each of the Buyer',\n",
       " 'the Escrow Agent under the Escrow Agreement, (d) 50% of all premiums paid in connection \\nwith the R&W Insurance Policy, (e) the employer portion of any payroll Tax of any Acquired',\n",
       " 'payments from the Escrow Account in accordance with the purchase price adjustment provisions \\nof this Agreement and the terms of the Escrow Agreement including: (a) in the case of any',\n",
       " 'Escrow Amount, minus (iii) the Closing Debt Amount, plus (iv) the Closing Cash Amount, \\nminus (v) the sum of all Seller Transaction Expenses.  \\n“Code ” means the U.S. Internal Revenue Code of 1986.',\n",
       " '(3) Business Days following the Closing Date; \\n(b) to the Sellers ’ Representative, a copy of the Escrow Agreement [and Paying',\n",
       " 'paid to the Buyer shall be released to Company Securityholders in accordance with the terms of \\nthe Escrow Agreement). \\nSection 2.08  Escrow.',\n",
       " '(or as to which the disputing party has failed to notify the Escrow Agent and the other parties of \\nits dispute in accordance with any applicable requirements under this Agreement and the Escrow',\n",
       " 'Amount or the Seller Transaction Expenses (as finally determined pursuant to this Section 2.07 \\nand as set forth in the Final Closing Statement) differs from the estimated amounts thereof set',\n",
       " 'Buyer in respect of any indebtedness (including unused commitments therefor) included in the \\nClosing Debt Amount and the termination of all Encumbrances (other than Permitted',\n",
       " 'withhold from the Closing Cash Payment and from any other payments otherwise required \\npursuant to this Agreement, such amount in cash as the Buyer and/or such anyone acting on its',\n",
       " 'Escrow Agreement; and \\n(v) take all other actions permitted or required to be taken by or on behalf of the',\n",
       " 'amounts, if any, from time to time payable to such Warrantholder in respect thereof under the \\nEscrow Agreement.   At the Closing, each holder of an outstanding Warrant shall deliver to the',\n",
       " 'Sellers or the Sellers ’ Representative are permitted or required to do or exercise under this \\nAgreement or the Escrow Agreement.',\n",
       " 'Closing, Buyer and the Sellers ’ Representative will direct the Escrow Agent to disburse \\npayments from the Escrow Account in accordance with the purchase price adjustment provisions',\n",
       " 'or anyone acting on its behalf, the Paying Agent, the Escrow Agent and the Section 102 Trustee \\nand any other applicable withholding agent (each a “Payor ”), shall be entitled to deduct and',\n",
       " 'Escrow Agreement, or any consent, acknowledgment or release relating to this Agreement or the \\nEscrow Agreement; and',\n",
       " 'be held in a separate account (the “Escrow Account ”).  The Escrow Account shall be governed \\nby the terms of the Escrow Agreement.  All funds contained in the Escrow Account shall be held',\n",
       " 'Agreement or the Escrow Agreement. \\n(b) Liability.  The Sellers ’ Representative shall not be held liable by any of the',\n",
       " '(a) (a) Notwithstanding any other provision of this Agreement, each of the Buyer \\nor anyone acting on its behalf, the Paying Agent, the Escrow Agent and the Section 102 Trustee',\n",
       " 'and as set forth in the Final Closing Statement) differs from the estimated amounts thereof set \\nforth in the Estimated Closing Statement, the Purchase Price shall be recalculated using such',\n",
       " 'disbursement that is required by the terms of this Agreement and as to which there is no dispute \\n(or as to which the disputing party has failed to notify the Escrow Agent and the other parties of',\n",
       " 'by Section 1.02(d) in a format reasonably accessible by Buyer; \\n(vii) a copy of the Escrow Agreement [and Paying Agent Agreement], duly executed \\nby the Sellers ’ Representative; and',\n",
       " 'forth in the Estimated Closing Statement, the Purchase Price shall be recalculated using such \\nfinal figures in lieu of such estimated figures, and (i) the Buyer shall pay in cash to eac h',\n",
       " '(b) to the Sellers ’ Representative, a copy of the Escrow Agreement [and Paying \\nAgent Agreement], duly executed by Buyer. Sellers Closing Deliveries. Upon the terms and',\n",
       " 'Agreement, including giving any instructions or authorizations to the Escrow Agent to pay from \\nsuch escrow account any amounts owed by the Sellers pursuant to this Agreement or the Escrow',\n",
       " 'employee ’s name on Exhibit 6.14(c), in the aggregate amount of the Retention Amount, on term s \\nset forth on Exhibit 6.14(c).',\n",
       " 'of the amount, if any, by which such re-calculated final Purchase Price exceeds the estimated \\nPurchase Price paid at Closing in accordance with Section 2.05(a)(i) and Section 2.07(a) and the',\n",
       " 'Seller ’s Representative has notified the other and the Escrow Agent (in accordance with any \\nnotice and timing requirements applicable under this Agreement and the Escrow Agreement) that',\n",
       " 'required or appropriate to carry out the Contemplated Transactions. \\nSection 6.14  Employees and Benefits; Retention Pool',\n",
       " 'Common Shares subject to such Vested Option for which such Option shall not \\ntheretofore have been exercised and (b) equals the Escrow Amount multiplied by such',\n",
       " 'Company Securityholders), on the other hand, based upon the percentage which the portion of \\nthe contested amount not awarded to Buyer, on the one hand, and Sellers ’ Representative, on the',\n",
       " '-21- \\n112923184_5 provisions of the Escrow Agreement with the Company Securityholders being entitled to share in',\n",
       " 'under the CARES Act \\uf028other than any payment or consideration payable under this Agreement or \\nany Ancillary Agreement, including the payment of the Retention Amount or Employees Closing',\n",
       " 'there is a good faith dispute, they will provide joint payment instructions to the Escrow Agent to \\ndirect the appropriate disbursement promptly upon the resolution, in accordance with the',\n",
       " 'any and all actions taken by and decisions of the Sellers ’ Representative under this Agreement \\nand the Escrow Agreement notwithstanding any dispute or disagreement among any of the',\n",
       " 'allocated between Buyer, on the one hand, and Sellers ’ Representative (on behalf of the \\nCompany Securityholders), on the other hand, based upon the percentage which the portion of',\n",
       " 'Statement ”) setting forth (i) the Sellers ’ Representative ’s good faith estimate (together with \\nreasonable detail) of the Closing Cash Amounts, (ii) a list of all payees to whom any portion of',\n",
       " 'Sellers under this Agreement or the Escrow Agreement and exercise any and all rights that the \\nSellers or the Sellers ’ Representative are permitted or required to do or exercise under this',\n",
       " 'arising out of or relating to this Agreement, the Escrow Agreement or the Contemplated \\nTransactions; \\n(iii) receive and give all notices, make all decisions and take all other actions on',\n",
       " 'the Accounting Firm ’s engagement. \\n(e) Purchase Price Adjustment.  If any of the Closing Cash Amount, the Closing Debt',\n",
       " 'Section 2.08  Escrow ............................................................................................................. 19  \\nARTICLE III REPRESENTATIONS AND WARRANTIES REGARDING THE',\n",
       " 'its dispute in accordance with any applicable requirements under this Agreement and the Escrow \\nAgreement), they will provide prompt joint payment instructions directing the Escrow Agent to',\n",
       " 'pursuant to this Agreement, such amount in cash as the Buyer and/or such anyone acting on its \\nbehalf is required to deduct and withhold with respect to any payments under the Code or any',\n",
       " 'Closing in accordance with Section 2.05(a)(i) and Section 2.07(a) exceeds such re-calculated \\nfinal Purchase Price shall be paid to the Buyer, or its designee, in accordance with the terms of',\n",
       " '(iii) receive and give all notices, make all decisions and take all other actions on \\nbehalf of the Sellers in connection with the escrow account established pursuant to the Escrow',\n",
       " 'set forth in Section 2.06, Article VII, Article VIII or any other Actions directly or indirectly \\narising out of or relating to this Agreement, the Escrow Agreement or the Contemplated',\n",
       " 'Agreement), they will provide prompt joint payment instructions directing the Escrow Agent to \\nmake such disbursement and (b) in the case of a disbursement as to which either the Buyer or the',\n",
       " 'employee. \\n(c) Buyer undertakes to pay or cause the Acquired Companies to pay certain \\nemployees identified on Exhibit 6.14(c) the retention bonuses set forth opposite each such',\n",
       " 'Transaction Expenses reflected thereon) will be final, conclusive and binding on the parties \\nunless the Sellers ’ Representative provides a written notice (a “Dispute Notice ”) to Buyer no',\n",
       " 'shall be cancelled and automatically converted into the right to receive (i) on the Closing Date, a \\ncash payment in an amount equal to (a) minus (b) where (a) equals (A) the excess of (x) the Per',\n",
       " 'claims or rights of substantial value other than in the Ordinary Course of Business; \\n(viii) made any capital exp enditures that are in the aggregate in excess of $[●];',\n",
       " '(iv) payoff and lien release letters in form and substance reasonably satisfactory to \\nBuyer in respect of any indebtedness (including unused commitments therefor) included in the',\n",
       " 'the contested amount not awarded to Buyer, on the one hand, and Sellers ’ Representative, on the \\nother hand, bears to the amount actually contested by such Person, as determined by the',\n",
       " 'commercial terms as of the Closing Date, (ii) involves license, maintenance, support, and other \\nfees less than $[●] per year in the aggregate, (iii) is not material to the Business, (iv) is not',\n",
       " 'consummation of the Contemplated Transactions. \\n“Closing Cash Amount ” means the sum of all cash and cash equivalents of the Acquired',\n",
       " 'employees identified on Exhibit 6.14(c) the retention bonuses set forth opposite each such \\nemployee ’s name on Exhibit 6.14(c), in the aggregate amount of the Retention Amount, on term s',\n",
       " 'Company Securityholder by wire transfer of immediately available funds its Pro Rata Percentage \\nof the amount, if any, by which such re-calculated final Purchase Price exceeds the estimated',\n",
       " 'term or provision, and this Agreement will be enforceable as so modified after the expiration of \\nthe time within which the judgment may be appealed. Further, each Seller agrees that, (i) were',\n",
       " 'or deposit with, the 102 Trustee]: \\n(i) on the Closing Date - a cash payment in an amount equal to (a) minus (b) where (a)',\n",
       " 'make such disbursement and (b) in the case of a disbursement as to which either the Buyer or the \\nSeller ’s Representative has notified the other and the Escrow Agent (in accordance with any',\n",
       " 'Escrow Agreement.   At the Closing, each holder of an outstanding Warrant shall deliver to the \\nCompany and the Buyer an acknowledgement of the foregoing treatment (each a “Warrant',\n",
       " 'amounts, or the item or matter so specified or included, or other items or matters, are or are not \\nmaterial, and no Party may use the fact of the specification of any such amount or the',\n",
       " 'reasonably determined by Buyer and the Paying Agent. Such amount will be delivered or c aused \\nto be delivered to the ITA by the Paying Agent, and the Paying Agent will release to such Pa yee',\n",
       " 'notice and timing requirements applicable under this Agreement and the Escrow Agreement) that \\nthere is a good faith dispute, they will provide joint payment instructions to the Escrow Agent to',\n",
       " 'such capacity, for the satisfaction of any obligations to be performed by the Sellers hereunde r. \\n(c) Reliance on Appointment; Successor Sellers ’ Representative.  The Buyer may',\n",
       " '“Ancillary Agreements ” means the Escrow Agreement,  the Option Cancellation \\nAcknowledgments, and [and the Employment Agreements].',\n",
       " 'payments, that have resulted or would result, separately or in the aggregate, in the payment of \\nany “excess parachute payment ” within the meaning of Code Section 280G or in the imposition',\n",
       " 'final figures in lieu of such estimated figures, and (i) the Buyer shall pay in cash to eac h \\nCompany Securityholder by wire transfer of immediately available funds its Pro Rata Percentage',\n",
       " 'behalf of the Sellers in connection with the escrow account established pursuant to the Escrow \\nAgreement, including giving any instructions or authorizations to the Escrow Agent to pay from',\n",
       " 'Escrow Agreement and the Contemplated Transactions, with full and exclusive power and \\nauthority to act on such Seller ’s behalf (the “Sellers ’ Representative ”).  The appointment of the',\n",
       " 'material, and no Party may use the fact of the specification of any such amount or the \\nspecification or inclusion of any such item or matter in any dispute or controversy between the',\n",
       " 'Sellers ’ Representative pursuant to Section 2.05(b)(iv) and the Allocation Statement, on behalf \\nof the Company, the amounts as set forth in such payoff letters;',\n",
       " 'determinations of the Closing Debt Amount, the Closing Cash Amount, and the Seller \\nTransaction Expenses reflected thereon) will be final, conclusive and binding on the parties',\n",
       " 'than $[●] in aggregate, (B)  that admit liability or consent to non-monetary relief, or (C) that \\notherwise are or would reasonably be expected to be material to the Acquired Companies, taken',\n",
       " 'aggregate amount purchased by the Acquired Companies) during each of the 2019 and 2020 \\nfiscal years, indicating the Contractual Obligations for continued supply from each such supplier.',\n",
       " 'Companies as of immediately prior to the Closing, less (without duplication) the amount of \\noutstanding checks as of the Closing.',\n",
       " 'and each Ancillary Agreement to which it a party or (b) consummation of the Contemplated \\nTransactions by the Buyer.',\n",
       " 'amounts payable to such Payee will be calculated according to the applicable withholding rate as \\nreasonably determined by Buyer and the Paying Agent. Such amount will be delivered or c aused',\n",
       " '(viii) made any capital exp enditures that are in the aggregate in excess of $[●];  \\n(ix) increased, adopted, terminated or modified any benefits under any Employee Plan',\n",
       " 'in this Agreement, the Buyer shall deliver or cause to be delivered at the Closing the following: \\n(i) pay or cause to be paid the Closing Cash Amounts as set forth above, each',\n",
       " 'foregoing or otherwise threatened in writing to cancel, terminate or materially alter (including \\nany material reduction in the rate or amount of sales or purchases or material increase in the',\n",
       " 'Buyer shall pay, or cause to be paid, to the Sellers at Closing the Closing Cash Considera tion, as',\n",
       " 'holders of at least a majority- in-interest of the Sellers (determined by reference to their \\nrespective Pro Rata Percentages) and delivered to Parent, the Sellers may remove and designate a',\n",
       " 'such indebtedness (or the appropriate agents therefor), drafts of which shall have been provided \\nto Buyer prior to the date hereof ;',\n",
       " 'immediately prior to the Closing. [Except as disclosed on Schedule 3.11(c),] the consummation \\nof the transactions contemplated by this Agreement will not result in the loss or impairment of',\n",
       " '(e) Purchase Price Adjustment.  If any of the Closing Cash Amount, the Closing Debt \\nAmount or the Seller Transaction Expenses (as finally determined pursuant to this Section 2.07',\n",
       " 'and in effect.  The Company has delivered to the Buyer a written summary setting forth all of the \\nmaterial terms and conditions of each oral Contractual Obligation listed on Schedule 3.16.',\n",
       " 'changes resulting from the consummation of the Contemplated Transactions on the Closing \\nDate.  The Sellers ’ Representative and its Representatives shall have reasonable access to the',\n",
       " 'this Agreement and the Ancillary Agreements or the consummation of the Contemplated \\nTransactions, to the extent such costs, fees and expenses are payable by the Buyer at Closing or',\n",
       " 'the Sellers and the Buyer, and that the Buyer would be unwilling to enter into this Agreement in \\nthe absence of this Section 6.05(a).  Accordingly, each Seller hereby severally a grees with the',\n",
       " 'respect to claims relating to acts or omissions occurring prior to the Closing. The obligations of \\nBuyer and the Company (following the consummation of the Transactions contemplated by this',\n",
       " 'Proposed Final Closing Statement 2.07(c) \\nPurchase Price 2.02 \\nReal Property 3.10(a) \\nReal Property Leases 3.10(a) \\nReleasees 6.07(a) \\nReleasing Parties 6.07(a) \\nRestricted Period 6.08(a)',\n",
       " 'fees less than $[●] per year in the aggregate, (iii) is not material to the Business, (iv) is not \\ndistributed with, incorporated in, or necessary for use of, any product or service of an Acquired',\n",
       " 'and any other applicable withholding agent (each a “Payor ”), shall be entitled to deduct and \\nwithhold from the Closing Cash Payment and from any other payments otherwise required',\n",
       " 'Section 6.14  Employees and Benefits; Retention Pool \\n(a) To the extent that service is relevant for purposes of eligibility or vesting under',\n",
       " 'the Acquired Companies or their respective officers, employees or Affiliates after Closing,   and \\n(b) without duplication of any other amounts included within the definition of Seller Transaction',\n",
       " '(v) take all other actions permitted or required to be taken by or on behalf of the \\nSellers under this Agreement or the Escrow Agreement and exercise any and all rights that the',\n",
       " 'Amount; \\n(iv) repay, or cause to be repaid, in accordance with the payoff letters delivered by the \\nSellers ’ Representative pursuant to Section 2.05(b)(iv) and the Allocation Statement, on behalf',\n",
       " '(c) In the event that a Payor receives a written demand from the ITA to withhold any \\namount out of the amount held by such Payor for distribution to a particular Payee and transfer it',\n",
       " 'Agreement.  \\n(c) This Section 6.09 shall survive the consummation of the Contemplated \\nTransactions and the Closing Date, is intended to benefit and may be enforced by the D&O',\n",
       " '“Closing Cash Amount ” means the sum of all cash and cash equivalents of the Acquired \\nCompanies as of immediately prior to the Closing, less (without duplication) the amount of',\n",
       " 'Closing Debt Amount and the termination of all Encumbrances (other than Permitted \\nEncumbrances) on any assets securing such indebtedness, executed by the relevant holders of',\n",
       " 'prior to the Closing determined without giving effect to any reduction to such amount occurring \\nas a result of the repayment of Debt on the Closing Date.',\n",
       " 'the Company, the Seller Transaction Expenses, to the extent unpaid as of immediately prior to \\nthe Closing; provided that any Seller Transaction Expenses that are compensatory and payable to',\n",
       " 'of the Sellers, any amendment to, or waiver of, any term or provision of this Agreement or the \\nEscrow Agreement, or any consent, acknowledgment or release relating to this Agreement or the',\n",
       " 'payments to or by an Acquired Company in excess of $[●];  \\n(ii) any Contractual Obligation relating to the acquisition or disposition by any',\n",
       " '(iv) any prepaid amount received on or prior to the Closing Date other than prepayments by \\ncustomers. \\n(j) No Acquired Company owns any property of a character, the indirect transfer of',\n",
       " 'the time within which the judgment may be appealed. Further, each Seller agrees that, (i) were \\nsuch Seller to breach any of the covenants contained in this Section 6.08, the damage to the',\n",
       " 'ARTICLE V REPRESENTATIONS AND WARRANTIES OF THE BUYER. ........................ 40',\n",
       " 'Firm ”).  The Accounting Firm will promptly, in accordance with the guidelines and procedures \\nset forth in this Agreement, review only those unresolved items and amounts specifically set',\n",
       " 'immediately available funds –(a) the Closing Cash Consideration to or for the account of Sellers, \\n(b) the Warrant Closing Cash Consideration to or for the account of Warrantholders, (c) the',\n",
       " 'Seller (in each case, whether or not arising in connection with this Agreement or the \\nContemplated Transactions but excluding Compensation); (c) 50% of all fees and expenses of',\n",
       " 'outstanding checks as of the Closing. \\n“Closing Debt Amount ” means the amount of Debt of the Acquired Companies',\n",
       " 'provisions of this Section 8.02 shall survive the consummation of the Contemplated \\nTransactions. \\n \\n \\nARTICLE XI \\nMISCELLANEOUS',\n",
       " 'of expected return), and (xvi) any deferred compensation agreements or bonus, retention, \\nchange- in-control, relocation incentive, or profit-sharing, material understanding or commitment',\n",
       " 'calculated and adjusted (a) at the Closing as described in Section 2.04 and Section 2.05(a)(i), and \\n(b) if applicable, following the Closing as described in Section 2.07(f). The Closing Cash',\n",
       " '(disregarding Debt of any Acquired Company to another Acquired Company) as of immediately \\nprior to the Closing determined without giving effect to any reduction to such amount occurring',\n",
       " 'Optionholder ’s Pro Rata Percentage (the amount so payable for the benefit of all holders \\nof Vested Options on the Closing, the “Closing Vested Options Cash Consideration ”);',\n",
       " '(v) pay, or cause to be paid in accordance with the Allocation Statement, on behalf of \\nthe Company, the Seller Transaction Expenses, to the extent unpaid as of immediately prior to',\n",
       " 'reasonable detail) of the Closing Cash Amounts, (ii) a list of all payees to whom any portion of \\nthe Closing Debt Amount is payable, (iii) a list of all payees to whom any portion of the Seller',\n",
       " 'of Vested Options on the Closing, the “Closing Vested Options Cash Consideration ”); \\n and (ii) the amounts, if any, from time to time payable to such Optionholder in respect',\n",
       " 'the balance of the amount due to such Payee that is not so withheld. \\n(c) In the event that a Payor receives a written demand from the ITA to withhold any',\n",
       " 'share, which shall vest monthly on a linear basis over a period of 24 months commencing as of \\nthe Closing. The number of options to be granted to each Vested Optionholder shall be in equal',\n",
       " 'that are used in the operations of the Business and (ii) will continue to have such rights \\nimmediately after the Closing.  In the past three years, there has been no failure or other material',\n",
       " 'item on the Proposed Final Closing Statement which the Sellers ’ Representative believes has not \\nbeen prepared in accordance with this Agreement. Any item or amount to which no dispute is',\n",
       " 'the Closing and, in consideration of such cancellation, the holders of Vested Options and \\nWarrants shall receive the amounts and rights provided for herein, all upon the terms and subject',\n",
       " 'instructions) to which each of the foregoing payments is to be paid and (v) each Company \\nSecurityholder ’s Pro Rata Percentage (the “Allocation Statement ”).6',\n",
       " 'against the Company Securityholders in connection with any claim relating to any adjustments of \\nthe Purchase Price (as set forth in Section 2.07(e)) and any such claim shall expire upon the',\n",
       " 'any Ancillary Agreement, including the payment of the Retention Amount or Employees Closing \\nBonus Amount), but specifically excluding any severance that becomes payable as a result of a',\n",
       " 'determination of the Closing Debt Amount, Closing Cash Amount, and the Seller Transaction \\nExpenses (the “Proposed Final Closing Statement ”).  The Proposed Final Closing Statement will',\n",
       " 'respective Pro Rata Percentages) and delivered to Parent, the Sellers may remove and designate a \\nsuccessor Sellers ’ Representative; provided, that such successor Sellers ’ Representative must be',\n",
       " 'will not prohibit any retention of copies of records or disclosure (A) required by any applicable \\nLegal Requirement so long as reasonable prior notice is given to Parent and the Company of',\n",
       " 'Representative, a written statement setting forth in reasonable detail its proposed final \\ndetermination of the Closing Debt Amount, Closing Cash Amount, and the Seller Transaction',\n",
       " 'payment of substantially the same nature, is either fully funded according to generally accepted  \\naccounting principles by deposit of funds in pension funds, managers insurance policies or',\n",
       " 'all Encumbrances except as are imposed by Buyer.  Except pursuant to this Agreement, there is  \\nno Contractual Obligation pursuant to which such Seller has, directly or indirectly, granted any',\n",
       " 'as a result of the repayment of Debt on the Closing Date. \\n“Closing Cash Consideration ” means an amount equal to (i) $50,000,000, minus (ii) the',\n",
       " 'account for purposes of satisfying applicable deductible coinsurance and maximum out of pocket \\nprovisions after the Closing Date.',\n",
       " 'in full force and effect on identical terms immediately following the consummation of the \\nContemplated Transactions.',\n",
       " '-62- \\n112923184_5 Rata Percentage) the Sellers ’ Representative from any Losses arising out of its serving as the',\n",
       " 'detail of the basis for its decision.  The fees, costs and expenses of the Accounting Firm will be \\nallocated between Buyer, on the one hand, and Sellers ’ Representative (on behalf of the',\n",
       " 'Section 6.07  Release. As a material inducement to the Buyer to enter into this \\nAgreement, effective as of the Closing, each Seller, on behalf of itself, himself or herself; its, his',\n",
       " 'in this Agreement that are to be performed after the Closing will survive the Closing in \\naccordance with their terms.  Notwithstanding anything in this Agreement (including in',\n",
       " 'power to direct or cause the direction of the management and policies of such specified Person. \\n“Ancillary Agreements ” means the Escrow Agreement,  the Option Cancellation',\n",
       " 'their respective rights under this Agreement. In furtherance of this intention, each Seller he reby \\nexpressly waives, effective as of the Closing and subject to the exceptions set forth in this',\n",
       " 'reasonably be expected to have, a Material Adverse Effect.  The Company has delivered to the \\nBuyer accurate and complete copies of (a) the Organizational Documents of each Acquired',\n",
       " 'to be delivered to the ITA by the Paying Agent, and the Paying Agent will release to such Pa yee \\nthe balance of the amount due to such Payee that is not so withheld.',\n",
       " '(b) the Warrant Closing Cash Consideration to or for the account of Warrantholders, (c) the \\nClosing Vested Options Cash Consideration to the [102 Trustee] for the benefit of the Vested',\n",
       " '(including, for the avoidance of doubt, any such penalties, fees and premiums arising from the \\nearly termination of such Debt on the Closing Date), of such Person (a) for borrowed money',\n",
       " 'Sellers ’ Representative hereunder is coupled with an interest, shall be irrevocable and shall not \\nbe affected by the death, incapacity, insolvency, bankruptcy, illness or other inability to act of',\n",
       " 'this \\u200eSection 10.01 or \\u200eSection 10.02) or otherwise to the contrary, nothing will limit or reduce \\nBuyer ’s ability to make claims or recover or receive any remedy from any Person with re spect to',\n",
       " 'Section 2.07  Purchase Price Adjustment .............................................................................. 17',\n",
       " '(b) without duplication of any other amounts included within the definition of Seller Transaction \\nExpenses, any other payment, expense or fee that accrues or becomes payable by any Ac quired',\n",
       " 'Representative made in accordance with this Section 11.04.  In so doing, the Buyer may rely on \\nany and all actions taken by and decisions of the Sellers ’ Representative under this Agreement',\n",
       " 'execution, delivery and performance by such Seller of this Agreement or any Ancillary  \\nAgreement to which such Seller is a party nor the consummation of the Contemplated',\n",
       " 'and each Ancillary Agreement to which such Seller is a party or (b) consummation of the \\nContemplated Transactions by such Seller.',\n",
       " 'accordance with their terms.  Notwithstanding anything in this Agreement (including in \\nthis \\u200eSection 10.01 or \\u200eSection 10.02) or otherwise to the contrary, nothing will limit or reduce',\n",
       " 'amount of severance payment or any other payment of substantially the same nature, in \\nconnection with termination of any employment or consultancy relationship prior to the date \\nhereof.',\n",
       " 'the Contemplated Transactions). \\n(b) The Company shall obtain and fully pay the premium for “tail” directors ’ and',\n",
       " '(including amounts outstanding under overdraft facilities), (b) evidenced by notes, bonds, \\ndebentures or other similar Contractual Obligations,  (c) in respect of letters of credit and',\n",
       " 'employees, Buyer agrees to use commercially reasonable efforts to: (i) waive any pre-ex isting \\ncondition exclusions and (ii) provide that any covered expenses incurred on or before the Closing',\n",
       " '-22- \\n112923184_5 retained by the Paying Agent, for the benefit of such Payee for a period of up to 180 days from',\n",
       " 'other hand, bears to the amount actually contested by such Person, as determined by the \\nAccounting Firm. The decision of the Accounting Firm with respect to the disputed items of the',\n",
       " 'after the Closing, with or without cause, by a written instrument that is signed in writing by \\nholders of at least a majority- in-interest of the Sellers (determined by reference to their',\n",
       " 'Buyer and the Company (following the consummation of the Transactions contemplated by this \\nAgreement) or its successors under this \\u200eSection 6.09 shall not be terminated, amended or',\n",
       " 'Section 6.01  [Reserved] \\nSection 6.02  [Reserved] \\nSection 6.03  [Reserved].  \\nSection 6.04  Expenses.  Each party (other than the Sellers ’ Representative) will pay its',\n",
       " 'is no Person (other than any Acquired Company) in possession of any of the Real Property. \\n(d) The Company has delivered to the Buyer accurate and complete copies of th e',\n",
       " '(a) Confidentiality of the Sellers. Each Seller acknowledges that the success of the \\nAcquired Companies after the Closing depends upon the continued preservation of the',\n",
       " 'the case of Ancillary Agreements to be entered into at the Closing, will be when executed and \\ndelivered) duly executed and delivered by such Seller and (b) is a legal, valid and bindin g',\n",
       " 'suppliers has cancelled, terminated or otherwise materially altered (including any material \\nreduction in the rate or amount of sales or purchases or material increase in the prices charged or',\n",
       " 'Section 2.04  Closing Payments.  \\n(a) At the Closing, Buyer shall pay, or cause to be paid, through payment to the',\n",
       " 'Employee Closing Bonus Amount, to the individuals listed in Exhibit 2.10 (the “Employees \\nClosing Bonus Beneficiaries ”). At the Closing the Buyer shall deposit the Employee Closing',\n",
       " 'individual, the execution, delivery and performance by such Seller of this Agreement and each \\nAncillary Agreement to which such Seller is a party and the consummation of the Contemplated',\n",
       " 'Securityholders, if any, as provided in Section 2.07(f). \\nSection 2.05  Closing Deliveries. \\n(a) Buyer Closing Deliveries.  Upon the terms and subject to the conditions set forth',\n",
       " '\\uf020\\uf020\\uf020\\uf020\\uf020\\uf020\\uf020\\uf020\\uf020\\uf020\\uf020\\uf020\\uf020\\uf020\\uf020\\uf020\\uf020\\uf020\\uf020\\uf020\\uf020\\uf020\\uf020\\uf020\\uf020\\uf020\\uf020\\uf020\\uf020\\uf020\\uf020\\uf020\\uf020\\uf020\\uf020\\uf020\\uf020\\uf020\\uf020\\uf020\\uf020\\uf020\\uf020\\uf020\\uf020\\uf020\\uf020\\uf020\\uf020\\n20 Note to Draft:  Subject to finalization of transaction structure. \\uf020',\n",
       " 'Section 11.04 until receipt of written notice of the appointment of a successor Sellers ’ \\nRepresentative made in accordance with this Section 11.04.  In so doing, the Buyer may rely on',\n",
       " 'provisions after the Closing Date. \\n(b) Buyer intends to offer each of the employees to be employed by Buyer or remain',\n",
       " 'void ab initio ; provided, that (a) the Buyer may assign this Agreement and any or all of its rights',\n",
       " 'services, in each case, which provides for (or would be reasonably expected to involve) annual \\npayments to or by an Acquired Company in excess of $[●];',\n",
       " '(c) Reliance on Appointment; Successor Sellers ’ Representative.  The Buyer may \\nrely on the appointment and authority of the Sellers ’ Representative granted pursuant to this',\n",
       " 'hand, and any Seller (or Affiliate or Family Member thereof), on the other hand, that will \\ncontinue in effect after the Closing; and',\n",
       " 'Closing Vested Options Cash Consideration to the [102 Trustee] for the benefit of the Vested \\nOptionholders, and (d) the Employee Closing Bonus Amount [to the Company] for the benefit of',\n",
       " '(d) The Company has delivered to the Buyer accurate and complete copies of th e \\nReal Property Leases, in each case as amended or otherwise modified and in effect, together with',\n",
       " 'Expenses set forth on the Estimated Closing Statement. \\n(b) Proposed Final Closing Statement.  Within sixty (60) calendar days after the',\n",
       " 'WHEREAS, the parties further desire that all of the Options and Warrants be cancelled at \\nthe Closing and, in consideration of such cancellation, the holders of Vested Options and',\n",
       " '(a) At the Closing, Buyer shall pay, or cause to be paid, through payment to the \\nPaying Agent which will in turn make the following payments, in cash by wire transfer of',\n",
       " 'record and beneficially owned by the Persons in the respective amounts set forth on \\nSchedule 3.05.  Except as set forth on Schedule 3.05, none of the Acquired Companies has any',\n",
       " 'be prepared in accordance with the Accounting Principles and without giving effect to any \\nchanges resulting from the consummation of the Contemplated Transactions on the Closing',\n",
       " 'substantially all of whose assets has ever been acquired by such specified Person (whether by \\npurchase, upon liquidation or otherwise).',\n",
       " 'transaction that was purported or intended to be governed in whole or in part by Sections 355 or \\n361 of the Code (or so much of Section 356 as related to Section 355 of the Code), (iii) is not',\n",
       " 'Section 6.13  Further Assurances.  From and after the Closing Date, upon the request of \\neither the Sellers ’ Representative, the Buyer or any Acquired Company, each of the parties',\n",
       " 'with respect to such information; provided, further, that the provisions of this Section 6.05(a) \\nwill not prohibit any retention of copies of records or disclosure (A) required by any applicable',\n",
       " 'Expenses (the “Proposed Final Closing Statement ”).  The Proposed Final Closing Statement will \\nbe prepared in accordance with the Accounting Principles and without giving effect to any',\n",
       " 'early termination of such Debt on the Closing Date), of such Person (a) for borrowed money \\n(including amounts outstanding under overdraft facilities), (b) evidenced by notes, bonds,',\n",
       " 'have been “delivered ” or “made available ” to the Buyer for purposes of this Agreement. \\n(e) The parties intend that each representation, warranty and covenant contained',\n",
       " 'is serving in its capacity as such solely for purposes of administrative convenience, and is not \\npersonally liable in such capacity for any of the obligations of the Sellers hereunder, and the',\n",
       " 'personally liable in such capacity for any of the obligations of the Sellers hereunder, and the \\nBuyer agrees that it will not look to the personal assets of the Sellers ’ Representative, acting in',\n",
       " 'shall operate to extinguish a Seller ’s obligation to comply with this Section 6.05. \\nSection 6.09  D&O Tail.   \\n(a) From and after the Closing Date, Buyer shall cause the Acquired Companies to',\n",
       " 'actions taken and decisions made by such replacement Sellers ’ Representative. \\nSection 11.05  Entire Agreement.  This Agreement, together with the other Ancillary',\n",
       " 'Acquired Companies after the Closing depends upon the continued preservation of the \\nconfidentiality of certain information possessed by such Seller, that the preservation of the',\n",
       " 'delivery and performance by any Acquired Company of this Agreement or any Ancillary \\nAgreement to which it is, or will be at Closing, a party or (b) the consummation of the',\n",
       " 'consummation of the Contemplated Transactions or result in a Liability of the Acquired \\nCompanies or Buyer. \\n \\nSection 4.06  No Brokers.  Except as disclosed in Schedule 4.06, such Seller has no',\n",
       " '\\uf020\\uf020\\uf020\\uf020\\uf020\\uf020\\uf020\\uf020\\uf020\\uf020\\uf020\\uf020\\uf020\\uf020\\uf020\\uf020\\uf020\\uf020\\uf020\\uf020\\uf020\\uf020\\uf020\\uf020\\uf020\\uf020\\uf020\\uf020\\uf020\\uf020\\uf020\\uf020\\uf020\\uf020\\uf020\\uf020\\uf020\\uf020\\uf020\\uf020\\uf020\\uf020\\uf020\\uf020\\uf020\\uf020\\uf020\\uf020\\uf020\\n19 Seller NTD : Most Sellers are financial investors that will not agree to limit their inves tments and are in any',\n",
       " 'Contractual Obligation listed on Schedule 3.16, in each case, as amended or otherwise modified \\nand in effect.  The Company has delivered to the Buyer a written summary setting forth all of the',\n",
       " 'Estimated Purchase Price 2.07(b) \\nFinal Closing Statement 2.07(e) \\nFinancials 3.06(a)(ii) \\nFundamental Representations 7.03(a) \\nInbound IP Contracts 3.11(d) \\nInstitutions 3.11(k)',\n",
       " 'exceed $[ ●] after giving effect to such increase or (B)  any increase in benefits or Compensation \\nrequired by Legal Requirements or required pursuant to the terms of an existing Employee Plan',\n",
       " 'Closing, each holder of an outstanding Vested Option shall deliver to the Company and the \\nBuyer an acknowledgement of such treatment (each an “Option Cancellation',\n",
       " 'Bonus Amount in accordance with the allocation set for tin Exhibit 2.10.10 \\n \\n \\nARTICLE III \\nREPRESENTATIONS AND WARRANTIES REGARDING \\nTHE ACQUIRED COMPANIES.11',\n",
       " 'that is reasonably acceptable to Parent is appointed by such holders of a majority- in-interest of \\nthe Sellers within ten (10) Business Days, then Parent shall have the right to appoint another',\n",
       " 'representations, warranties, covenants and agreements.  The covenants and agreements contained \\nin this Agreement that are to be performed after the Closing will survive the Closing in',\n",
       " 'in accordance with its terms as of immediately prior to the Closing and that has an exercise price \\nper share that is lower than the Per Common Share Price.',\n",
       " 'to perform its obligations hereunder, in each case, so long as the Buyer is not relieved of a ny \\nliability or obligations hereunder and (b) the Buyer may assign this Agreement and any or all of',\n",
       " 'take place on the date hereof (the “Closing Date ”) by exchange of documents and signatures (or \\ntheir electronic counterparts). The consummation of the transactions contemplated by this',\n",
       " '112923184_5 the expectation of client confidence relating thereto shall belong solely to Company \\nSecurityholders and may be controlled solely by the Sellers ’ Representative and shall not pass to',\n",
       " '\\uf020\\uf020\\uf020\\uf020\\uf020\\uf020\\uf020\\uf020\\uf020\\uf020\\uf020\\uf020\\uf020\\uf020\\uf020\\uf020\\uf020\\uf020\\uf020\\uf020\\uf020\\uf020\\uf020\\uf020\\uf020\\uf020\\uf020\\uf020\\uf020\\uf020\\uf020\\uf020\\uf020\\uf020\\uf020\\uf020\\uf020\\uf020\\uf020\\uf020\\uf020\\uf020\\uf020\\uf020\\uf020\\uf020\\uf020\\uf020\\uf020\\n15\\uf020Note to draft : If 280G is triggered, we would expect a customary 280G covenant to be add ed to the Agreement.',\n",
       " 'Agreement and each Ancillary Agreement to which such Seller is a party (a) have been (or, in \\nthe case of Ancillary Agreements to be entered into at the Closing, will be when executed and',\n",
       " 'including all obligations in respect of principal, accrued interest, penalties, fees and premiums  \\n(including, for the avoidance of doubt, any such penalties, fees and premiums arising from the',\n",
       " 'the Closing; provided that any Seller Transaction Expenses that are compensatory and payable to \\nany current or former employee of any Acquired Company will be paid to the applicable',\n",
       " 'amounts required to be withheld from employees of the Company and is not liable, in material \\nrespects, for any arrears of wages, taxes, penalties, delay compensation or other sums for failure',\n",
       " 'such purchaser to perform its obligations hereunder.  Except as expressly provided herein, this \\nAgreement is for the sole benefit of the parties hereto and their successors and permitted',\n",
       " 'Section 9.04  Provisions Concerning the Sellers ’ Representative ......................................... 47',\n",
       " 'such Seller to breach any of the covenants contained in this Section 6.08, the damage to the \\nBuyer and the Acquired Companies may be irreparable, (ii) the Buyer, in addition to any other',\n",
       " 'Authority or is holding for payment not yet due to such Governmental Authority all material \\namounts required to be withheld from employees of the Company and is not liable, in material',\n",
       " 'Enforceable leasehold interest in, or adequate rights to use, all of its properties, rights and assets,',\n",
       " 'specific unresolved item and amount in accordance with this Agreement.  The Accounting Firm \\nshall render a written decision as to each disputed matter, including a statement in reasonable',\n",
       " '(c) Condition of Tangible Assets.  All of the material fixtures and other material \\nimprovements to the Real Property included in the Assets (including any Facilities) and all of the',\n",
       " 'Cancellation Acknowledgement ”). \\n \\nSection 2.07  Purchase Price Adjustment. \\n(a) Estimated Purchase Price.  The Purchase Price payable at Closing under',\n",
       " 'Ancillary Agreements to be entered into by Buyer or Parent at Closing, executed by Bu yer or \\nParent (as applicable);',\n",
       " 'Legal Requirements respecting such withholding, and other employment practices. \\n(g) Each Acquired Company has withheld and paid to the appropriate Governmental',\n",
       " 'whether real or personal and whether tangible or intangible, including all assets reflected in the \\nMost Recent Balance Sheet or acquired after the Most Recent Balance Sheet Date, e xcept for',\n",
       " 'effective as of the Closing and (ii) the Company Stock Plans terminated at Closing, the \\nprovisions in any other plan or agreement providing for the issuance, transfer or grant of any',\n",
       " 'the Sellers within ten (10) Business Days, then Parent shall have the right to appoint another \\nSeller to act as the replacement Sellers ’ Representative who shall serve as described in this',\n",
       " 'of each Acquired Company requested by Buyer; \\n(iv) payoff and lien release letters in form and substance reasonably satisfactory to',\n",
       " 'any material reduction in the rate or amount of sales or purchases or material increase in the \\nprices charged or paid as the case may be) its relationship with an Acquired Company.',\n",
       " '(i) on the Closing Date - a cash payment in an amount equal to (a) minus (b) where (a) \\nequals (1) the excess of (x) the Per Common Share Price over (y) the exercise price pe r',\n",
       " 'to the conditions set forth in this Agreement.5 \\n\\uf020\\uf020\\uf020\\uf020\\uf020\\uf020\\uf020\\uf020\\uf020\\uf020\\uf020\\uf020\\uf020\\uf020\\uf020\\uf020\\uf020\\uf020\\uf020\\uf020\\uf020\\uf020\\uf020\\uf020\\uf020\\uf020\\uf020\\uf020\\uf020\\uf020\\uf020\\uf020\\uf020\\uf020\\uf020\\uf020\\uf020\\uf020\\uf020\\uf020\\uf020\\uf020\\uf020\\uf020\\uf020\\uf020\\uf020\\uf020\\uf020\\n1 Note to draft : Buyer entity to be confirmed.',\n",
       " 'by the Acquired Companies following the Closing Date for the benefit of Acquired Companies ’ \\nemployees, Buyer agrees to use commercially reasonable efforts to: (i) waive any pre-ex isting',\n",
       " 'or carry out any plan of complete or partial liquidation or dissolution; \\n(ii) issued, sold, granted or otherwise disposed of any of its Equity Interests or other',\n",
       " 'Company Plan on or after the Closing Date. \\n(e) The Acquired Companies are not delinquent in any material payments or rights to',\n",
       " 'Representative ’s gross negligence, bad faith or willful misconduct.  The Sellers ’ Representative \\nis serving in its capacity as such solely for purposes of administrative convenience, and is not',\n",
       " 'Bonus Amount), but specifically excluding any severance that becomes payable as a result of a \\nclaim for constructive dismissal or breach of Contractual Obligation arising out of the conduct of',\n",
       " 'finder or agent with respect to the Contemplated Transactions, and such Seller agrees to satisfy \\nin full any Liability required to be disclosed on Schedule 4.06. \\nARTICLE V',\n",
       " 'Paying Agent Undertaking 2.09(b) \\nPreferred Shares Recitals \\nPreferred Stock Recitals \\nProposed Final Closing Statement 2.07(c) \\nPurchase Price 2.02 \\nReal Property 3.10(a)',\n",
       " 'value of, or the current occupancy or use of Real Property in any material respect, (e) liens to \\nsecure landlords, lessors or renters under leases or rental agreements and (f) liens that arise by',\n",
       " 'Agreement to which it is, or will be at Closing, a party or (b) the consummation of the \\nContemplated Transactions by the Acquired Companies.',\n",
       " 'Company and the Buyer an acknowledgement of the foregoing treatment (each a “Warrant \\nCancellation Acknowledgement ”). \\n \\nSection 2.07  Purchase Price Adjustment.',\n",
       " 'per share that is lower than the Per Common Share Price.  \\n“Vested Options Consideration ” means the aggregate amount of the consideration',\n",
       " 'Paying Agent which will in turn make the following payments, in cash by wire transfer of \\nimmediately available funds –(a) the Closing Cash Consideration to or for the account of Sellers,',\n",
       " 'agreed to by the parties and the decision of the Accounting Firm pursuant to this Section 2.07 is \\nreferred to herein as the “Final Closing Statement ”.  Each of the parties to this Agreement agrees',\n",
       " 'Obligation. \\n “Encumbrance ” means any charge, claim, community or other marital property interest,',\n",
       " 'Section 2.04  Closing Payments. ........................................................................................... 15',\n",
       " 'successor Sellers ’ Representative; provided, that such successor Sellers ’ Representative must be \\nreasonably acceptable to Parent.  If the Sellers ’ Representative shall at any time resign or',\n",
       " 'pursuant to this Agreement on the Closing to any Company Securityholder (other than holders of \\n102 Securities) or any other Person entitled to payments hereunder (each a “Payee”) will be',\n",
       " '“Closing Debt Amount ” means the amount of Debt of the Acquired Companies \\n(disregarding Debt of any Acquired Company to another Acquired Company) as of immediately',\n",
       " 'under any Ancillary Agreement, the execution or delivery of the Agreement, the consummation \\nof the Contemplated Transactions (either alone or in combination with any other event), is',\n",
       " '(the “Paying Agent Undertaking ”), any consideration payable or otherwise to be delivered \\npursuant to this Agreement on the Closing to any Company Securityholder (other than holders of',\n",
       " 'assume all of the obligations set forth in this Section 6.09.  Buyer shall, and shall cause the \\nCompany to, cooperate in good faith with the D&O Indemnitees to use the D&O tail policy with',\n",
       " \"14 Arrangement. Any Acquired Company's liability for any obligations to pay any amount of \\nseverance payment, pension, accrued vacation, recuperation, and other social benefits and\",\n",
       " '1 Note to draft : Buyer entity to be confirmed. \\n\\uf032 Sellers NTD : Inclusion of option and warrant holders as parties to the Agreement is no t warranted.  (Vested',\n",
       " '(e) [Reserved]. \\n(f) Except as set forth in Schedule 3.13(f), no Acquired Company has made any \\npayments, or has been or is a party to any Contractual Obligation that obligate it to make',\n",
       " 'business or in a manner consistent with past practice for purposes of this Agreement.  In no event \\nwill the listing of any item or matter in any Schedule be deemed or interpreted to broaden or',\n",
       " 'subleases, licenses, concessions, occupancy agreements or other Contractual Obligations \\ngranting to any other Person the right of use or occupancy of any of the Real Property and there',\n",
       " 'Agreement to which such Seller is a party nor the consummation of the Contemplated \\nTransactions by such Seller will:',\n",
       " '(b) Buyer intends to offer each of the employees to be employed by Buyer or remain \\nemployees of the Company or the applicable Acquired Company after the Closing on terms that',\n",
       " 'otherwise be a Liability of such Acquired Company. \\n(b) The Sellers have made available to Buyer true, accurate and complete copies of',\n",
       " 'Closing Bonus Beneficiaries ”). At the Closing the Buyer shall deposit the Employee Closing \\nBonus Amount with the [Company] and shall cause the Company to pay through its payroll',\n",
       " 'Securityholders for various matters prior to the Closing, including in connection with this \\nAgreement and the Ancillary Agreements, the negotiation and documentation of this Agreement',\n",
       " '“Company Plan ”).  With respect to each Company Plan, the Company has delivered to the Buyer \\naccurate and complete copies of each of the following:  (i) if the plan has been reduced to',\n",
       " 'than a Permitted Encumbrance) or sold, leased, licensed or otherwise disposed of any of its \\nmaterial Assets, other than sales of Assets in the Ordinary Course of Business;',\n",
       " 'and performance of the Ancillary Agreements by the Acquired Companies and (c) the payment \\nof fees and expenses by the Acquired Companies relating to such transactions.',\n",
       " 'or otherwise, whether absolute or contingent, whether accrued or unaccrued, whether liquidated \\nor unliquidated, whether directly incurred or consequential, whether due or to become due and',\n",
       " 'accordance with the Paying Agent undertaking provided to Buyer as required under Section \\n6.2.4.3 of the Income Tax Circular 19/2018 (Transaction for Sale of Rights in a Corporation that',\n",
       " '(including executed copies of all Contractual Obligations relating to each Option and the shares \\nof Company Common Stock purchased under such Option), have been provided to Buyer, and',\n",
       " '(c) Dispute Notice.  The Proposed Final Closing Statement (and the proposed final \\ndeterminations of the Closing Debt Amount, the Closing Cash Amount, and the Seller',\n",
       " 'Section 2.10  Payments of Employee Closing Bonus. Prior to the date hereof, the \\nCompany has approved cash bonuses, the aggregate amount of which shall be equal to the',\n",
       " 'Tax law) executed on or prior to the Closing Date, (ii) any deferred intercompany gain or excess \\nloss account described in Treasury Regulations under Code Section 1502 (or any corresponding',\n",
       " '(a) From and after the Closing Date, Buyer shall cause the Acquired Companies to \\nfulfill and honor in all respects the obligations of the Acquired Companies pursuant to any',\n",
       " 'Leased Real Property 3.10(a) \\nLiability Policies 3.21 \\nMaterial Company Contract 3.16(b) \\nMost Recent Balance Sheet 3.06(a)(ii) \\nMost Recent Balance Sheet Date 3.06(a)(ii) \\nNIS 2.09(d)',\n",
       " 'Asset to become Encumbered (other than by a Permitted Encumbrance); \\n(v) any Contractual Obligation (A) under which an Acquired Company has created,',\n",
       " 'the subject matter of this Agreement or the Contemplated Transactions without the prior written \\nconsent of the Buyer, the Company and the Sellers ’ Representative; provided, that the provisions',\n",
       " 'Includes Consideration that will be Transferred to the Company Stockholders at Future Dates) \\n(the “Paying Agent Undertaking ”), any consideration payable or otherwise to be delivered',\n",
       " 'been made on a timely basis and the Acquired Companies have timely complied in all material \\nrespects with the requirements to transfer all amounts required by applicable Legal Requirement',\n",
       " 'specific item or matter in any Schedule is intended to imply that such amount, or higher or lower \\namounts, or the item or matter so specified or included, or other items or matters, are or are not',\n",
       " 'such Warrant shall not theretofore have been exercised (the amount so payable to for the benefit \\nof all holders of Warrants on the Closing, the “Closing Warrant Consideration ”) and (b) equals',\n",
       " 'of the Company, the amounts as set forth in such payoff letters; \\n(v) pay, or cause to be paid in accordance with the Allocation Statement, on behalf of',\n",
       " 'prices charged or paid as the case may be) its relationship with an Acquired Company. \\nSection 3.19  Labor Matters.',\n",
       " '(iv) any Contractual Obligation under which an Acquired Company has permitted any \\nAsset to become Encumbered (other than by a Permitted Encumbrance);',\n",
       " 'obligation of such Seller, Enforceable against such Seller in accordance with its terms. \\nSection 4.03  Authorization of Governmental Authoriti es.  Except as disclosed on',\n",
       " 'provisions in any other plan or agreement providing for the issuance, transfer or grant of any \\nEquity Interests of any Acquired Company terminated at Closing, and no holder of an Option or',\n",
       " 'Ancillary Agreement to which such Seller is a party and the consummation of the Contemplated \\nTransactions by such Seller are within the power and authority of such Seller and, if applicable,',\n",
       " 'denoted as incentive stock options under Section 422 of the Code so qualify and will continue to \\nso qualify as of immediately prior to the consummation of the Transactions.  The Company',\n",
       " 'publicity material (including on the website of such Company Securityholders). \\nSection 6.07  Release. As a material inducement to the Buyer to enter into this',\n",
       " 'WHEREAS, Buyer desires to purchase from the Shareholders, and the Shareholders \\ndesire to sell to Buyer, at the Closing (as defined below) all of the Shares4 upon the terms and',\n",
       " 'Section 2.05(a)(i) (the “Estimated Purchase Price ”) shall be calculated using the estimated \\nClosing Debt Amount, estimated Closing Cash Amount and estimated Seller Transaction',\n",
       " 'amounts are so deducted or withheld, such withheld amounts shall be treated for all purposes of \\nthis Agreement as having been paid or issued, as applicable, to such Payee in respect of which',\n",
       " 'Encumbrances) on any assets securing such indebtedness, executed by the relevant holders of \\nsuch indebtedness (or the appropriate agents therefor), drafts of which shall have been provided',\n",
       " 'event of default under, or breach of, a Real Property Lease and the Liabilities of the Acquired  \\nCompanies in respect of which are not overdue or otherwise in default, (c) zoning, entitlement,',\n",
       " 'Ordinance. \\n“Seller Transaction Expenses ” means all costs, fees and expenses incurred by any \\nAcquired Company or any Seller in connection with the negotiation, execution and delivery of',\n",
       " 'the Closing Debt Amount is payable, (iii) a list of all payees to whom any portion of the Seller \\nTransaction Expenses is payable, (iv) a schedule of the payees and accounts (including payment',\n",
       " 'threatened Actions (A) involving potential payments by or to any Acquired Company of more \\nthan $[●] in aggregate, (B)  that admit liability or consent to non-monetary relief, or (C) that',\n",
       " 'Section 1.02  Certain Matters of Construction ...................................................................... 13  \\nARTICLE II PURCHASE AND SALE OF SHARES AND WARRANTS;',\n",
       " 'improvements to the Real Property included in the Assets (including any Facilities) and all of the \\nmaterial tangible personal property other than inventory included in the Assets  other than',\n",
       " 'Sellers ’ Representatives and the Sellers will reasonably cooperate, as and to the extent \\nreasonably requested by the Buyer, the Acquired Companies or the Sellers ’ Representatives, in',\n",
       " '“Sellers ”)2, and [●], in [his/her/its] capacity as the Sellers ’ Representative.3 \\nRECITALS \\nWHEREAS, the Shareholders own all of the outstanding shares of Common Stock, par',\n",
       " 'Transactions by the Buyer. \\nSection 5.04  Noncontravention.  Except as disclosed on Schedule 5.04, neither the \\nexecution, delivery and performance by the Buyer of this Agreement or any Ancillar y',\n",
       " 'Agreement Preamble \\nAllocation Statement 2.04(a) \\nAssets 3.09(a) \\nAudited Balance Sheet 3.06(a)(i) \\nAudited Balance Sheet Date 3.06(a)(i) \\nAudited Financials 3.06(a)(i) \\nBusiness Partner 6.08(a)',\n",
       " 'Proposed Final Closing Statement.  Any Dispute Notice must set forth in reasonable detail any \\nitem on the Proposed Final Closing Statement which the Sellers ’ Representative believes has not',\n",
       " 'Buyer an acknowledgement of such treatment (each an “Option Cancellation \\nAcknowledgement ”). For the avoidance of doubt , no consideration shall be payable hereunder in',\n",
       " 'Buyer.  This Agreement and each Ancillary Agreement to which the Buyer is a party (a)  have \\nbeen duly executed and delivered by the Buyer and (b) is a legal, valid and binding obligation of',\n",
       " 'release be effective as a bar to each and every claim, demand and cause of action hereinabove \\nspecified, except with respect to any right of such Seller to Compensation or any right to enforce',\n",
       " 'exceeding 30 consecutive days (and if so, the date on which such leave commenced and the date \\nof expected return), and (xvi) any deferred compensation agreements or bonus, retention,',\n",
       " 'award of its reasonable attorneys ’ fees incurred in enforcing its rights hereunder, (iii) the \\nRestricted Period applicable to a Seller shall be tolled, and shall not run, during the period of any',\n",
       " '(b) Except as set forth in Schedule 3.10(b), the Acquired Companies have good and \\nclear, record and marketable fee simple title in and to the Owned Real Property, free and cle ar of',\n",
       " 'accounting principles by deposit of funds in pension funds, managers insurance policies or \\nprovident funds or ( if not required to be funded) adequate provisions have been made in the',\n",
       " '(b) Notwithstanding the above provisions, with respect to Israeli Taxes, and in \\naccordance with the Paying Agent undertaking provided to Buyer as required under Section',\n",
       " '(c) Except as set forth on Schedule 3.10(c), there are no written or oral leases, \\nsubleases, licenses, concessions, occupancy agreements or other Contractual Obligations',\n",
       " 'Section 3.16  Contracts .......................................................................................................... 34',\n",
       " 'decision of all the Sellers and shall be final and binding upon each of the Sellers.  At any time \\nafter the Closing, with or without cause, by a written instrument that is signed in writing by',\n",
       " 'Persons described in clauses (a) through (e) above in his or her capacity as such custodian or \\nguardian. \\n“Fully-Diluted Common Share Number ” means the total number of issued and',\n",
       " '(g) Each Acquired Company has withheld and paid to the appropriate Governmental \\nAuthority or is holding for payment not yet due to such Governmental Authority all material',\n",
       " 'of reasonably relevant records or information). \\nSection 9.04  Straddle Period Allocation. For all purposes of this Agreement (including',\n",
       " 'any “excess parachute payment ” within the meaning of Code Section 280G or in the imposition \\nof an excise Tax under Code Section 4999 (or any corresponding provisions of state, local or',\n",
       " 'any property or services (or for the use of any property) provided by or to the Acquired \\nCompanies are arm ’s length prices for purposes of all applicable transfer pricing laws, including',\n",
       " 'Person.  Any decision, act, consent or instruction of the Sellers ’ Representative shall constitute a',\n",
       " 'Union. \\nThe Company has delivered to the Buyer accurate and complete copies of each written \\nContractual Obligation listed on Schedule 3.16, in each case, as amended or otherwise modified',\n",
       " 'any employee benefit plan, program or arrangement (other than any defined benefit pension \\nplan) established or maintained by Buyer or by the Acquired Companies following the Closing',\n",
       " 'any Legal Requirement applicable to the Buyer; or \\n(b) conflict with or result in a breach or violation of, or constitute a default (or an',\n",
       " 'possession. \\nSection 3.16  Contracts. \\n(a) Contracts. Except as disclosed in the applicable subsection of Schedule 3.16, no \\nAcquired Company is bound by or a party to:',\n",
       " 'Company has approved cash bonuses, the aggregate amount of which shall be equal to the \\nEmployee Closing Bonus Amount, to the individuals listed in Exhibit 2.10 (the “Employees',\n",
       " '-17- \\n112923184_5 (ii) to the Sellers ’ Representative, the Employment Agreements and any other \\nAncillary Agreements to be entered into by Buyer or Parent at Closing, executed by Bu yer or',\n",
       " '(including an obligation to pay brokerage, finder ’s, or similar fees or expenses) in connection \\nwith this Agreement or the Contemplated Transactions;',\n",
       " 'effectuate the Closing and consummate the Contemplated Transactions; \\n(ii) receive and give all notices and service of process, make all filings, enter into all',\n",
       " '(ii) the Employment Agreements and any other Ancillary Agreements to be entered \\ninto by any Seller at Closing, executed by the applicable Seller party thereto;',\n",
       " 'Transactions, to the extent such costs, fees and expenses are payable by the Buyer at Closing or \\npayable or reimbursable by any Acquired Company after the Closing, and any applicable non-',\n",
       " 'Obligation relating to the transfer or voting of such Equity Interests that could affect the \\nconsummation of the Contemplated Transactions or result in a Liability of the Acquired',\n",
       " 'employee retention tax credit; or (C) taken out any loan, received any loan assistance or received \\nany other financial assistance,17 in each case under the CARES Act, including pursuant to the',\n",
       " 'the Contemplated Transactions, the Company hereby represents and warrants to the Buyer, \\nsubject to such exceptions as are disclosed in the applicable Schedules attached hereto or as',\n",
       " 'case of each of (a) and (b), as a result of the execution and delivery of this Agr eement or the \\nconsummation of the Contemplated Transactions.',\n",
       " 'or incurred in the Ordinary Course of Business the existence of which would not constitute an \\nevent of default under, or breach of, a Real Property Lease and the Liabilities of the Acquired',\n",
       " '(i) pay or cause to be paid the Closing Cash Amounts as set forth above, each \\npayment by wire transfer of immediately available funds denominated in U.S. dollars to an',\n",
       " 'Intellectual Property and Technology used by the Acquired Companies to the same extent as \\nimmediately prior to the Closing. [Except as disclosed on Schedule 3.11(c),] the consummation',\n",
       " 'Governmental Authorities, in each case, as disclosed on Schedule 5.03, violate any provision of \\nany Legal Requirement applicable to the Buyer; or',\n",
       " 'Buyer ’s ability to make claims or recover or receive any remedy from any Person with re spect to \\nclaims arising from fraud committed by such Person. \\nSection 10.02  Recourse Limitations.',\n",
       " 'forth below: \\nTerm Section \\n102 Plan 3.13(n) \\nAccounting Firm 2.07(e) \\nAgreement Preamble \\nAllocation Statement 2.04(a) \\nAssets 3.09(a) \\nAudited Balance Sheet 3.06(a)(i)',\n",
       " 'Section 6.04  Expenses.  Each party (other than the Sellers ’ Representative) will pay its \\nown respective financial advisory, legal, accounting and other expenses incurred by it or for its',\n",
       " '(iv) no material capital expenditures are required to be incurred within the next two \\n(2) years following the date of this Agreement in order to achieve or maintain the compliance of',\n",
       " 'Contractual Obligation or other written or unwritten commitment from the Acquired Companies. \\n(c) Encumbrances on Equity Interests, etc.   The Company or a Subsidiary of the',\n",
       " 'supplemented since being provided to Buyer, and there are no agreements, understandings or \\ncommitments to amend, modify or supplement such Company Stock Plans or Contractual',\n",
       " 'reasonably acceptable to Parent.  If the Sellers ’ Representative shall at any time resign or \\notherwise cease to function in its capacity as such for any reason whatsoever, and no successor',\n",
       " 'rely on the appointment and authority of the Sellers ’ Representative granted pursuant to this \\nSection 11.04 until receipt of written notice of the appointment of a successor Sellers ’',\n",
       " 'and the Ancillary Agreements, and the consummation of the Contemplated Transactions \\n(collectively, the “Pre-Closing Engagements ”).  Each Party agrees that (a) all communications in',\n",
       " 'account or accounts specified on the Allocation Statement; \\n\\uf020\\uf020\\uf020\\uf020\\uf020\\uf020\\uf020\\uf020\\uf020\\uf020\\uf020\\uf020\\uf020\\uf020\\uf020\\uf020\\uf020\\uf020\\uf020\\uf020\\uf020\\uf020\\uf020\\uf020\\uf020\\uf020\\uf020\\uf020\\uf020\\uf020\\uf020\\uf020\\uf020\\uf020\\uf020\\uf020\\uf020\\uf020\\uf020\\uf020\\uf020\\uf020\\uf020\\uf020\\uf020\\uf020\\uf020\\uf020\\uf020',\n",
       " 'shall be cancelled and automatically converted into the right to receive [through the pay ment to, \\nor deposit with, the 102 Trustee]:',\n",
       " 'Buyer, free and clear of all Encumbrances, and Buyer shall purchase from each of such Se llers, \\nall of the outstanding Shares. \\uf020',\n",
       " 'Companies with Environmental Laws, in each case that are in the Acquired Companies ’ \\npossession. \\nSection 3.16  Contracts.',\n",
       " 'to Buyer prior to the date hereof ;  \\n(v) with respect to all Options held by Vested Optionsholders and Warrantholders ,',\n",
       " '(b) Proposed Final Closing Statement.  Within sixty (60) calendar days after the \\nClosing Date, the Company shall prepare or cause to be prepared, and will provide to the Sellers ’',\n",
       " 'or surviving corporation or entity of such consolidation or merger or (ii) shall transfer all or \\nsubstantially all of its properties and assets to any Person, then, and in each such case, proper',\n",
       " 'kind or nature in law, equity or otherwise, whether now known or unknown, and whether or not \\nconcealed or hidden, all of which such Seller now own or hold or have at any time owned or held',\n",
       " '“Closing Cash Amoun ts”).  Exhibit 2.04 attached hereto is a statement (the “Estimated Closing \\nStatement ”) setting forth (i) the Sellers ’ Representative ’s good faith estimate (together with',\n",
       " '(calculated without regard to any deferral available under the CARES Act), (f) any Transfer \\nTaxes and (g) 100% of the fees, costs and expenses incurred in connection with the “tail”',\n",
       " 'Sellers ’ Representative ’s gross negligence, bad faith or willful misconduct.  The Sellers ’ \\nRepresentative shall be entitled to rely on the advice of counsel, public accountants or other',\n",
       " 'provider of any Acquired Company who earns or will earn (or prior to such termination, did \\nearn) annual base Compensation in excess of $[●];',\n",
       " 'Dispute Submission Notice 2.07(e) \\nEmployee Closing Bonus Beneficiaries 2.04 \\nEnd Date 8.01(a) \\nEstimated Closing Statement 2.04(a) \\nEstimated Purchase Price 2.07(b) \\nFinal Closing Statement 2.07(e)',\n",
       " 'unaudited consolidated statement of [income, cash flow and changes in stockholders ’ equity] of \\nthe Acquired Companies for the [●] months then ended ( the “Interim Financials ” and, together',\n",
       " 'Most Recent Balance Sheet or acquired after the Most Recent Balance Sheet Date, e xcept for \\nsuch Assets that have been sold or otherwise disposed of since the Most Recent Balance Sheet',\n",
       " 'so qualify as of immediately prior to the consummation of the Transactions.  The Company \\nStock Plans have been established and maintained in all material respects in compliance with all',\n",
       " 'Schedule 3.05.  All of the outstanding Equity Interests of the Acquired Companies are held of \\nrecord and beneficially owned by the Persons in the respective amounts set forth on',\n",
       " 'Contractual Obligation of the Buyer, or (iii) the Organizational Documents of the Buyer. \\nSection 5.05  No Brokers.  The Buyer has no Liability of any kind to any broker, finder',\n",
       " 'accurate list of (a) the ten largest customers of the Acquired Companies (measured by aggregate \\nbillings) during each of the 2019 and 2020 fiscal years, indicating the existing Contractual',\n",
       " 'plan) established or maintained by Buyer or by the Acquired Companies following the Closing \\nDate for the benefit of the Acquired Companies ’ employees, such plan, program or arrangement',\n",
       " 'due to such Payee, or (iii) provides any other instructions regarding the payment or withholding \\nwith respect to the applicable portion of the consideration due to such Payee as determined b y',\n",
       " '(e) The Acquired Companies are not delinquent in any material payments or rights to \\nany of its current or former directors, officers, employees, consultants or other individual service',\n",
       " 'agreements and collar agreements, in each case, to the extent payable if such Contractual \\nObligation is terminated at the Closing, and (e) in the nature of Guarantees of, or liens on assets',\n",
       " 'SELLERS. ..................................................................................................................................... 38',\n",
       " '(b) Vested Option Consideration. Effective as of the Closing, (x) each Vested Option \\nshall be cancelled and automatically converted into the right to receive [through the pay ment to,',\n",
       " '(v) any Contractual Obligation (A) under which an Acquired Company has created, \\nincurred, assumed or guaranteed any Debt or (B) under which any other Person has guaranteed',\n",
       " '3 Note to draft:  Acquisition structure is subject to ongoing diligence and analysis. \\n4\\uf020Sellers NTD : Treatment of the outstanding Warrant should be similar to the trea tment of a Vested Option but',\n",
       " 'upon the termination of employment, an Acquired Company will not have to make any \\nseverance payments, except for release of the funds accumulated in accordance with the Secti on',\n",
       " 'Section 3.17  Related Party Transactions .............................................................................. 36',\n",
       " 'Contemplated Transactions by such Seller. \\nSection 4.04  Noncontravention.  Except as disclosed on Schedule 4.04, neither the',\n",
       " 'None of the Acquired Companies ’ current use of the Real Property violates in any material \\nrespect any restrictive covenant of record to which an Acquired Company is party that affects',\n",
       " '10\\uf020Seller NTD : Carve-out plan TBD. \\uf020\\n11 Note to draft : Buyer reserves the right to modify and/or supplement representations  based on the findings of its',\n",
       " 'purchase or lease assets under circumstances that are designed to enable such obligor to \\ndischarge one or more of its obligations or (iv) to maintain the capital, working capital, solvency',\n",
       " '“Encumbrance ” means any charge, claim, community or other marital property interest, \\nequitable or ownership interest, lien, license, option, pledge, security interest, mortgage, deed of',\n",
       " 'without limitation the Company Stock Plans, or (d) a deferred-compensation, retirement, \\ntermination pay, severance, change in control, retention, welfare-benefit, travel and car benefits,',\n",
       " 'Contractual Obligation of such Seller, or (iii) the Organizational Documents of such Seller (if \\nsuch Seller is not an individual).',\n",
       " 'reduced to writing, a written summary of all material plan terms, (iii) if applicable, any trust \\nagreements, custodial agreements, non-standard insurance policies or contracts, administrative',\n",
       " 'Closing Debt Amount, estimated Closing Cash Amount and estimated Seller Transaction \\nExpenses set forth on the Estimated Closing Statement.',\n",
       " 'Taxes and (g) 100% of the fees, costs and expenses incurred in connection with the “tail” \\ndirectors ’ and officers ’ liability and fiduciary liability insurance policies obtained pursuant to',\n",
       " '(xiv) any other Contractual Obligation between an Acquired Company, on the one \\nhand, and any Seller (or Affiliate or Family Member thereof), on the other hand, that will',\n",
       " 'otherwise are or would reasonably be expected to be material to the Acquired Companies, taken \\nas a whole, or the Business;',\n",
       " 'Seller to act as the replacement Sellers ’ Representative who shall serve as described in this \\nAgreement and, under such circumstances, the Buyer shall be entitled to rely on any and all',\n",
       " 'Sellers ’ Representative acting for all of the Sellers), and any attempt to do so will be null and',\n",
       " 'later than the thirtieth (30th) Business Day after the delivery to the Sellers ’ Representative of the \\nProposed Final Closing Statement.  Any Dispute Notice must set forth in reasonable detail any',\n",
       " 'authority necessary for the execution, delivery and performance by it of this Agree ment and each \\nsuch Ancillary Agreement.  Each of the Acquired Companies that is, or will be at Closing, a',\n",
       " 'service after the Closing), shall be apportioned on a daily basis and Taxes that are computed on a \\nperiodic basis, such as property Taxes shall also be apportioned on a daily basis.',\n",
       " 'Sellers ’ Representative hereunder, except for Losses arising out of or caused by the Sellers ’ \\nRepresentative ’s gross negligence, bad faith or willful misconduct.  The Sellers ’ Representative',\n",
       " '(a) Estimated Purchase Price.  The Purchase Price payable at Closing under \\nSection 2.05(a)(i) (the “Estimated Purchase Price ”) shall be calculated using the estimated',\n",
       " 'Section 3.18  Customers and Suppliers ................................................................................. 37',\n",
       " 'material tangible personal property other than inventory included in the Assets  other than \\nSystems (i) are in all material respects adequate and suitable for their present uses, (ii) are in',\n",
       " 'The Buyer represents and warrants to the Sellers that: \\nSection 5.01  Organization.  The Buyer is duly organized, validly existing and in good',\n",
       " 'Agreement to which it is a party nor the consummation of the Contemplated Transactions will: \\n(a) assuming the taking of any action by (including the obtaining of each necessary',\n",
       " 'Optionholders, and (d) the Employee Closing Bonus Amount [to the Company] for the benefit of \\nthe Employee Closing Bonus Beneficiaries (the payments set forth in (a) through (d), the',\n",
       " 'predecessors, successors and assigns (collectively, the “Releasing Parties ”) agrees not to sue, and \\nfully releases and discharges the Buyer and its Affiliates (including the Acquired Companies)',\n",
       " 'has not distributed stock of another Person or had its stock distributed by another Person in a \\ntransaction that was purported or intended to be governed in whole or in part by Sections 355 or',\n",
       " 'Agent Agreement], duly executed by Buyer. Sellers Closing Deliveries. Upon the terms and \\nsubject to the conditions set forth in this Agreement, the Sellers ’ Representative shall deliver or',\n",
       " 'In order to induce the Buyer to enter into and perform this Agreement and to consummate \\nthe Contemplated Transactions, the Company hereby represents and warrants to the Buyer,',\n",
       " 'to comply with any of the foregoing. Other than payments not yet due payable as of the date \\nhereof, any Acquired Company has paid in full to all of its current and former employees,',\n",
       " 'Agreement) under which an Acquired Company is, or may become, obligated to incur any \\nseverance pay or Compensation obligations that would become payable by reason of this',\n",
       " 'Equity Interests of any Acquired Company terminated at Closing, and no holder of an Option or \\nany participant in any Company Stock Plan or other plan or any party to a Contractual Obligation',\n",
       " 'such at any time at or prior to the Closing Date (including in connection with this Agreement or \\nthe Contemplated Transactions).',\n",
       " 'or any Ancillary Agreement to which it is, or will be at Closing, a party, nor the consummation \\nof the Contemplated Transactions by the Acquired Companies, will:',\n",
       " 'this Agreement to the Buyer on a Schedule to this Agreement); \\n(x) hired, engaged, or terminated (other than for cause) the employment or',\n",
       " 'the Closing. The number of options to be granted to each Vested Optionholder shall be in equal \\nnumber (and will be in addition) to the number of shares granted to such Optionholder pursuant',\n",
       " 'supplies, goods, products, equipment or other property, or for the furnishing or receipt of \\nservices, in each case, which provides for (or would be reasonably expected to involve) annual',\n",
       " 'Buyer accurate and complete copies of all Tax Returns, examination reports, and statements of \\ndeficiencies filed, assessed against, or agreed to by an Acquired Company since [●].',\n",
       " 'shall render a written decision as to each disputed matter, including a statement in reasonable \\ndetail of the basis for its decision.  The fees, costs and expenses of the Accounting Firm will be',\n",
       " 'necessary consents disclosed in Schedules 3.03 and 3.04, will continue to be so Enforceable and \\nin full force and effect on identical terms immediately following the consummation of the',\n",
       " 'bankers ’ acceptances, (d) for Contractual Obligations relating to interest rate protection, swap \\nagreements and collar agreements, in each case, to the extent payable if such Contractual',\n",
       " 'construed and enforced in accordance with the domestic substantive laws of the State of \\nDelaware, including its statute of limitations, without giving effect to any choice or conflict of',\n",
       " 'ARTICLE III \\nREPRESENTATIONS AND WARRANTIES REGARDING \\nTHE ACQUIRED COMPANIES.11 \\nIn order to induce the Buyer to enter into and perform this Agreement and to consummate',\n",
       " 'Transactions other than those which will be borne by the Sellers. \\nSection 3.23  Full Disclosure. The Acquired Companies have provided the Buyer with',\n",
       " 'of the Contemplated Transactions by the Acquired Companies, will: \\n(a) assuming the taking of each action by (including the obtaining of each necessary',\n",
       " 'the Buyer, enforceable against the Buyer in accordance with its terms. \\nSection 5.03  Authorization of Governmental Authorities.  Except as disclosed on',\n",
       " 'Section 2.02  Purchase Price.................................................................................................. 14',\n",
       " 'in full any Liability required to be disclosed on Schedule 4.06. \\nARTICLE V \\nREPRESENTATIONS AND WARRANTIES OF THE BUYER. \\nThe Buyer represents and warrants to the Sellers that:',\n",
       " \"provident funds or ( if not required to be funded) adequate provisions have been made in the \\nAcquired Companies' Financial Statements.\",\n",
       " 'an account or safety deposit box or other similar arrangement, and any numbers or other \\nidentifying codes of such accounts, safety deposit boxes or such other arrangements maintained',\n",
       " 'remediation or other response pursuant to Environmental Laws or that otherwise reasonably \\ncould be expected to give rise to Liability for any Acquired Company; and',\n",
       " 'any interest, indexation, penalty, or addition thereto, whether disputed or not and (b) any liability',\n",
       " '(b) For a period of 12 months from and after the Closing Date (the “Restricted \\nPeriod ”), the Sellers shall not, and shall not permit, cause or encourage any of their Affiliates to,',\n",
       " 'Obligations with each such customer by product or service provided and (b) the ten largest \\nsuppliers of materials, products or services to the Acquired Companies (measured by the',\n",
       " 'fiduciary liability insurance policies covering the Company in effect as of the date of this \\nAgreement.  \\n(c) This Section 6.09 shall survive the consummation of the Contemplated',\n",
       " 'environmental condition of the Real Property or any other property currently or formerly \\noperated by any Acquired Company or any Predecessor, or to the compliance of the Acquired',\n",
       " 'subject to the conditions set forth in this Agreement; and  \\nWHEREAS, the parties further desire that all of the Options and Warrants be cancelled at',\n",
       " 'in respect of the Compensation of any employee whose annual base Compensation does not \\nexceed $[ ●] after giving effect to such increase or (B)  any increase in benefits or Compensation',\n",
       " 'under the laws of the jurisdiction of its organization. \\nSection 4.02  Power and Authorization.  In the case of each Seller that is not an',\n",
       " 'any Legal Requirement applicable to such Seller; or \\n(b) conflict with or result in a breach or violation of, or constitute a default (or an',\n",
       " 'specified in this Agreement or included in any Schedule is or is not in the ordinary course of \\nbusiness or in a manner consistent with past practice for purposes of this Agreement.  In no event',\n",
       " '(d) Only that information which has been made available to the Buyer in the “virtual \\ndata room ” created for purposes of the sale of the Acquired Companies as such data room existed',\n",
       " 'or other Liability of such obligor, (ii) to purchase any obligation owed by such obligor, (iii) to \\npurchase or lease assets under circumstances that are designed to enable such obligor to',\n",
       " 'payments, or has been or is a party to any Contractual Obligation that obligate it to make \\npayments, that have resulted or would result, separately or in the aggregate, in the payment of',\n",
       " 'incurred, assumed or guaranteed any Debt or (B) under which any other Person has guaranteed \\nany Debt of an Acquired Company;',\n",
       " '(vii) repaid, prepaid or otherwise discharged or satisfied any Debt or other material \\nLiabilities, other than in the Ordinary Course of Business, or waived, canceled or assigned any',\n",
       " 'Encumbrances.  Such Seller has full right, power and authority to transfer and deliver to Buyer \\nvalid title to the Shares and Warrants held by such Seller, free and clear of all Enc umbrances.',\n",
       " 'Section 3.18  Customers and Suppliers.  Schedule 3.18 sets forth a complete and \\naccurate list of (a) the ten largest customers of the Acquired Companies (measured by aggregate',\n",
       " 'be disclosed to Buyer for all purposes of this Agreement to the extent that the applicability of \\nsuch disclosure is reasonably apparent on its face.  Neither the specification of any Dollar',\n",
       " 'Section 6.01  Expenses .......................................................................................................... 41',\n",
       " 'Agreement and, under such circumstances, the Buyer shall be entitled to rely on any and all  \\nactions taken and decisions made by such replacement Sellers ’ Representative.',\n",
       " 'deemed to constitute a release by such Seller of any right to Compensation or any right to \\nenforce their respective rights under this Agreement. It is the intention of each Seller that such',\n",
       " 'Legal Requirements applicable to it, including any federal or state securities laws, or any \\npreemptive or other similar rights of any Person in connection with the issuance, repurchase or',\n",
       " 'throughout the shorter of (i) their entire period of employment or engagement with an Acquired \\nCompany or (ii) during the past 3 years.',\n",
       " 'Business); \\n(vi) permitted any of its material Assets to become subject to an Encumbrance (other \\nthan a Permitted Encumbrance) or sold, leased, licensed or otherwise disposed of any of its',\n",
       " 'such Seller shall cause its Affiliates and such Representatives not to, at any time on or after the \\nClosing Date, directly or indirectly, without the prior written consent of the Buyer, disclose or',\n",
       " '-28- \\n112923184_5 Section 3.07  Absence of Certain Developments.  Since the Audited Balance Sheet Date ,',\n",
       " 'does not provide Buyer or the Paying Agent with a Valid Certificate at least three Business Days \\nprior to the Withholding Drop Date or (ii) submits a written request to the Paying Agent to',\n",
       " 'of Business since the Audited Balance Sheet Date (none of which results from, arises out of, or \\nrelates to any breach or violation of, or default under, a Contractual Obligation or Legal',\n",
       " 'Buyer of this Agreement and each Ancillary Agreement to which the Buyer is a pa rty and the \\nconsummation of the Contemplated Transactions by the Buyer are within the power and',\n",
       " 'Section 3.17  Related Party Transactions. Except for the matters disclosed on \\nSchedule 3.17 and the Contemplated Transactions, no Seller or any Person that to Company ’s',\n",
       " 'Liabilities, other than in the Ordinary Course of Business, or waived, canceled or assigned any \\nclaims or rights of substantial value other than in the Ordinary Course of Business;',\n",
       " 'Parties as to whether any item or matter not specified in this Agreement or included in any \\nSchedule is or is not material for purposes of this Agreement.  In addition, neither the',\n",
       " 'the Employee Closing Bonus Beneficiaries (the payments set forth in (a) through (d), the \\n“Closing Cash Amoun ts”).  Exhibit 2.04 attached hereto is a statement (the “Estimated Closing',\n",
       " 'execution, delivery and performance by the Buyer of this Agreement or any Ancillar y \\nAgreement to which it is a party nor the consummation of the Contemplated Transactions will:',\n",
       " 'Section 10.01  Survival.  The representations and warranties of the parties contained in \\nthis Agreement shall terminate automatically as of the Closing, and no Party or any of its',\n",
       " 'respects with the requirements to transfer all amounts required by applicable Legal Requirement \\nor Contractual Obligation to be transferred to any Company Plan.',\n",
       " 'Interim Financials 3.06(a)(ii) \\nInterim Option Tax Ruling 2.06(c) \\nIP Contracts 3.11(d) \\nLeased Real Property 3.10(a) \\nLiability Policies 3.21 \\nMaterial Company Contract 3.16(b)',\n",
       " 'service provider so long as such Employee Plan or agreement has been disclosed as of the date of \\nthis Agreement to the Buyer on a Schedule to this Agreement);',\n",
       " 'the time required by the ITA, will transfer to the ITA any amount so demanded, including any \\ninterest, indexation and fines required by the ITA in respect thereof, and such amounts will be',\n",
       " 'thirty (30) days (or shorter) prior notice, subject to the applicable Legal Requirements and \\nContractual Obligations.  Except as disclosed on Schedule 3.19 or as required by Legal',\n",
       " 'be deducted from payments to be made to such Payee. \\n(e) Notwithstanding anything to the contrary in this Agreement, with respect to',\n",
       " 'insolvency, reorganization, moratorium and other similar laws of general application affecting \\nthe rights and remedies of creditors and to general principles of equity (regardless of whether',\n",
       " 'of, the Optionholders or otherwise and, other than as set forth in Schedule 3.05(b). There are no \\nPersons that have been offered an opportunity to receive Options or any other equity incentive',\n",
       " 'authority of the Sellers ’ Representative pursuant to this Agreement, except in the case of the \\nSellers ’ Representative ’s gross negligence, bad faith or willful misconduct.  The Sellers ’',\n",
       " 'loss account described in Treasury Regulations under Code Section 1502 (or any corresponding \\nor similar provision or administrative rule of federal, state, local or foreign income Tax law),',\n",
       " 'of fees and expenses by the Acquired Companies relating to such transactions. \\n“Contractual Obligation ” means, with respect to any Person, any contract, agreement,',\n",
       " '(keren hishtalmut) fund) to, and premium payments on account of, each Company Plan have \\nbeen made on a timely basis and the Acquired Companies have timely complied in all material',\n",
       " 'periodic basis, such as property Taxes shall also be apportioned on a daily basis.  \\nSection 9.05  Intended U.S. Tax Treatment. [ ]20. \\nARTICLE X \\nSURVIVAL; RECOURSE LIMITATIONS',\n",
       " 'consummation of the Contemplated Transactions by the Buyer are within the power and \\nauthority of the Buyer and have been duly authorized by all necessary action on the part of the',\n",
       " 'performance of, or any contingent payment obligation in respect of, any Debt or other Liability \\nof any other Person, (b) any other arrangement whereby credit is extended to any obligor (other',\n",
       " '(xv) any collective bargaining agreement or other Contractual Obligation with any \\nUnion. \\nThe Company has delivered to the Buyer accurate and complete copies of each written',\n",
       " 'provided not later than three Business Days prior to the Withholding Drop Date8. If a Payee (i) \\ndoes not provide Buyer or the Paying Agent with a Valid Certificate at least three Business Days',\n",
       " '(r) The Acquired Companies is not subject to any restrictions or limitations pursuant \\nto Part E2 of the Ordinance or pursuant to any Tax ruling made with reference to the provisions',\n",
       " 'without the portion of the consideration payable in Parent’s equity  (i.e ., to be terminated in exchange for a cash \\npayment). \\uf020\\n5 Note to draft : Treatment of options to be discussed.',\n",
       " 'materially increase the premiums for, or materially alter the coverage under, any Current \\nLiability Policy.  Except as disclosed on Schedule  3.21, the Acquired Companies will',\n",
       " 'consolidated statements of [income, cash flow and changes in stockholders ’ equity] of the \\nAcquired Companies for the fiscal years then ended, accompanied by any notes thereto and the',\n",
       " 'Companies prior to the Closing; provided, however, that nothing in this Section 6.04 will be \\ndeemed to constitute a release by such Seller of any right to Compensation or any right to',\n",
       " 'of or relating to this Agreement in connection with the Contemplated Transactions following the \\nClosing, the Sellers will have the right, at its election, to retain Naschitz, Brandes, Amir & Co.',\n",
       " 'with an effective date no later than the Closing Date and with levels of coverage, terms and \\nconditions that are at least as favorable to such Person as the directors ’ and officers ’ liability and',\n",
       " 'position for the respective periods covered thereby, to the extent required byGAAP. \\n(c) Absence of Undisclosed Liabilities.  Except as disclosed on Schedule 3.06(c), no',\n",
       " 'a third party on general commercial terms that (i) continues to be widely available on such \\ncommercial terms as of the Closing Date, (ii) involves license, maintenance, support, and other',\n",
       " '(ii) any Contractual Obligation relating to the acquisition or disposition by any \\nAcquired Company of (A) any business (whether by merger, consolidation or other business',\n",
       " 'Acknowledgement ”). For the avoidance of doubt , no consideration shall be payable hereunder in \\nrespect of the cancellation of such Options that are not Vested Options.',\n",
       " 'accounting firm chosen jointly by Buyer and the Sellers ’ Representative (the “Accounting \\nFirm ”).  The Accounting Firm will promptly, in accordance with the guidelines and procedures',\n",
       " \"severance payments, except for release of the funds accumulated in accordance with the Secti on \\n14 Arrangement. Any Acquired Company's liability for any obligations to pay any amount of\",\n",
       " '(v) with respect to all Options held by Vested Optionsholders and Warrantholders , \\nan Option Cancellation Acknowledgement or a Warrant Cancellation Acknowledgement',\n",
       " 'forth and objected to in the Dispute Notice and resolve the dispute with respect to each such \\nspecific unresolved item and amount in accordance with this Agreement.  The Accounting Firm',\n",
       " 'parties.  As used herein, the Proposed Final Closing Statement as adjusted to reflect any changes \\nagreed to by the parties and the decision of the Accounting Firm pursuant to this Section 2.07 is',\n",
       " 'conduct of the Business. \\n(c) Condition of Tangible Assets.  All of the material fixtures and other material',\n",
       " 'Agreement and the Ancillary Agreements, the negotiation and documentation of this Agreement \\nand the Ancillary Agreements, and the consummation of the Contemplated Transactions',\n",
       " 'Sellers or the Sellers ’ Representative with respect to any such action or decision without any \\nLiability to, or obligation to inquire of, any Seller, the Sellers ’ Representative or any other',\n",
       " 'consent of the Buyer, the Company and the Sellers ’ Representative; provided, that the provisions \\nof this Section 6.06 shall not prohibit any disclosure (a) required by any applicable Legal',\n",
       " 'its rights and interest hereunder to any purchaser of all or substantially all its assets or designate',\n",
       " 'Knowledge, threatened, that would preclude or materially impair the use of any Real Property.  \\nNone of the Acquired Companies ’ current use of the Real Property violates in any material',\n",
       " 'of Debt except as set forth on Schedule 3.08.  For each item of Debt, Schedule 3.08 correctly sets \\nforth the debtor, the Contractual Obligations governing the Debt, the principal amount of the',\n",
       " 'the Closing occurs, with respect to any group health plan established or maintained by Buyer or \\nby the Acquired Companies following the Closing Date for the benefit of Acquired Companies ’',\n",
       " 'Section 11.13  Schedules.  Any information disclosed in any Schedule shall be deemed to \\nbe disclosed to Buyer for all purposes of this Agreement to the extent that the applicability of',\n",
       " 'Purchase Price plus the aggregate exercise price of all Vested Options and Warrants minus the \\nPreferred Stock Aggregate Price by (b) the Fully-Diluted Common Share Number.',\n",
       " 'such Company Stock Plans and Contractual Obligations have not been amended, modified or \\nsupplemented since being provided to Buyer, and there are no agreements, understandings or',\n",
       " 'prior to the Withholding Drop Date or (ii) submits a written request to the Paying Agent to \\nrelease such Payee ’s payment prior to \\u200ethe Withholding Drop Date without submitting a Valid',\n",
       " 'ARTICLE II PURCHASE AND SALE OF SHARES AND WARRANTS; \\nTREATMENT OF OPTIONS; CLOSING. .................................................................................. 14',\n",
       " 'this Agreement will be valid and binding unless it is in writing and signed, in the case of an \\namendment, by Parent, the Company and the Sellers ’ Representative (acting for all of the',\n",
       " 'Company ’s current debt facility); \\n(v) (A) merged or consolidated with any Person; (B) acquired any material Assets,',\n",
       " '(a) Buyer Closing Deliveries.  Upon the terms and subject to the conditions set forth \\nin this Agreement, the Buyer shall deliver or cause to be delivered at the Closing the following:',\n",
       " 'been prepared in accordance with this Agreement. Any item or amount to which no dispute is \\nraised in the Dispute Notice will be final, conclusive and binding on the parties on such thirtieth',\n",
       " '-65- \\n112923184_5 amount or any item or matter in any provision of this Agreement nor the inclusion of any',\n",
       " 'cash payment in an amount equal to (a) minus (b) where (a) equals (A) the excess of (x) the Per \\nCommon Share Price over (y) the exercise price per share of Common Stock subject to such',\n",
       " 'employment, in full contribution rates and on the basis of their entire salary, and such \\nArrangement was properly applied in accordance with the applicable Legal Requirement based',\n",
       " 'accurate and complete copies of each of the following:  (i) if the plan has been reduced to \\nwriting, the plan document together with all amendments thereto, (ii) if the plan has not been',\n",
       " 'of attorney;  \\n(xix) sold, assigned, transferred, leased, licensed, encumbered, abandoned, permitted to',\n",
       " 'and each amendment, modification or supplement thereto (the “Real Property Leases ”). \\n(b) Except as set forth in Schedule 3.10(b), the Acquired Companies have good and',\n",
       " 'subject to any claim of, any broker, finder or agent in connection with the Contemplated \\nTransactions other than those which will be borne by the Sellers.',\n",
       " '\\uf020\\uf020\\uf020\\uf020\\uf020\\uf020\\uf020\\uf020\\uf020\\uf020\\uf020\\uf020\\uf020\\uf020\\uf020\\uf020\\uf020\\uf020\\uf020\\uf020\\uf020\\uf020\\uf020\\uf020\\uf020\\uf020\\uf020\\uf020\\uf020\\uf020\\uf020\\uf020\\uf020\\uf020\\uf020\\uf020\\uf020\\uf020\\uf020\\uf020\\uf020\\uf020\\uf020\\uf020\\uf020\\uf020\\uf020\\uf020\\uf020\\n6 Note to Draft : Draft to be updated as necessary to provide that any payments in respec t of shares held under',\n",
       " '(b) Each Acquired Company has complied in all material respects with all \\nrequirements to deduct, withhold and timely pay to the appropriate Governmental Authority all',\n",
       " '(b) Liability.  The Sellers ’ Representative shall not be held liable by any of the \\nSellers for actions or omissions in exercising or failing to exercise all or any of the power a nd',\n",
       " 'condition exclusions and (ii) provide that any covered expenses incurred on or before the Closing \\nDate by any Acquired Companies ’ employee or by a covered dependent shall be taken into',\n",
       " 'severance pay or Compensation obligations that would become payable by reason of this \\nAgreement or the Contemplated Transactions;',\n",
       " 'as of one Business Day prior to the date hereof or which was actually physically delivered or \\ndelivered by email prior to the date hereof to the Buyer or their counsel shall be considered to',\n",
       " 'subject to such exceptions as are disclosed in the applicable Schedules attached hereto or as \\ndisclosed in the Financials  (including any notes thereto (, as follows:',\n",
       " 'Buyer accurate and complete copies of (a) the Organizational Documents of each Acquired \\nCompany and (b) the minute books of each Acquired Company, which contain records of all',\n",
       " 'on their full determining salaries and from their commencement date of employment, such that \\nupon the termination of employment, an Acquired Company will not have to make any',\n",
       " 'Section 2.01  Purchase and Sale of Shares.  Upon the terms and subject to the conditions \\nset forth in this Agreement, at the Closing, each of the Sellers shall sell, transfer and deliver to',\n",
       " 'Course of Business) with, this Agreement and the Contemplated Transactions (provided that this \\nclause (viii) shall not diminish the effect of, and shall be disregarded for purposes of, the',\n",
       " 'Closing Date to terminate or diminish its, his or her relationship with the Acquired Companies.   \\n(c) If the final judgment of a court of competent jurisdiction declares that any term or',\n",
       " 'against the Releasees relating to or arising out of the operation or ownership of the Acquired \\nCompanies prior to the Closing; provided, however, that nothing in this Section 6.04 will be',\n",
       " '(i) any Contractual Obligation (or group of related Contractual Obligations) for the \\npurchase, sale, construction, repair or maintenance of inventory, raw materials, commodities,',\n",
       " 'at the Closing, will be when executed and delivered) a legal, valid and binding obligation of each \\nsuch Acquired Company, enforceable against each such Acquired Company in accordance with',\n",
       " 'whether known or unknown, whether asserted or unasserted, whether determined, determinable \\nor otherwise, whether absolute or contingent, whether accrued or unaccrued, whether liquidated',\n",
       " 'fully releases and discharges the Buyer and its Affiliates (including the Acquired Companies) \\nand each of their respective directors, officers, assigns and successors, past and present',\n",
       " 'membership interest, unit of participation or other similar interest (however designated) in such \\nPerson and (b) any option, warrant, purchase right, conversion right, exchange right or other',\n",
       " 'reasonably requested by the Buyer, the Acquired Companies or the Sellers ’ Representatives, in \\nconnection with any Tax matters relating to the Acquired Companies (including by the provision',\n",
       " '(f) The Acquired Companies are, and have been in the past 3 years, in compliance in \\nall material respects with all Legal Requirement, Contractual Obligations, and Company Plans',\n",
       " 'will the listing of any item or matter in any Schedule be deemed or interpreted to broaden or \\notherwise amplify the representations, warranties, covenants, or agreements contained in this',\n",
       " 'might be owed with respect to any Compensation or benefit, (vi) result in the forgiveness in \\nwhole or in part of any outstanding indebtedness extended by any of the Acquired Companies to',\n",
       " 'TRANSACTIONS, WHETHER NOW EXISTING OR HEREAFTER ARISING, AND \\nWHETHER SOUNDING IN CONTRACT, TORT OR OTHERWISE.  THE PARTIES AGREE \\nTHAT ANY OF THEM MAY FILE A COPY OF THIS PARAGRAPH WITH ANY COURT',\n",
       " 'Buyer and the Acquired Companies may be irreparable, (ii) the Buyer, in addition to any other \\nremedies available to it, shall be entitled to seek preliminary and permanent injunctive relief',\n",
       " 'Code Section 7121 (or any corresponding or similar provision of state, local or foreign Income \\nTax law) executed on or prior to the Closing Date, (ii) any deferred intercompany gain or excess',\n",
       " 'Section 3.06  Financial Matters ............................................................................................. 22',\n",
       " 'set forth in this Agreement, review only those unresolved items and amounts specifically set \\nforth and objected to in the Dispute Notice and resolve the dispute with respect to each such',\n",
       " '(other than a Company Plan); \\n(x) any material agency, dealer, distributor, sales representative, marketing or other \\nsimilar Contractual Obligation;',\n",
       " 'property created in the framework of their engagement with of the Company or such Subsidiary. \\n(i) Each Acquired Company has not experienced or expected to experience any',\n",
       " 'of any Valid Certificate to Buyer and/or the Paying Agent, provided such Valid Certificate is  \\nprovided not later than three Business Days prior to the Withholding Drop Date8. If a Payee (i)',\n",
       " 'contributions, under applicable Legal Requirements or Contractual Obligations, or any other \\npayment of substantially the same nature, is either fully funded according to generally accepted',\n",
       " 'Sellers ’ Representative) against whom the waiver is to be effective.  No waiver by any party of \\nany breach or violation of, default under or inaccuracy in any representation, warrant y or',\n",
       " 'thereof and the whether such Option is a Vested Option.  \\n(b) Vested Option Consideration. Effective as of the Closing, (x) each Vested Option',\n",
       " 'forth the debtor, the Contractual Obligations governing the Debt, the principal amount of the \\nDebt as the date of this Agreement, the creditor, the maturity date, and the collateral, if any,',\n",
       " 'employees other than in the Ordinary Course of Business; \\n(xiv) any other Contractual Obligation between an Acquired Company, on the one',\n",
       " 'substandard performance of any System, in each case which has caused a material disruption to \\nany Acquired Company.  No Acquired Company is in breach of any of its Contractual',\n",
       " 'Governmental Authorities, in each case, as disclosed on Schedule 4.03, violate any provision of \\nany Legal Requirement applicable to such Seller; or',\n",
       " 'benefit in connection with the preparation and execution of this Agreement and the Ancillary \\nAgreements, the compliance herewith and therewith and the Contemplated Transactions.',\n",
       " 'Company to, cooperate in good faith with the D&O Indemnitees to use the D&O tail policy with \\nrespect to claims relating to acts or omissions occurring prior to the Closing. The obligations of',\n",
       " 'such Assets that have been sold or otherwise disposed of since the Most Recent Balance Sheet \\nDate in the Ordinary Course of Business (collectively, the “Assets ”).  Except as disclosed on',\n",
       " 'provisions shall be made so that the successors and assigns of the Acquired Companies shall \\nassume all of the obligations set forth in this Section 6.09.  Buyer shall, and shall cause the',\n",
       " 'premium payments that are due have been timely made or, if not yet made, have been properly \\naccrued under GAAP. \\n(h) Each Company Plan and any related contracts may be amended or terminated',\n",
       " 'person is now obligated and further not (i) result in any payment or benefit (including severance, \\nunemployment compensation, golden parachute, bonus or other Compensation), (ii) increase or',\n",
       " 'Securityholders and may be controlled solely by the Sellers ’ Representative and shall not pass to \\nor be claimed by any other Party, and (d) NBA shall have no duty whatsoever to reveal or',\n",
       " 'work papers and other books and records of the Acquired Companies and to the persons who \\nprepared the Proposed Final Closing Statement, for purposes of assisting the Sellers ’',\n",
       " 'such Seller has good and marketable title to such Equity Interests, free and clear of all \\nEncumbrances.  Such Seller has full right, power and authority to transfer and deliver to Buyer',\n",
       " 'data room ” created for purposes of the sale of the Acquired Companies as such data room existed \\nas of one Business Day prior to the date hereof or which was actually physically delivered or',\n",
       " 'Engagements, to any Party other than the Sellers and the Sellers ’ Representative.   \\n \\n \\n \\n[Remainder of page intentionally left blank; Signature pages follow]',\n",
       " '(b) The Company shall obtain and fully pay the premium for “tail” directors ’ and \\nofficers ’ liability and fiduciary liability insurance policies for the benefit of each Person who is',\n",
       " 'substantially all of its properties and assets to any Person, then, and in each such case, proper \\nprovisions shall be made so that the successors and assigns of the Acquired Companies shall',\n",
       " \"Companies' Business. To the Company Knowledge and except as contemplated hereunder o r \\nunder any Ancillary Agreement, the execution or delivery of the Agreement, the consummation\",\n",
       " 'Section 3.08  Debt; Guarantees ............................................................................................. 24',\n",
       " 'enforce their respective rights under this Agreement. It is the intention of each Seller that such \\nrelease be effective as a bar to each and every claim, demand and cause of action hereinabove',\n",
       " 'this Agreement as having been paid or issued, as applicable, to such Payee in respect of which \\nsuch deduction and withholding was made and, upon request, the Payor shall promptly provide',\n",
       " 'without penalty other than the payment of benefits, fees or charges accrued or incurred through \\nthe date of termination and statutory payments.',\n",
       " 'or otherwise, rights therein that will affect the commercial value thereof. \\n(l) Notwithstanding the generality of any other representations and warranties in this',\n",
       " 'disclosed in the Financials  (including any notes thereto (, as follows: \\nSection 3.01  Organization. Schedule 3.01 sets forth for each Acquired Company its',\n",
       " 'debentures or other similar Contractual Obligations,  (c) in respect of letters of credit and \\nbankers ’ acceptances, (d) for Contractual Obligations relating to interest rate protection, swap',\n",
       " '(n) Except as set forth in Schedule 3.13(n), each Acquired Company is in compliance \\nin all material respects with all applicable transfer pricing laws and regulations. The prices fo r',\n",
       " 'otherwise amplify the representations, warranties, covenants, or agreements contained in this \\nAgreement.  Summaries or descriptions of Contracts or other documents contained in the',\n",
       " 'to such Contractual Obligation, and is in full force and effect, and, subject to obtaining any \\nnecessary consents disclosed in Schedules 3.03 and 3.04, will continue to be so Enforceable and',\n",
       " 'paid, as the case may be) or notified an Acquired Company of any intention to do any of the \\nforegoing or otherwise threatened in writing to cancel, terminate or materially alter (including',\n",
       " 'subject to tax withholding as will be reasonably determined by Buyer or the Paying Agent. \\nSection 2.10  Payments of Employee Closing Bonus. Prior to the date hereof, the',\n",
       " '-13- \\n112923184_5 The following terms have the meaning set forth in the Sections of this Agreement set \\nforth below: \\nTerm Section \\n102 Plan 3.13(n) \\nAccounting Firm 2.07(e) \\nAgreement Preamble',\n",
       " 'avoidance of doubt, nothing contained in this Agreement limits, restricts or in any other way \\naffects any Seller ’s communicating with any Governmental Authority, or communicating with',\n",
       " 'matter reasonably promptly after receipt of such demand, and provide such Payee with \\nreasonable time (but in no event less than 7 days, unless otherwise required by the ITA) to',\n",
       " 'system to each Employees Closing Bonus Beneficiary its respective share the Employee Closing \\nBonus Amount in accordance with the allocation set for tin Exhibit 2.10.10 \\n \\n \\nARTICLE III',\n",
       " 'hereof, any Acquired Company has paid in full to all of its current and former employees, \\nconsultants or other individual service providers all wages, compensation, salaries, commissions,',\n",
       " '(b) The Sellers have made available to Buyer true, accurate and complete copies of \\nall material assessments, reports, studies, correspondence and other documents relating to the',\n",
       " 'breach by such Seller of this Section 6.08, and (iv) no breach of any provision of this Agreement \\nshall operate to extinguish a Seller ’s obligation to comply with this Section 6.05.',\n",
       " 'any such matters, nor has any such Action, settlement or other arrangement been proposed or \\nthreatened. \\nSection 3.20  Litigation; Government Orders.',\n",
       " 'Closing Date, the Company shall prepare or cause to be prepared, and will provide to the Sellers ’ \\nRepresentative, a written statement setting forth in reasonable detail its proposed final',\n",
       " 'constitute all of the outstanding Equity Interests (as defined below) in the Company; \\nWHEREAS, Buyer desires to purchase from the Shareholders, and the Shareholders',\n",
       " 'Agreement and each such Ancillary Agreement by such Acquired Company.  This Agreement \\nand each Ancillary Agreement to which any Acquired Company is, or will be at Closing, a party',\n",
       " 'Bonus Amount with the [Company] and shall cause the Company to pay through its payroll \\nsystem to each Employees Closing Bonus Beneficiary its respective share the Employee Closing',\n",
       " 'interest, indexation and fines required by the ITA in respect thereof, and such amounts will be \\ntreated for all purposes of this Agreement as having been delivered and paid to such Payee.9',\n",
       " '(e) There is no pending or, to the Company ’s Knowledge, threatened Action relating \\nto a Company Plan, other than routine claims in the Ordinary Course of Business for benefits',\n",
       " 'and enforceable and that comes closest to expressing the intention of the invalid or unenforceable \\nterm or provision, and this Agreement will be enforceable as so modified after the expiration of',\n",
       " 'granting to any other Person the right of use or occupancy of any of the Real Property and there \\nis no Person (other than any Acquired Company) in possession of any of the Real Property.',\n",
       " '(iii) written resignations, effective as of the Closing Date, of the officers and directors \\nof each Acquired Company requested by Buyer;',\n",
       " '(a) To the extent that service is relevant for purposes of eligibility or vesting under \\nany employee benefit plan, program or arrangement (other than any defined benefit pension',\n",
       " 'conflict, breach, violation, default, termination, acceleration or other event has not had and \\nwould not reasonably be expected to have, a Material Adverse Effect, (ii) any Contractual',\n",
       " 'RECITALS \\nWHEREAS, the Shareholders own all of the outstanding shares of Common Stock, par \\nvalue $0.01 per share, of the Company (such common stock being referred to herein as the',\n",
       " 'by the Sellers ’ Representative; and \\n(viii) a certificate from the Company satisfying the requirements of Treasury',\n",
       " 'Environmental Laws; \\n(iv) no material capital expenditures are required to be incurred within the next two',\n",
       " 'Schedule 3.09(a), none of the Assets is subject to any Encumbrance other than a Permitted \\nEncumbrance. \\n(b) Sufficiency of Assets.  The Assets comprise all of the assets, properties and rights',\n",
       " 'Acquired Company ’s freedom to seek full compensation in connection with the marketing, \\nlicensing or distribution of any of the products or services of the Business, (iii) allows a third',\n",
       " 'canceled any of its capital stock or other Equity Interests; \\n(iv) became liable in respect of any Guarantee (other than a Guarantee by an Acquired',\n",
       " 'practices, procedures and estimation methodologies as those utilized in the preparation of the \\nMost Recent Balance Sheet].',\n",
       " 'billings) during each of the 2019 and 2020 fiscal years, indicating the existing Contractual \\nObligations with each such customer by product or service provided and (b) the ten largest',\n",
       " 'otherwise enhance any Compensation or benefits, (iii) result in the acceleration of the time of \\npayment or vesting or funding of any Compensation or benefits, (iv) entitle the recipient of any',\n",
       " 'all Encumbrances other than Permitted Encumbrances. \\n(c) Except as set forth on Schedule 3.10(c), there are no written or oral leases,',\n",
       " 'Arrangement was properly applied in accordance with the applicable Legal Requirement based \\non their full determining salaries and from their commencement date of employment, such that',\n",
       " 'Closing, a party to this Agreement or any Ancillary Agreement, has all corporate power and \\nauthority necessary for the execution, delivery and performance by it of this Agree ment and each',\n",
       " 'Section 4.04  Noncontravention.  Except as disclosed on Schedule 4.04, neither the \\nexecution, delivery and performance by such Seller of this Agreement or any Ancillary',\n",
       " 'the Acquired Companies for the [●] months then ended ( the “Interim Financials ” and, together \\nwith the Audited Financials, the “Financials ”).',\n",
       " 'material adverse effect on the business, operations, results of operations, properties, assets o r \\ncondition (financial or otherwise) of the Acquired Companies, taken as a whole, other than the',\n",
       " 'respect of the cancellation of such Options that are not Vested Options. \\n(d) Effective as of the Closing Date, the Company shall take all actions necessary to',\n",
       " '(c) Vesting Acceleration and Cancellation of Options. Effective as of the Closing, (i) \\nthe vesting schedule of all Vested Options shall be accelerated so that all Options shall become',\n",
       " 'Acquired Companies are in compliance in all material respects with the insurance requirements \\nunder the terms of any applicable Real Property Leases or other Contractual Obligations.  Except',\n",
       " 'sales, use, transfer, registration, value added, alternative or add-on minimum, estimated, escheat \\nor unclaimed property obligations, or other tax of any kind or any charge of any kind, including',\n",
       " 'such Ancillary Agreement.  Each of the Acquired Companies that is, or will be at Closing, a \\nparty to this Agreement or any Ancillary Agreement, has duly authorized by all necessary action',\n",
       " 'any Person; \\n(vii) any Contractual Obligation (other than this Agreement or any Ancillary \\nAgreement) under which an Acquired Company is, or may become, obligated to incur any',\n",
       " 'referred to herein as the “Purchase Price ”. \\nSection 2.03  The Closing. The purchase and sale of the Shares (the “Closing ”) shall',\n",
       " '-53- \\n112923184_5 Section 6.05  Confidentiality. \\n(a) Confidentiality of the Sellers. Each Seller acknowledges that the success of the',\n",
       " 'purchase, upon liquidation or otherwise). \\n “Privacy Laws and Requirements ” means all Legal Requirements (including, without',\n",
       " 'from the Real Property or any other property currently or formerly owned, leased or otherwise \\noperated by any Acquired Company or any Predecessor, which such release was in violation of',\n",
       " '(xiii) settled, agreed to settle, waived or otherwise compromised any pending or \\nthreatened Actions (A) involving potential payments by or to any Acquired Company of more',\n",
       " 'Buyer that such Seller, its Affiliates and its and its Affiliate ’s Representatives shall not, and that',\n",
       " 'Company are terminated effective as of the date hereof and the Acquired Companies will not be \\nbound thereby or have any Liability thereunder.',\n",
       " 'confidentiality of certain information possessed by such Seller, that the preservation of the \\nconfidentiality of such information by such Seller is an essential premise of the bargain between',\n",
       " 'Business Days after delivery of any Dispute Notice pursuant to Section 2.07(d), either Buyer or \\nthe Sellers ’ Representative may provide written notice to the other (the “Dispute Submission',\n",
       " 'under, or has repudiated any material provision of, any Material Company Contract. \\nSection 3.17  Related Party Transactions. Except for the matters disclosed on',\n",
       " 'an Option Cancellation Acknowledgement or a Warrant Cancellation Acknowledgement \\nevidencing the cancellation of such Vested Options or Warrants, as applicable, effective at \\nClosing;',\n",
       " 'Schedule 2.06 (f), which includes with respect to each Warrant the holder thereof, the number of \\nshares subject thereto and the exercise price thereof.   Effective as of the Closing, each W arrant',\n",
       " 'payable or the amount or validity of which is being contested in good faith by appropriate \\nproceedings and for which appropriate reserves have been established in accordance with GAAP,',\n",
       " 'accordance with the books and records of the Acquired Companies, (ii) have been prepared in \\naccordance with GAAP, consistently applied (subject, in the case of the unaudited Financials, to',\n",
       " 'confidentiality of such information by such Seller is an essential premise of the bargain between \\nthe Sellers and the Buyer, and that the Buyer would be unwilling to enter into this Agreement in',\n",
       " 'authority of the Buyer and have been duly authorized by all necessary action on the part of the \\nBuyer.  This Agreement and each Ancillary Agreement to which the Buyer is a party (a)  have',\n",
       " 'Equity Interests free and clear of all Encumbrances except as disclosed on Schedule 3.05.  \\nExcept as disclosed on Schedule 3.05:  (i) there are no preemptive rights in respect of any Equity',\n",
       " 'Company attributable to consideration payable under this agreement respect to the Optionholders \\n(calculated without regard to any deferral available under the CARES Act), (f) any Transfer',\n",
       " 'and the remaining amount of such Taxes shall be allocated to the Post-Closing Tax Period (and \\nfor such purpose, the Taxable period of any partnership or other pass-through entity or controlled',\n",
       " 'optionholders and warrantholders will execute option\\\\warrants cancellation ackn owledgments) \\n3 Note to draft:  Acquisition structure is subject to ongoing diligence and analysis.',\n",
       " 'requests in respect of Personal Information. The Acquired Companies do not intentionally retain \\nany excessive Personal Information, which is unnecessary for the operation of the Acquired',\n",
       " 'Acquired Company or any Seller in connection with the negotiation, execution and delivery of \\nthis Agreement and the Ancillary Agreements or the consummation of the Contemplated',\n",
       " 'the rights and remedies of creditors and to general principles of equity (regardless of whether \\nenforceability is considered in a proceeding in equity or at law).',\n",
       " 'WHEREAS, the holders of outstanding options and warrants to purchase capital stock of \\nthe Company (the “Optionholders ” and “Warrantholders ”, respectively) own all of the issued and',\n",
       " 'any Acquired Company (other than (A) any increase adopted in the Ordinary Course of Business \\nin respect of the Compensation of any employee whose annual base Compensation does not',\n",
       " 'authorization, execution, delivery or performance by any Acquired Company of this Agreement  \\nor any Ancillary Agreement to which it is, or will be at Closing, a party, nor the consummation',\n",
       " 'announcement to employees, customers or suppliers) will be made by any party with respect to \\nthe subject matter of this Agreement or the Contemplated Transactions without the prior written',\n",
       " 'Agreement, any Ancillary Agreement or the Contemplated Transactions, such party shall bring \\nsuch Action only in the State of Delaware. Notwithstanding the previous sentence a party may',\n",
       " 'and interests hereunder to one or more of its Affiliates or designate one or more of its Affiliates \\nto perform its obligations hereunder, in each case, so long as the Buyer is not relieved of a ny',\n",
       " '-20- \\n112923184_5 (d) Resolution of Disputes.  Buyer and the Sellers ’ Representative will attempt to \\npromptly resolve the matters raised in any Dispute Notice in good faith.  Beginning ten (10)',\n",
       " 'and each Ancillary Agreement to which any Acquired Company is, or will be at Closing, a party \\n(i) have been (or, in the case of Ancillary Agreements to be entered into at Closing, will be  when',\n",
       " 'receipts, proceeds, profits or other similar items for the Pre-Closing Tax Period and the Post-\\nClosing Tax Period, respectively, shall be determined based on an interim closing of the books as',\n",
       " 'deemed to be the amount of such Taxes for the entire Straddle Period multiplied by a fraction, \\nthe numerator of which is the number of days in the portion of such Straddle Period ending on',\n",
       " '112923184_5 STOCK PURCHASE AGREEMENT \\nTHIS STOCK PURCHASE AGREEMENT (this “Agreement ”) is made and entered into',\n",
       " 'other matter at issue after reasonable investigation of the employees of Parent or Buyer \\nreasonably expected to have actual knowledge of such fact or matter. \\n“Paying Agent ” means [●].',\n",
       " 'lapse or otherwise disposed of the rights to use any Intellectual Property (other than customer \\nagreements entered into in the Ordinary Course of Business consistent with past practices) or',\n",
       " 'payable on or triggered by any such payment calculated without regard to any defer ral available \\nunder the CARES Act \\uf028other than any payment or consideration payable under this Agreement or',\n",
       " 'Warrants Recitals \\nWithholding Drop Date 2.09(b) \\n \\nSection 1.02  Certain Matters of Construction. \\n(a) The parties have participated jointly in the negotiation and drafting of this',\n",
       " 'Warrant, multiplied by (B) the number of Common Shares subject to such Warrant for which \\nsuch Warrant shall not theretofore have been exercised (the amount so payable to for the benefit',\n",
       " '-23- \\n112923184_5 than three Business Days before such payment is due, with a validly executed declaration in the',\n",
       " 'Contractual Obligations and all powers of attorney with respect to or involving any Acquired \\nCompany are terminated effective as of the date hereof and the Acquired Companies will not be',\n",
       " 'Requirements, upon termination of the employment or engagement of any such employees, \\nconsultants or other individual service providers, no severance or other payments will become \\ndue.',\n",
       " 'retirement or other termination of employment. \\n(g) Each “nonqualified deferred compensation plan ” (as defined in Code Section',\n",
       " 'either the Sellers ’ Representative, the Buyer or any Acquired Company, each of the parties \\nhereto shall do, execute, acknowledge and deliver all such further acts, assurances, deeds,',\n",
       " 'claims arising from fraud committed by such Person. \\nSection 10.02  Recourse Limitations.  \\n(a) Other than claims arising from fraud committed by the Person, no director,',\n",
       " 'of credit other than in the Ordinary Course of Business; \\n(xiii) settled, agreed to settle, waived or otherwise compromised any pending or',\n",
       " 'any participant in any Company Stock Plan or other plan or any party to a Contractual Obligation \\nwith any Acquired Company has any right thereunder to acquire any Equity Interests of an y',\n",
       " 'acceleration under, or require any action by (including any authorization, consent or approval) or \\nnotice to any Person, or require any offer to purchase or prepayment of any Debt or Liabil ity',\n",
       " '-61- \\n112923184_5 Section 11.04  Provisions Concerning the Sellers ’ Representative. \\n(a) Appointment .  Each Seller hereby irrevocably appoints [●] as the sole and',\n",
       " 'respect any restrictive covenant of record to which an Acquired Company is party that affects \\nany of the Real Property.',\n",
       " 'modified from time to time. \\n(d) Only that information which has been made available to the Buyer in the “virtual',\n",
       " '“Guarantee ” means, with respect to any Person, (a) any guarantee of the payment or \\nperformance of, or any contingent payment obligation in respect of, any Debt or other Liability',\n",
       " 'Section 2.01  Purchase and Sale of Shares ............................................................................ 14',\n",
       " 'request, demand, claim or other communication shall be deemed to have been delivered and \\ngiven (a) when delivered, if delivered personally, (b) the Business Day after it is deposited with',\n",
       " 'securing the Debt (and all Contractual Obligations governing all related Encumbrances).  Except \\nas set forth on Schedule 3.08, no Acquired Company has any Liability in respect of a Guarantee',\n",
       " 'the Closing Date and the denominator of which is the number of days in such Straddle Period \\nand the remaining amount of such Taxes shall be allocated to the Post-Closing Tax Period (and',\n",
       " '(“NBA”) to represent it in such dispute or Action arising out of or relating to this Agreement or, \\neven if such representation is adverse to Buyer, the Acquired Companies or its Affiliates.  Buyer,',\n",
       " 'independent experts that it reasonably determines to be experienced in the matter at issue, and \\nwill not be liable to any Seller for any action taken or omitted to be taken in good faith based on',\n",
       " 'Section 3.11.  \\n \\nSection 3.12  Legal Compliance; Illegal Payments; Permits. \\n(a) Legal Compliance.  Except as otherwise disclosed on Schedule 3.12(a), no',\n",
       " 'Balance Sheet ” and the date thereof, the “Most Recent Balance Sheet Date ”), and the related \\nunaudited consolidated statement of [income, cash flow and changes in stockholders ’ equity] of',\n",
       " 'lawful (a) authorization, execution, delivery and performance by the Buyer of this Agreement \\nand each Ancillary Agreement to which it a party or (b) consummation of the Contemplated',\n",
       " 'notice to any Person under, any of the terms, conditions or provisions of (i) any Government \\nOrder applicable to or otherwise affecting the Buyer or its assets or properties, (ii) any material',\n",
       " 'provided by a third party not known to such Seller to be under an obligation of confidentiality \\nwith respect to such information; provided, further, that the provisions of this Section 6.05(a)',\n",
       " 'continue in effect after the Closing; and \\n(xv) any collective bargaining agreement or other Contractual Obligation with any \\nUnion.',\n",
       " 'relates to any breach or violation of, or default under, a Contractual Obligation or Legal \\nRequirement). \\n(d) Banking Facilities.  Schedule 3.06(d) sets forth an accurate and complete list of (i)',\n",
       " 'THIS STOCK PURCHASE AGREEMENT (this “Agreement ”) is made and entered into \\nas of [●] by and among  [PARENT] , a [●] corporation (“ Parent ”)], [BUYER], a Delaware',\n",
       " 'Section 3.14  Employee Benefit Plans................................................................................... 32',\n",
       " 'incurred, (ii) the fees and expenses of the Company ’s legal counsel, accountants, consultants and \\nother experts and advisors so incurred and (iii) all Change of Control Payments; (b) any fees and',\n",
       " 'contemplated hereby or (d) any failure of the Contemplated Transactions to be consummated.  \\nNon-Party Affiliates are expressly intended as third-party beneficiaries of this Section 8.02.  The',\n",
       " 'this Agreement or as an inducement to enter into this Agreement), will be governed by and \\nconstrued and enforced in accordance with the domestic substantive laws of the State of',\n",
       " 'Contractual Obligation which would entitle any other Person to acquire any such interest in such \\nPerson or otherwise entitle any other Person to share in the equity, profits, earnings, losses or',\n",
       " 'promptly resolve the matters raised in any Dispute Notice in good faith.  Beginning ten (10) \\nBusiness Days after delivery of any Dispute Notice pursuant to Section 2.07(d), either Buyer or',\n",
       " 'applicable to the Acquired Companies. \\n(b) Illegal Payments, etc.   In the conduct of the Business, no Acquired Company nor,',\n",
       " 'expected to conflict with or result in a breach of the terms, conditions, or provisions of, or \\nconstitute a default under, any Contractual Obligation or Company Plan under which any such',\n",
       " 'amount out of the amount held by such Payor for distribution to a particular Payee and transfer it \\nto the ITA prior to the Withholding Drop Date, such Payor (i) will notify such Payee of such',\n",
       " 'granted such Options, other than Persons who were promised Options pursuant to an offer letter, \\nContractual Obligation or other written or unwritten commitment from the Acquired Companies.',\n",
       " 'suppliers of materials, products or services to the Acquired Companies (measured by the \\naggregate amount purchased by the Acquired Companies) during each of the 2019 and 2020',\n",
       " 'expenses owing to the Company ’s Affiliates (other than to another Acquired Company) or to any \\nSeller (in each case, whether or not arising in connection with this Agreement or the',\n",
       " '(2) years following the date of this Agreement in order to achieve or maintain the compliance of \\nthe Acquired Companies with Environmental Laws or any Permits issued pursuant to',\n",
       " 'commitments to amend, modify or supplement such Company Stock Plans or Contractual \\nObligations in any case from those provided to Buyer. The terms of the Company Stock Plans',\n",
       " 'against any breach or threatened breach by such Seller of any such covenants togeth er with an \\naward of its reasonable attorneys ’ fees incurred in enforcing its rights hereunder, (iii) the',\n",
       " 'Date.  The Sellers ’ Representative and its Representatives shall have reasonable access to the \\nwork papers and other books and records of the Acquired Companies and to the persons who',\n",
       " 'such advice.  Each Seller will severally (and not jointly) indemnify (in accordance with its Pro',\n",
       " 'Balance Sheet ” and the date thereof, the “Audited Balance Sheet Date ”) and the related audited \\nconsolidated statements of [income, cash flow and changes in stockholders ’ equity] of the',\n",
       " '(iv) execute and deliver, should it elect to do so in its good faith discretion, on behalf \\nof the Sellers, any amendment to, or waiver of, any term or provision of this Agreement or the',\n",
       " 'the remaining terms and provisions hereof or the validity or enforceability of the offending term \\nor provision in any other situation or in any other jurisdiction.  In the event that any provision',\n",
       " 'Companies in respect of which are not overdue or otherwise in default, (c) zoning, entitlement, \\nbuilding and other land use regulations imposed by Governmental Authorities having jurisdiction',\n",
       " 'Obligations in any case from those provided to Buyer. The terms of the Company Stock Plans \\npermit the treatment of Options as provided herein, without notice to, or the consent or approval',\n",
       " 'issued or outstanding Equity Interests or holds shares of its capital stock (or other Equity \\nInterests) in its treasury.  The Company has delivered to the Buyer accurate and complete copies',\n",
       " 'follows: (i) the amount of any Taxes based upon or measured by income, gain, activities, events, \\nreceipts, proceeds, profits or other similar items for the Pre-Closing Tax Period and the Post-',\n",
       " 'Company, (iii) except for the Contemplated Transactions, there is no Contractual Obligation, or \\nprovision in the Organizational Documents of any Acquired Company which obligates an',\n",
       " 'number (and will be in addition) to the number of shares granted to such Optionholder pursuant \\nto Subsection 6.14(d)(i) above.  With respect to Vested Optionholders that are employed by the',\n",
       " 'than such Person) on the basis of any promise or undertaking of such Person (i) to pay the Debt \\nor other Liability of such obligor, (ii) to purchase any obligation owed by such obligor, (iii) to',\n",
       " 'the vesting schedule of all Vested Options shall be accelerated so that all Options shall become \\nfully vested as of immediately prior to the Closing, (ii) all Options shall be cancelled and at the',\n",
       " 'Ancillary Agreement shall effect any transfer of any right, title, or interest in the Privilege d \\nCommunications to the Buyer or any Acquired Company (c) the Privileged Communications and',\n",
       " 'the numerator of which is the number of days in the portion of such Straddle Period ending on \\nthe Closing Date and the denominator of which is the number of days in such Straddle Period',\n",
       " 'respect to events occurring prior to the Closing. \\nSection 3.22  No Brokers.  No Acquired Company has any Liability of any kind to, or is',\n",
       " '(xiii) any Contractual Obligation under which an Acquired Company has advanced or \\nloaned an amount to any of its Affiliates (other than to another Acquired Company) or',\n",
       " 'foregoing,  the parties hereby acknowledge and agree that, following the public announcement of \\nthe Closing, institutional Company Securityholders shall be permitted to list, attach, append,',\n",
       " 'Liability that is or expected to be borne by any Acquired Company or the Buyer to any broker, \\nfinder or agent with respect to the Contemplated Transactions, and such Seller agrees to satisfy',\n",
       " '“Vested Options Consideration ” means the aggregate amount of the consideration \\npayable to Optionholders with respect to Vested Options pursuant to Section 2.06(b).',\n",
       " 'percentage set forth opposite the name of such Company Securityholder on Annex I hereto. \\n“R&W Insurance Policy ” means the buyer-side representation and warranty insurance',\n",
       " 'certificates, statements and agreements on behalf of and in the name of each Seller necessary to \\neffectuate the Closing and consummate the Contemplated Transactions;',\n",
       " 'meaning of Department of Labor regulations section 2550.404c-1(b). \\n(d) All required material contributions (including all contributions towards pension',\n",
       " 'reflected as being owned by the Company or such Subsidiary on Schedule 3.05 and holds such \\nEquity Interests free and clear of all Encumbrances except as disclosed on Schedule 3.05.',\n",
       " 'Acquired Company has been in the past three years, in any material respect, in breach or \\nviolation of, or default under, its Organizational Documents or any Legal Requirement',\n",
       " 'equals (1) the excess of (x) the Per Common Share Price over (y) the exercise price pe r \\nshare of Common Stock subject to such Option, multiplied by (2 ) 50% of the number of',\n",
       " 'Contractual Obligations.  Except as disclosed on Schedule 3.19 or as required by Legal \\nRequirements, upon termination of the employment or engagement of any such employees,',\n",
       " 'to such payee from withholding tax or reducing the amount thereof. To the extent that the \\namounts are so deducted or withheld, such withheld amounts shall be treated for all purposes of',\n",
       " 'Section 3.08  Debt; Guarantees.  The Acquired Companies have no Liabilities in respect \\nof Debt except as set forth on Schedule 3.08.  For each item of Debt, Schedule 3.08 correctly sets',\n",
       " 'The employment and engagement of each employee, consultant or other individual service \\nproviders of any Acquired Company is terminable at the will of an Acquired Company upon',\n",
       " 'of Business and no Acquired Company has (x) suffered any loss, damage, destruction or eminent \\ndomain taking, whether or not covered by insurance, with respect to any of its material Assets or',\n",
       " 'Contemplated Transactions by the Acquired Companies.  \\nSection 3.04  Noncontravention.  Except as disclosed on Schedule 3.04, none of the',\n",
       " '-38- \\n112923184_5 (iii) installment sale or open transaction disposition made on or prior to the Closing Date ,',\n",
       " '112923184_5 Section 3.07  Absence of Certain Developments.  Since the Audited Balance Sheet Date , \\n(a) no event, change, fact, condition or circumstance has occurred or arisen that has had, or',\n",
       " 'both, would constitute a default) under, any Legal Requirement applicable to an Acquired \\nCompany, the Business or any Assets of any Acquired Company; or',\n",
       " 'Acquired Companies on and prior to the Closing Date, except as would cause a duplication of \\nbenefits or coverage for the same period of service.  In addition, for the planned year in which',\n",
       " '(including by accelerating material rights or benefits under) any Material Company Contracts; \\n(xvii)  wrote up or wrote down any of its material Assets or revalue its inventory;',\n",
       " 'owned Subsidiary of the Company); or (B) repurchased, redeemed, or otherwise acquired o r \\ncanceled any of its capital stock or other Equity Interests;',\n",
       " 'claim for constructive dismissal or breach of Contractual Obligation arising out of the conduct of \\nthe Acquired Companies or their respective officers, employees or Affiliates after Closing,   and',\n",
       " '“Audited Financials ”); and \\n(ii) t\\nthe unaudited consolidated balance sheet of the Acquired Companies as of [●] (th e “Most Recent',\n",
       " 'payable as of the date hereof, no Acquired Company has an outstanding obligation to pay any \\namount of severance payment or any other payment of substantially the same nature, in',\n",
       " 'Accounting Firm. The decision of the Accounting Firm with respect to the disputed items of the \\nProposed Final Closing Statement submitted to it will be final, conclusive and binding on the',\n",
       " 'Section 2.05  Closing Deliveries ........................................................................................... 15',\n",
       " 'their electronic counterparts). The consummation of the transactions contemplated by this \\nAgreement shall be deemed to occur at 12:01 a.m. Pacific Standard Time on the Closing Date.',\n",
       " 'change- in-control, relocation incentive, or profit-sharing, material understanding or commitment \\nwith respect to any of the foregoing.',\n",
       " '“Contemplated Transactions ” means the transactions contemplated by this Agreement, \\nincluding (a) the purchase and sale of the Shares, the cancellation of the Options and Warrants',\n",
       " '(a) Contemplated Transactions.  Each of the Acquired Companies that is, or will be at \\nClosing, a party to this Agreement or any Ancillary Agreement, has all corporate power and',\n",
       " 'concealed or hidden, all of which such Seller now own or hold or have at any time owned or held \\nagainst the Releasees relating to or arising out of the operation or ownership of the Acquired',\n",
       " 'lawful (a) authorization, execution, delivery and performance by such Seller of this Agreement \\nand each Ancillary Agreement to which such Seller is a party or (b) consummation of the',\n",
       " 'Company.  Except as disclosed on Schedule 4.05, such Seller is not a party to, and the Equity \\nInterests in the Company set forth opposite such Seller ’s name on Schedule 4.05 are not subject',\n",
       " 'redemption of any of its Equity Interests or other securities, except where such violation has not \\nhad, and would not reasonably be expected to have, a Material Adverse Effect. The Company',\n",
       " 'the date of termination and statutory payments. \\n(i) With respect to each Company Plan that is subject to Legal Requirements of a',\n",
       " '(e) The parties intend that each representation, warranty and covenant contained \\nherein will have independent significance.  If any party has breached or violated, or if there is an',\n",
       " 'affects any Seller ’s communicating with any Governmental Authority, or communicating with \\nany official or staff person of a Governmental Authority, concerning matters relevant to such',\n",
       " 'own respective financial advisory, legal, accounting and other expenses incurred by it or for its  \\nbenefit in connection with the preparation and execution of this Agreement and the Ancillary',\n",
       " 'Section 3.23  Full Disclosure. The Acquired Companies have provided the Buyer with \\nall information under their control the Buyer has requested (in writing). Neither this Agreement',\n",
       " '(g) Each “nonqualified deferred compensation plan ” (as defined in Code Section \\n409A(d)(1) and applicable regulations) with respect to any service provider to an Acquired',\n",
       " 'of Company Common Stock purchased under such Option), have been provided to Buyer, and \\nsuch Company Stock Plans and Contractual Obligations have not been amended, modified or',\n",
       " 'such Seller is not an individual). \\nSection 4.05  Title.  Such Seller is the record and beneficial owner of the outstanding',\n",
       " 'circumstances in which they were made. \\nARTICLE IV \\nINDIVIDUAL REPRESENTATIONS AND WARRANTIES OF THE SELLERS.',\n",
       " 'had, and would not reasonably be expected to have, a Material Adverse Effect. The Company \\nhas taken all actions necessary to ensure that (i) all outstanding Options have been cancelled',\n",
       " '(xvii)  wrote up or wrote down any of its material Assets or revalue its inventory; \\n(xviii)  opened any new bank or deposit accounts (or materially change any existing',\n",
       " 'hereof by such Seller), (ii) independently developed without reference to such information or (iii) \\nprovided by a third party not known to such Seller to be under an obligation of confidentiality',\n",
       " 'Acquired Companies (which has not expired, been rescinded or rejected), but who have not been \\ngranted such Options, other than Persons who were promised Options pursuant to an offer letter,',\n",
       " 'Acquired Company. \\nSection 3.05  Capitalization of the Acquired Companies. \\n(a) Authorized and Outstanding Equity Interests.  The entire authorized capital stock',\n",
       " '(h) For the convenience of the parties an index of additional terms defined throughout \\nthis Agreement has been included at the beginning of this Agreement but does not form a part of',\n",
       " 'as to such Seller, that: \\nSection 4.01  Organization.  In the case of each Seller that is not an individual, such',\n",
       " 'consolidated results of the operations of the Acquired Companies and changes in financial \\nposition for the respective periods covered thereby, to the extent required byGAAP.',\n",
       " 'Audited Balance Sheet Date 3.06(a)(i) \\nAudited Financials 3.06(a)(i) \\nBusiness Partner 6.08(a) \\nBuyer Preamble \\nClosing 2.02 \\nClosing Date 2.02 \\nCommon Shares Recitals \\nCommon Stock Recitals',\n",
       " 'or gross income or profits, including any franchise, margin or similar Tax (and any withholding \\nTax with respect thereto), including any interest, penalty or addition thereto.',\n",
       " 'relating to this Agreement or any of the transactions contemplated herein or therein. \\nSection 11.13  Schedules.  Any information disclosed in any Schedule shall be deemed to',\n",
       " 'payable or reimbursable by any Acquired Company after the Closing, and any applicable non-\\nrecoverable VAT, including, (a)(i) all fees and expenses payable to the Company ’s financial',\n",
       " 'violation of the Intellectual Property of others. The Acquired Companies will continue to own or \\nhave immediately after the Closing, valid rights or licenses as are sufficient to use all of the',\n",
       " 'Date in the Ordinary Course of Business (collectively, the “Assets ”).  Except as disclosed on \\nSchedule 3.09(a), none of the Assets is subject to any Encumbrance other than a Permitted',\n",
       " 'Interests in any Acquired Company, (ii) there are no Encumbrances on, or other Contractual \\nObligations relating to, the ownership, transfer or voting of any Equity Interests in any Acquired',\n",
       " 'shall credit, to the extent permitted, such Acquired Companies ’ employees for service with the \\nAcquired Companies on and prior to the Closing Date, except as would cause a duplication of',\n",
       " 'materially reduced the hours or weekly pay of, ten (10) or more employees; \\n(xii) made any material change in its methods of accounting or accounting practices',\n",
       " '(e) No eminent domain or condemnation Action is pending or, to the Company ’s \\nKnowledge, threatened, that would preclude or materially impair the use of any Real Property.',\n",
       " 'of the transactions contemplated by this Agreement will not result in the loss or impairment of \\nthe Acquired Companies ’ rights in any Company Intellectual Property or Technology and will',\n",
       " 'property, the Acquired Company or Predecessor that was the owner of such real property, and \\n(iii) with respect to each Leased Real Property, each lease, sublease, license or other Contractual',\n",
       " 'inaccuracy in, any representation, warranty or covenant contained herein in any respect, the fa ct \\nthat there exists another representation, warranty or covenant relating to the same subject matter',\n",
       " 'the unaudited consolidated balance sheet of the Acquired Companies as of [●] (th e “Most Recent \\nBalance Sheet ” and the date thereof, the “Most Recent Balance Sheet Date ”), and the related',\n",
       " 'has there been any settlements or similar out-of-court or pre-litigation arrangement relating to \\nany such matters, nor has any such Action, settlement or other arrangement been proposed or',\n",
       " '-66- \\n112923184_5 the expectation of client confidence relating thereto shall belong solely to Company',\n",
       " 'would reasonably be expected to have, a Material Adverse Effect, and (b) except as disclosed on \\nSchedule 3.07, the Business has been conducted in all material respects in the Ordinary Course',\n",
       " '-25- \\n112923184_5 under, or result in the creation of any Encumbrance )other than a Permitted Encumbrance ( upon',\n",
       " 'currently covered by the Acquired Companies ’ directors ’ and officers ’ liability insurance policy \\nwith an effective date no later than the Closing Date and with levels of coverage, terms and',\n",
       " 'severance payment, pension, accrued vacation, recuperation, and other social benefits and \\ncontributions, under applicable Legal Requirements or Contractual Obligations, or any other',\n",
       " 'Sellers for actions or omissions in exercising or failing to exercise all or any of the power a nd \\nauthority of the Sellers ’ Representative pursuant to this Agreement, except in the case of the',\n",
       " 'Section 3.20  Litigation; Government Orders ....................................................................... 37',\n",
       " 'no Contractual Obligation pursuant to which such Seller has, directly or indirectly, granted any \\noption, warrant or other right to any Person to acquire any Equity Interests in an Acquired',\n",
       " 'use or occupy such Owned Real Property, (ii) with respect to each previously owned real \\nproperty, the Acquired Company or Predecessor that was the owner of such real property, and',\n",
       " 'Section 3.19  Labor Matters. \\n(a) Schedule 3.19 of the Company Disclosure Schedule sets forth a true, correct and',\n",
       " 'even if such representation is adverse to Buyer, the Acquired Companies or its Affiliates.  Buyer, \\nfor itself, the Acquired Companies and its and their Affiliates, and for its, the Acquired',\n",
       " 'Obligation under which such Leased Real Property is occupied or used including the date of and \\nlegal name of each of the parties to such lease, sublease, license or other Contractual Obligation,',\n",
       " 'of such Person to secure (regardless of whether assumed by such Person), the obligations \\ndescribed in clauses (a) through (d) above of any other Person that is not an Acquired Company.',\n",
       " 'specification of any item or matter in any provision of this Agreement nor the inclusion of any \\nspecific item or matter in any Schedule is intended to imply that such item or matter, or other',\n",
       " 'Section 3.10  Real Property ................................................................................................... 25',\n",
       " 'Equity Interests) of such Acquired Company, the execution, delivery and performance of this \\nAgreement and each such Ancillary Agreement by such Acquired Company.  This Agreement',\n",
       " 'Section 11.02  Succession and Assignment; No Third-Party Beneficiaries.  Subject to the \\nimme diately following sentence, this Agreement will be binding upon and inure to the benefit of',\n",
       " 'or matter in any dispute or controversy between the Parties as to whether any item or matter not \\nspecified in this Agreement or included in any Schedule is or is not in the ordinary course of',\n",
       " 'accordance with GAAP, consistently applied (subject, in the case of the unaudited Financials, to \\nnormal year-end audit adjustments ) and (iii) fairly present the consolidated financial position of',\n",
       " '(i) solicit, lure or entice away, or in any other manner persuade or attempt to persuade, any \\nPerson who is an employee or consultant of any of the Acquired Companies as of the Closing',\n",
       " 'treatment, storage, or disposal of Hazardous Substances. \\n“Equity Interest ” means, with respect to any Person, (a) any capital stock, partnership or',\n",
       " '(i) in connection with the Closing, execute and receive all documents, instruments, \\ncertificates, statements and agreements on behalf of and in the name of each Seller necessary to',\n",
       " 'IN WITNESS WHEREOF, each of the undersigned has executed this Stock Purchase \\nAgreement as of the date first above written. \\nBUYER: [BUYER] \\n \\n \\nBy:___________________________________ \\n Name:',\n",
       " 'material Assets, other than sales of Assets in the Ordinary Course of Business; \\n(vii) repaid, prepaid or otherwise discharged or satisfied any Debt or other material',\n",
       " 'ever merged or consolidated with or into such specified Person or (b) any other Person all or \\nsubstantially all of whose assets has ever been acquired by such specified Person (whether by',\n",
       " 'demand or other legal proceeding (whether sounding in contract, tort or otherwise, whether civil \\nor criminal and whether brought at law or in equity) that is commenced, brought, conducted,',\n",
       " 'construction, voting (in the case of any security or Equity Interest), transfer, receipt of income or',\n",
       " 'or Contractual Obligation to be transferred to any Company Plan. \\n(e) There is no pending or, to the Company ’s Knowledge, threatened Action relating',\n",
       " 'loaned an amount to any of its Affiliates (other than to another Acquired Company) or \\nemployees other than in the Ordinary Course of Business;',\n",
       " 'such disclosure and a reasonable opportunity is afforded Parent and the Company to contest the \\nsame, (B) made to the Seller ’s legal and/or financial advisors, or (C) made in connection with the',\n",
       " 'Obligations relating to, the ownership, transfer or voting of any Equity Interests in any Acquired \\nCompany, or otherwise affecting the rights of any holder of the Equity Interests in any Acquired',\n",
       " 'Section 4.02  Power and Authorization.  In the case of each Seller that is not an \\nindividual, the execution, delivery and performance by such Seller of this Agreement and each',\n",
       " 'provision in the Organizational Documents of any Acquired Company which obligates an \\nAcquired Company to purchase, redeem or otherwise acquire, or make any payment (including',\n",
       " '(a) Legal Compliance.  Except as otherwise disclosed on Schedule 3.12(a), no \\nAcquired Company is, in any material respect, in breach or violation of, or default under, and no',\n",
       " 'material terms and conditions of each oral Contractual Obligation listed on Schedule 3.16. \\n(b) Enforceability, etc. Each Contractual Obligation required to be disclosed on',\n",
       " 'this Agreement has been included at the beginning of this Agreement but does not form a part of \\nthis Agreement. \\nARTICLE II \\nPURCHASE AND SALE OF SHARES AND WARRANTS;',\n",
       " 'with clause (i) or made by registered or certified mail, return receipt requested, at its address \\nspecified pursuant to Section 8.01, will constitute good and valid service of process in any such',\n",
       " 'Date by any Acquired Companies ’ employee or by a covered dependent shall be taken into \\naccount for purposes of satisfying applicable deductible coinsurance and maximum out of pocket',\n",
       " 'procedures and capabilities to respond to requests regarding access, correction, and deletion \\nrequests in respect of Personal Information. The Acquired Companies do not intentionally retain',\n",
       " 'of the above-named courts. \\n(b) Venue.  Each of the parties to this Agreement agrees that for any Action among',\n",
       " 'and would not reasonably be expected to have, a Material Adverse Effect), there is no Action to \\nwhich an Acquired Company is a party (either as plaintiff or defendant) or to which its Assets',\n",
       " 'Intellectual Property (other than indemnities provided to customers pursuant to the Company ’s \\nstandard customer agreement(s) in the Ordinary Course of Business) (collectively, (i) through',\n",
       " 'in a monetary loss or a business disruption, or (iv) other act or omission that compromised the \\nsecurity, availability, integrity, or confidentiality of Personal Information. No action, claim,',\n",
       " 'Business, the existence of the Contemplated Transactions and identity of Buyer, and the fact of \\nsuch Company Securityholders ’ investment in the Acquired Companies in or to any marketing or',\n",
       " 'Date for the benefit of the Acquired Companies ’ employees, such plan, program or arrangement \\nshall credit, to the extent permitted, such Acquired Companies ’ employees for service with the',\n",
       " 'VAT  3.13(r) \\nValid Certificate 2.09(b) \\nWarrantholders Preamble \\nWarrants Recitals \\nWithholding Drop Date 2.09(b) \\n \\nSection 1.02  Certain Matters of Construction.',\n",
       " 'Agreement or otherwise in connection with the Contemplated Transactions; \\n(iv) execute and deliver, should it elect to do so in its good faith discretion, on behalf',\n",
       " 'events, changes, facts, conditions, circumstances or occurrences resulting from actions taken by \\nany Acquired Company which Buyer has expressly requested in writing or to which Buyer has',\n",
       " 'any Debt of an Acquired Company; \\n(vi) any Contractual Obligation containing covenants that in any way purport to',\n",
       " 'including (a) the purchase and sale of the Shares, the cancellation of the Options and Warrants \\nand the other transactions described in the recitals to this Agreement, (b) the execution, delivery',\n",
       " 'Closing Tax Period, respectively, shall be determined based on an interim closing of the books as \\nof the close of business of the day immediately preceding  the Closing Date; and (ii) the amount',\n",
       " 'party to any Material Company Contract is in material breach or violation of, or material default \\nunder, or has repudiated any material provision of, any Material Company Contract.',\n",
       " 'Closing, the Sellers will have the right, at its election, to retain Naschitz, Brandes, Amir & Co. \\n(“NBA”) to represent it in such dispute or Action arising out of or relating to this Agreement or,',\n",
       " 'executed and delivered) duly executed and delivered by each Acquired Company that is, or will \\nbe at Closing, a party thereto and (ii) is (or in the case of Ancillary Agreements to be entered into',\n",
       " 'reasonably expected to have actual knowledge of such fact or matter. \\n“Paying Agent ” means [●].  \\n“Per Common Share Price ” means the quotient obtained by dividing (a) the sum of the',\n",
       " 'Company Preamble \\nCompany Plan 3.14(a) \\nCompany Registrations 3.11(c) \\nCompany Stock Plans 2.06 \\nDispute Notice 2.07(d) \\nDispute Submission Notice 2.07(e) \\nEmployee Closing Bonus Beneficiaries 2.04',\n",
       " '-iv- \\n112923184_5 EXHIBITS \\nEXHIBIT  \\n  \\nA Allocation Statement \\n \\n \\nSCHEDULES \\n  \\n  \\nI List of Shareholders, Optionholders and Warrantholders',\n",
       " 'customers. \\n(j) No Acquired Company owns any property of a character, the indirect transfer of \\nwhich, pursuant to this Agreement, would give rise to any documentary, stamp, or other transfer \\nTax.',\n",
       " 'policy relating to the foregoing, in each case involving an Acquired Company or any current or \\nformer employee, director, officer, consultant or other individual service provider (in relation to',\n",
       " 'Closing Date); provided that exemptions, allowances or deductions that are calculated on an \\nannual basis, such as the deduction for depreciation (other than with respect to property placed in',\n",
       " 'delivered, distributed, licensed or otherwise made available in source code form, (ii) limit an \\nAcquired Company ’s freedom to seek full compensation in connection with the marketing,',\n",
       " 'executing a customary engagement letter reasonably acceptable to it) and to cause the \\nAccounting Firm to resolve any such dispute as soon as practicable after the commencement o f',\n",
       " 'any Contractual Obligation in respect of Taxes with any Governmental Authority; \\n(xv) opened any Facility or entered into any new line of business or closed any Facility',\n",
       " 'employee, independent contractor, creditor, stockholder or other third party, and each Acquired \\nCompany has complied in all material respects with all reporting and recordkeeping',\n",
       " 'not constitute good and valid service of process. \\nSection 11.10  Specific Performance.  Each of the parties acknowledges and agrees that',\n",
       " 'slowdown, lockout, stoppage, picketing or strike) pending or, to the Company ’s Knowledge, \\nthreatened between an Acquired Company, on the one hand, and its employees, on the other',\n",
       " 'bound thereby or have any Liability thereunder. \\nSection 9.02  Certain Taxes and Fees.  All transfer, documentary, sales, use, stamp,',\n",
       " 'agreement or other Contractual Obligation with any Union. \\nSection 3.08  Debt; Guarantees.  The Acquired Companies have no Liabilities in respect',\n",
       " 'preemptive or other similar rights of any Person in connection with the issuance, repurchase or \\nredemption of any of its Equity Interests or other securities, except where such violation has not',\n",
       " '(including co-existence agreements and covenants not to sue), and (iv) under which an Acquired \\nCompany has agreed to or has a Contractual Obligation to indemnify any Person for or against',\n",
       " 'arising from any such representation, regardless of the existence of (i) any adversity between the \\ninterests of Sellers or any of their Affiliates, on the one hand, and Buyer, the Acquired',\n",
       " '(a) Other than claims arising from fraud committed by the Person, no director, \\nofficer, employee, incorporator, manager, member, partner, stockholder, shareholder, Affiliate,',\n",
       " 'Section 4.01  Organization.  In the case of each Seller that is not an individual, such \\nSeller is duly organized, validly existing and in good standing (if such concept is recognize d)',\n",
       " 'Section 8.02  Recourse Limitations. ...................................................................................... 44',\n",
       " 'except for acquisitions of Assets in the Ordinary Course of Business; or (C) made any loan, \\nadvance or capital contribution to, acquired any Equity Interests in, or otherwise made any',\n",
       " '(iii) no Acquired Company has any ongoing obligations pursuant to any Government \\nOrder or agreement resolving or settling any alleged violation of or Liability under \\nEnvironmental Laws;',\n",
       " 'Section 5.01  Organization.  The Buyer is duly organized, validly existing and in good \\nstanding under the laws of the jurisdiction of its organization.',\n",
       " 'or the Contemplated Transactions, (ii) hereby waives to the extent not prohibited by applicable \\nLegal Requirements, and agrees not to assert, by way of motion, as a defense or otherwise, in',\n",
       " '(c) Breach, etc.  No Acquired Company or, to the Company ’s Knowledge, any other \\nparty to any Material Company Contract is in material breach or violation of, or material default',\n",
       " 'violation of, or default under, its Organizational Documents or any Legal Requirement \\napplicable to the Acquired Companies.',\n",
       " 'Laws or Anti-Money Laundering Laws is pending or threatened. \\n(c) Permits.  Each Acquired Company possess all material Permits necessary for the',\n",
       " 'thereof) ending after the Closing Date as a result of (i) any “closing agreement ” as described in \\nCode Section 7121 (or any corresponding or similar provision of state, local or foreign Income',\n",
       " 'Acquired Companies.  If the Acquired Companies or any of their respective successors or \\nassigns (i) shall consolidate with or merge into any other Person and shall not be the continuing',\n",
       " 'Acquired Companies are subject), Contractual Obligations applicable to Personal Information or \\nthe access thereto or use or transfer thereof.',\n",
       " 'of Part E2 of the Ordinance. \\n(s) The Acquired Companies do not and have never participated or engaged in any \\ntransaction listed in Section 131(g) of the Ordinance and the Israeli Income Tax Laws',\n",
       " 'Acquired Company is bound by or a party to: \\n(i) any Contractual Obligation (or group of related Contractual Obligations) for the',\n",
       " 'based upon, arising out of, or related to any representation or warranty made in connection with \\nthis Agreement or as an inducement to enter into this Agreement), will be governed by and',\n",
       " 'reimbursed to such directors, officers, employees, consultants or other individual service \\nproviders. There are, and for the past three (3) years there have been, no Actions pending or, to',\n",
       " 'this Agreement shall terminate automatically as of the Closing, and no Party or any of its \\nAffiliates or its or their respective Representatives will have any recourse against the other party',\n",
       " 'Section 422 of the Code. In addition, Schedule 3.05(b) indicates, as of the Agreement Date, \\nwhich Optionholders are Persons that are not employees of the Acquired Companies (including',\n",
       " 'all information under their control the Buyer has requested (in writing). Neither this Agreement \\n(including the Schedules hereto) nor any certificates made or delivered in connection herewith',\n",
       " 'Schedule 3.05.  Except as set forth on Schedule 3.05, none of the Acquired Companies has any \\nissued or outstanding Equity Interests or holds shares of its capital stock (or other Equity',\n",
       " '(v) (A) merged or consolidated with any Person; (B) acquired any material Assets, \\nexcept for acquisitions of Assets in the Ordinary Course of Business; or (C) made any loan,',\n",
       " 'Section 3.22  No Brokers ....................................................................................................... 38',\n",
       " 'other than one of the above-named courts or that this Agreement, any Ancillary Agreement or \\nthe subject matter hereof or thereof may not be enforced in or by such court and (iii) hereby',\n",
       " 'authorized, on behalf of the Sellers, to: \\n(i) in connection with the Closing, execute and receive all documents, instruments,',\n",
       " 'provisions or similar provisions granting rights of acceleration, termination, modification or \\nwaiver based upon the entering into of this Agreement or the consummation of the Contemplated',\n",
       " 'Acquired Company or to which any Acquired Company is bound.  The Contractual Obligations \\nthe Acquired Companies have with third parties Handling Personal Information on their behalf',\n",
       " '-2- \\n112923184_5 AGREEMENT \\nNOW THEREFORE, in consideration of the premises and mutual promises herein made,',\n",
       " 'and, in the case of any Straddle Period, the portion of such period beginning on the first day \\nfollowing the Closing Date.',\n",
       " 'Agreement, the following terms shall have the following meanings when used in this Agreement: \\n[“Accounting Principles ” means GAAP as in effect on the Most Recent Balance Sheet',\n",
       " 'guardian. \\n“Fully-Diluted Common Share Number ” means the total number of issued and \\noutstanding shares of Common Stock immediately prior to the time of the Closing assuming the',\n",
       " 'deficiencies filed, assessed against, or agreed to by an Acquired Company since [●].  \\n\\uf020\\uf020\\uf020\\uf020\\uf020\\uf020\\uf020\\uf020\\uf020\\uf020\\uf020\\uf020\\uf020\\uf020\\uf020\\uf020\\uf020\\uf020\\uf020\\uf020\\uf020\\uf020\\uf020\\uf020\\uf020\\uf020\\uf020\\uf020\\uf020\\uf020\\uf020\\uf020\\uf020\\uf020\\uf020\\uf020\\uf020\\uf020\\uf020\\uf020\\uf020\\uf020\\uf020\\uf020\\uf020\\uf020\\uf020\\uf020\\uf020\\n12\\uf020Sellers NTD : Repetitive. \\uf020',\n",
       " 'Section 3.12  Legal Compliance; Illegal Payments; Permits ................................................. 29',\n",
       " '(c) If the final judgment of a court of competent jurisdiction declares that any term or \\nprovision of this Section 6.08 is invalid or unenforceable, the parties hereto agree that the court',\n",
       " 'constitute a default under, any Contractual Obligation or Company Plan under which any such \\nperson is now obligated and further not (i) result in any payment or benefit (including severance,',\n",
       " 'from overtime compensation. \\n(n) Except as disclosed on Schedule 3.19(b), during the past seven (7) years, there has',\n",
       " '(c) Absence of Undisclosed Liabilities.  Except as disclosed on Schedule 3.06(c), no \\nAcquired Company has any material Liabilities except for (i) Liabilities set forth on the Audited',\n",
       " 'into by any Seller at Closing, executed by the applicable Seller party thereto; \\n(iii) written resignations, effective as of the Closing Date, of the officers and directors',\n",
       " 'provided for herein and therein. \\nSection 11.06  Counterparts; Facsimile Signature.  This Agreement may be executed in',\n",
       " 'Notwithstanding the previous sentence a party may commence any Action in a court other than \\nthe above-named courts solely for the purpose of enforcing an order or judgment issued by one',\n",
       " '-59- \\n112923184_5 parent of, or holder of any equity interest in, any tier, agent, attorney or representative of the',\n",
       " 'providers of any Acquired Company is terminable at the will of an Acquired Company upon \\nthirty (30) days (or shorter) prior notice, subject to the applicable Legal Requirements and',\n",
       " 'transaction, arrangement or understanding with any Acquired Company (other than payments \\nmade to, and other Compensation provided to, officers and directors (or equivalent) in the',\n",
       " 'Company, or otherwise affecting the rights of any holder of the Equity Interests in any Acquired \\nCompany, (iii) except for the Contemplated Transactions, there is no Contractual Obligation, or',\n",
       " 'or unliquidated, whether directly incurred or consequential, whether due or to become due and \\nwhether or not required under GAAP to be accrued on the financial statements of such Person.',\n",
       " 'related trust, or result in any material Liability to the Acquired Companies.  Each Company Plan, \\nincluding any associated trust or fund, has been administered in accordance with its terms and',\n",
       " 'and operation of the Owned Real Property, (d) covenants, conditions, restrictions, easements, \\nencumbrances and other similar matters of record affecting title to but not adversely affecting the',\n",
       " 'whole or in part of any outstanding indebtedness extended by any of the Acquired Companies to \\nany employee or (vii) limit or restrict any Acquired Company ’s rights to amend or terminate any',\n",
       " 'Representative and its Representatives in their review of the Proposed Final Closing Statement. \\n(c) Dispute Notice.  The Proposed Final Closing Statement (and the proposed final',\n",
       " 'which have or could reasonably be expected to result in any such Action before any \\nGovernmental Authority. \\n(f) The Acquired Companies are, and have been in the past 3 years, in compliance in',\n",
       " 'past practice, and no Party may use the fact of the specification or the inclusion of any such item \\nor matter in any dispute or controversy between the Parties as to whether any item or matter not',\n",
       " 'will constitute but one and the same instrument.  This Agreement will become effective when \\nduly executed and delivered by each party hereto.  Counterpart signature pages to this',\n",
       " '-56- \\n112923184_5 Indemnitees (or their heirs) and shall be binding on all successors and assigns of Buyer and the',\n",
       " 'registration and other such Taxes, and any conveyance fees or recording charges incurred in \\nconnection with the Contemplated Transactions ( “Transfer Taxes ”) will be timely paid by Sellers',\n",
       " 'Seller is duly organized, validly existing and in good standing (if such concept is recognize d) \\nunder the laws of the jurisdiction of its organization.',\n",
       " '(iii) (A) made any declaration or payment of, or set aside funds for, any dividend or \\nother distribution with respect to any of its capital stock or other Equity Interests (other than cash',\n",
       " 'identifying codes of such accounts, safety deposit boxes or such other arrangements maintained \\nby an Acquired Company thereat, and (ii) the names of all Persons authorized to draw on any',\n",
       " 'including without limitation, (v) any reference to “consultant ” will be deemed to be a reference \\nto any independent contractor, (vi) any reference to “$” or “dollars ” means United States dollars',\n",
       " 'share of Common Stock subject to such Option, multiplied by (2 ) 50% of the number of \\nCommon Shares subject to such Vested Option for which such Option shall not',\n",
       " 'engagement of any current or former employee, officer, director, consultant or other service \\nprovider of any Acquired Company who earns or will earn (or prior to such termination, did',\n",
       " 'Agreement shall be deemed to occur at 12:01 a.m. Pacific Standard Time on the Closing Date. \\nSection 2.04  Closing Payments.',\n",
       " 'discrimination, sexual harassment or sexual misconduct, or breach of an Acquired Company \\npolicy relating to the foregoing, in each case involving an Acquired Company or any current or',\n",
       " 'Section 102 be paid to the Section 102 Trustee.',\n",
       " 'are threatened against any Acquired Company; \\n(iii) no Acquired Company has any ongoing obligations pursuant to any Government',\n",
       " 'and is required to so qualify except where the failure to so qualify has not had, and would not \\nreasonably be expected to have, a Material Adverse Effect.  The Company has delivered to the',\n",
       " 'any Acquired Company which Buyer has expressly requested in writing or to which Buyer has \\nexpressly consented in writing; (vi) any failure of the Acquired Companies to meet projections,',\n",
       " 'Common Shares, the “Shares ”); \\nWHEREAS, the holders of outstanding options and warrants to purchase capital stock of',\n",
       " '-57- \\n112923184_5 are, as of the Closing Date, no less favorable than the current terms of employment of each such \\nemployee.',\n",
       " 'and Warrants, and have good and marketable title to such Shares and Warrants, free and clear of \\nall Encumbrances except as are imposed by Buyer.  Except pursuant to this Agreement, there is',\n",
       " 'with the Business without, to the Company ’s Knowledge, any infringement, misappropriation or \\nviolation of the Intellectual Property of others. The Acquired Companies will continue to own or',\n",
       " 'delivered by email prior to the date hereof to the Buyer or their counsel shall be considered to \\nhave been “delivered ” or “made available ” to the Buyer for purposes of this Agreement.',\n",
       " 'Section 4.05  Title.  Such Seller is the record and beneficial owner of the outstanding \\nEquity Interests in the Company set forth opposite such Seller ’s name on Schedule 4.05, and',\n",
       " 'domain taking, whether or not covered by insurance, with respect to any of its material Assets or \\nthe Business or (y) except as contemplated under this Agreement or any Ancillary Agreement,',\n",
       " 'including any associated trust or fund, has been administered in accordance with its terms and \\nany applicable collective bargaining agreements and with applicable Legal Requirements, and',\n",
       " '[R&G Draft 12.__.2021] \\n112923184_5  \\n \\nSTOCK PURCHASE AGREEMENT \\nBY AND AMONG \\n[BUYER], \\n[TARGET COMPANY], \\nTHE SELLERS LISTED ON SCHEDULE I HERETO \\nAND  \\nTHE SELLERS ’ REPRESENTATIVE NAMED HEREIN',\n",
       " 'writing, the plan document together with all amendments thereto, (ii) if the plan has not been \\nreduced to writing, a written summary of all material plan terms, (iii) if applicable, any trust',\n",
       " 'assigns (i) shall consolidate with or merge into any other Person and shall not be the continuing \\nor surviving corporation or entity of such consolidation or merger or (ii) shall transfer all or',\n",
       " 'Real Property Leases, in each case as amended or otherwise modified and in effect, together with \\nextension notices, estoppel certificates and subordination, non-disturbance and attornment',\n",
       " 'required or permitted to be delivered, given or otherwise provided under this Agreement must be \\nin writing and must be delivered personally, delivered by nationally recognized overnight courie r',\n",
       " 'Section 3.15  Environmental Matters. \\n(a) Except as set forth in Schedule 3.15, \\n(i) the Acquired Companies and their Predecessors are, and at all times have been, in',\n",
       " 'award under an offer letter from, Contractual Obligation with or other commitment from the \\nAcquired Companies (which has not expired, been rescinded or rejected), but who have not been',\n",
       " 'respect to Taxes upon any Asset other than Permitted Encumbrances. \\n(b) Each Acquired Company has complied in all material respects with all',\n",
       " 'into or issued by any Governmental Authority with or in respect of any Acquired Company. \\n(e) [Reserved]. \\n(f) Except as set forth in Schedule 3.13(f), no Acquired Company has made any',\n",
       " 'in any manner permitted by Delaware law, (ii) agrees that service of process made in accordance  \\nwith clause (i) or made by registered or certified mail, return receipt requested, at its address',\n",
       " 'the Sellers ’ Representative may provide written notice to the other (the “Dispute Submission \\nNotice ”) that it elects to submit the disputed items to a nationally recognized independent',\n",
       " 'supplemented. \\n“Parent ” as defined in the preamble to this Agreement.   \\n“Parent ’s and Buyer ’s Knowledge, ” “Knowledge of Parent and Buyer ” and similar',\n",
       " 'behalf is required to deduct and withhold with respect to any payments under the Code or any \\nprovision of state, local, provincial or foreign law, unless the applicable Payee (as defined',\n",
       " '(or, where applicable, other Equity Interests) of each Acquired Company is as set forth on \\nSchedule 3.05.  All of the outstanding Equity Interests of the Acquired Companies are held of',\n",
       " 'Preferred Stock Aggregate Price by (b) the Fully-Diluted Common Share Number. \\n “Permits ” means, with respect to any Person, any license, franchise, permit, consent,',\n",
       " 'made hereunder in USD will be calculated based on the Exchange Rate on the most recent \\nBusiness Day preceding the payment date, and the applicable Payee shall bear sole and exclusi ve',\n",
       " 'this Agreement. \\nARTICLE II \\nPURCHASE AND SALE OF SHARES AND WARRANTS; \\nTREATMENT OF OPTIONS; CLOSING. \\nSection 2.01  Purchase and Sale of Shares.  Upon the terms and subject to the conditions',\n",
       " 'trust, right of way, easement, encroachment, servitude, right of first offer or first refusal, buy/sell',\n",
       " 'customer) of any Acquired Company or any Affiliate thereof or (B) limit the freedom of any \\nAcquired Company or any Affiliate thereof to engage in any line of business or compete with \\nany Person;',\n",
       " '-ii- \\n112923184_5 Section 3.19  Labor Matters .................................................................................................. 37',\n",
       " 'event not a threat to the Company. Sellers that are employees are bou nd or will be bound by the terms of their \\nemployment agreement.',\n",
       " 'any employee or (vii) limit or restrict any Acquired Company ’s rights to amend or terminate any \\nCompany Plan on or after the Closing Date.',\n",
       " '(a) Appointment .  Each Seller hereby irrevocably appoints [●] as the sole and \\nexclusive agent, proxy and attorney- in-fact for such Seller for all purposes of this Agreement, the',\n",
       " 'agreement and any other restriction or covenant with respect to, or condition governing the use,',\n",
       " 'with this Agreement or the Contemplated Transactions; \\n(ix) any Contractual Obligation providing for the employment or consultancy or',\n",
       " 'all material respects with all Legal Requirement, Contractual Obligations, and Company Plans \\n\\uf020\\uf020\\uf020\\uf020\\uf020\\uf020\\uf020\\uf020\\uf020\\uf020\\uf020\\uf020\\uf020\\uf020\\uf020\\uf020\\uf020\\uf020\\uf020\\uf020\\uf020\\uf020\\uf020\\uf020\\uf020\\uf020\\uf020\\uf020\\uf020\\uf020\\uf020\\uf020\\uf020\\uf020\\uf020\\uf020\\uf020\\uf020\\uf020\\uf020\\uf020\\uf020\\uf020\\uf020\\uf020\\uf020\\uf020\\uf020\\uf020',\n",
       " 'Except as disclosed on Schedule 3.05:  (i) there are no preemptive rights in respect of any Equity \\nInterests in any Acquired Company, (ii) there are no Encumbrances on, or other Contractual',\n",
       " 'of the Contemplated Transactions (either alone or in combination with any other event), is \\nexpected to conflict with or result in a breach of the terms, conditions, or provisions of, or',\n",
       " 'provider of an Acquired Company or the beneficiaries or dependents of any such Person (each a \\n“Company Plan ”).  With respect to each Company Plan, the Company has delivered to the Buyer',\n",
       " 'Person and (b) any option, warrant, purchase right, conversion right, exchange right or other \\nContractual Obligation which would entitle any other Person to acquire any such interest in such',\n",
       " 'substance reasonable acceptable to Buyer and the Paying Agent, which: (i) exempts Buyer and \\nthe Paying Agent from the duty to withhold Israeli Taxes with respect to such payment to Payee,',\n",
       " 'disclosed in the auditors ’ opinion or notes accompanying the Financials, the Financials \\n(including any notes thereto) (i) were, or will be in the case of the Update Financials, prepared in',\n",
       " 'ARTICLE III REPRESENTATIONS AND WARRANTIES REGARDING THE \\nACQUIRED COMPANIES. ......................................................................................................... 19',\n",
       " 'agreements, custodial agreements, non-standard insurance policies or contracts, administrative \\nagreements and similar agreements, and investment management or investment advisory',\n",
       " ...]"
      ]
     },
     "execution_count": 129,
     "metadata": {},
     "output_type": "execute_result"
    }
   ],
   "source": [
    "retrieved_documents"
   ]
  },
  {
   "cell_type": "code",
   "execution_count": 68,
   "metadata": {},
   "outputs": [],
   "source": [
    "import numpy as np\n",
    "#cross encoder reranker\n",
    "from sentence_transformers import CrossEncoder\n",
    "\n",
    "def reranker(query, retrieved_documents):\n",
    "    cross_encoder = CrossEncoder('cross-encoder/ms-marco-MiniLM-L-6-v2')\n",
    "    query_text = query\n",
    "    pairs = [[query_text, doc.page_content] for doc in retrieved_documents]\n",
    "    \n",
    "    scores = cross_encoder.predict(pairs)\n",
    "    for score in scores:\n",
    "        f\"{score:.2f}\"\n",
    "    ordered_indices = np.argsort(scores)[::-1]\n",
    "    for i in ordered_indices:\n",
    "        f\"{i+1}. {retrieved_documents[i]}\"\n",
    "    top_scored_docs = [retrieved_documents[i] for i in ordered_indices[:15]]\n",
    "\n",
    "    return top_scored_docs"
   ]
  },
  {
   "cell_type": "code",
   "execution_count": 27,
   "metadata": {},
   "outputs": [],
   "source": [
    "def generate_llm_response(question, ranked_docs):\n",
    "        try:\n",
    "            #information = \"\\n\\n\".join([doc.page_content for doc in ranked_docs])\n",
    "\n",
    "            messages = [\n",
    "                {\"role\": \"system\", \"content\": \"You are an AI assistant that provides answers to questions based on the given information.\"},\n",
    "                {\"role\": \"user\", \"content\": f\"Question: {question}. Information: {ranked_docs}\"}\n",
    "            ]\n",
    "\n",
    "            response = openai_client.chat.completions.create(\n",
    "                model=\"gpt-4\",\n",
    "                messages=messages,\n",
    "            )\n",
    "\n",
    "            return response.choices[0].message.content.strip()\n",
    "        except Exception as e:\n",
    "            return f'Error: {str(e)}'  "
   ]
  },
  {
   "cell_type": "code",
   "execution_count": null,
   "metadata": {},
   "outputs": [],
   "source": [
    "query = \"In which street does the Advisor live?\"\n",
    "retrieved_documents = vectordb_answer_question(query, chroma_collection)"
   ]
  },
  {
   "cell_type": "code",
   "execution_count": 78,
   "metadata": {},
   "outputs": [],
   "source": [
    "from openai import ChatCompletion\n",
    "\n",
    "def get_response_stream(question, ranked_docs):\n",
    "    # client = ChatCompletion()\n",
    "    response_stream = openai_client.chat.completions.create(\n",
    "        model=\"gpt-3.5-turbo\",\n",
    "        messages=[{\"role\": \"user\", \"content\": f\"Question: {question}. Information: {ranked_docs}\"}],\n",
    "        temperature=0,\n",
    "        max_tokens=729,\n",
    "        top_p=1,\n",
    "        stream=True,\n",
    "    )\n",
    "    return response_stream\n",
    "\n",
    "import textwrap\n",
    "from IPython.display import display, clear_output, HTML\n",
    "\n",
    "\n",
    "def process_streamed_responses(response_stream):\n",
    "    response_text = \"\"\n",
    "    for chunk in response_stream:\n",
    "        chunk_message = chunk.choices[0].delta.content\n",
    "        if chunk_message is not None:  # Check if chunk_message is not None\n",
    "            response_text += chunk_message\n",
    "        is_complete = chunk.choices[0].finish_reason is not None\n",
    "        wrapped_text = textwrap.fill(response_text, width=80)  # Wrap text at 80 characters\n",
    "        clear_output(wait=True)\n",
    "        display(HTML(f\"<div style='text-align: left;'><pre>{wrapped_text}</pre></div>\"))\n",
    "        if is_complete:\n",
    "            break\n",
    "    return response_text\n",
    "\n",
    "\n",
    "def main(query, ranked_docs):\n",
    "    stream = get_response_stream(query, ranked_docs)\n",
    "    text =  process_streamed_responses(stream)\n",
    "    return text\n",
    "\n",
    "\n",
    "# run_async_in_notebook(main())\n"
   ]
  },
  {
   "cell_type": "code",
   "execution_count": 61,
   "metadata": {},
   "outputs": [],
   "source": [
    "\n",
    "query =\"Who are the parties to the Agreement and what are their defined names?\"\n",
    "res = vector_store.similarity_search(query)"
   ]
  },
  {
   "cell_type": "code",
   "execution_count": 67,
   "metadata": {},
   "outputs": [
    {
     "data": {
      "text/plain": [
       "[Document(metadata={'page_number': 2}, page_content='-  3- \\n \\nconstitute salary payments, and 40% of such payments shall constitute payment by the Company for \\nall other Advisor statutory rights and benefits as employee of the Company throughout the Term. \\nAdvisor further consents that the Compan y may offset any amounts due to him under this Section \\nfrom any amounts payable to Advisor under this Agreement. Advisor shall indemnify the Company \\nfor any loss or expenses incurred by the Company if it were determined that an alleged \\nemployer/employee relationship existed between the Advisor and the Company.  \\n \\n9. Entire Agreement; No Waiver or Assignment : This Agreement together with the Exhibits, which \\nare attached hereto and incorporated herein, set forth the entire Agreement between the pa rties and \\nshall supersede all previous communications and agreements between the parties, either oral or \\nwritten. This Agreement may be modified only by a written amendment executed by both parties. \\nThis Agreement may not be assigned, sold, delegated or transferred in any manner by Advisor for any \\nreason whatsoever. The Company may assign the Agreement to a successor of all or substantially all \\nof its assets or business, provided the assignee has assumed the Company ’s obligations under this \\nAgreement.   \\n \\n10. Governing Law and Jurisdiction :  This Agreement shall be governed by the laws of the State of \\nIsrael, without giving effect to the rules respecting conflicts of laws. The parties consent to the \\nexclusive jurisdiction and venue of Tel Aviv courts for any lawsuit filed arising from or relating to \\nthis Agreement.    \\n \\n11. Notices : Notices under this Agreement shall be delivered to the party ’s email address as follows: \\nCompany: info@cloudcorp.com , Advisor: jackrobinson@gmail.com , or in any the other means with a \\nproof of acceptance by the other party. \\n \\nIN WITNESS WHEREOF the parties have executed this Agreement as of the date first above written. \\n \\n \\n \\nCloud Investments Ltd.    Advisor  \\n \\nBy: ________________________  By:________________________ \\nName: Silvan Joseph    Name: Jack Robinson   \\nTitle: CEO'),\n",
       " Document(metadata={'page_number': 2}, page_content='-  3- \\n \\nconstitute salary payments, and 40% of such payments shall constitute payment by the Company for \\nall other Advisor statutory rights and benefits as employee of the Company throughout the Term. \\nAdvisor further consents that the Compan y may offset any amounts due to him under this Section \\nfrom any amounts payable to Advisor under this Agreement. Advisor shall indemnify the Company \\nfor any loss or expenses incurred by the Company if it were determined that an alleged \\nemployer/employee relationship existed between the Advisor and the Company.  \\n \\n9. Entire Agreement; No Waiver or Assignment : This Agreement together with the Exhibits, which \\nare attached hereto and incorporated herein, set forth the entire Agreement between the pa rties and \\nshall supersede all previous communications and agreements between the parties, either oral or \\nwritten. This Agreement may be modified only by a written amendment executed by both parties. \\nThis Agreement may not be assigned, sold, delegated or transferred in any manner by Advisor for any \\nreason whatsoever. The Company may assign the Agreement to a successor of all or substantially all \\nof its assets or business, provided the assignee has assumed the Company ’s obligations under this \\nAgreement.   \\n \\n10. Governing Law and Jurisdiction :  This Agreement shall be governed by the laws of the State of \\nIsrael, without giving effect to the rules respecting conflicts of laws. The parties consent to the \\nexclusive jurisdiction and venue of Tel Aviv courts for any lawsuit filed arising from or relating to \\nthis Agreement.    \\n \\n11. Notices : Notices under this Agreement shall be delivered to the party ’s email address as follows: \\nCompany: info@cloudcorp.com , Advisor: jackrobinson@gmail.com , or in any the other means with a \\nproof of acceptance by the other party. \\n \\nIN WITNESS WHEREOF the parties have executed this Agreement as of the date first above written. \\n \\n \\n \\nCloud Investments Ltd.    Advisor  \\n \\nBy: ________________________  By:________________________ \\nName: Silvan Joseph    Name: Jack Robinson   \\nTitle: CEO'),\n",
       " Document(metadata={'page_number': 0}, page_content='ADVISORY SERVICES AGREEMENT \\n \\nThis Advisory Services Agreement is entered into as of June 15th, 2023 (the “Effective Date ”), by and \\nbetween Cloud Investments Ltd., ID 51-426526-3, an Israeli company (the \" Company \"), and Mr. Jack \\nRobinson, Passport Number 780055578, residing at 1 Rabin st, Tel Aviv, Israel, Email: \\njackrobinson@gmail.com (\"Advisor \"). \\n \\nWhereas, Advisor has expertise and/or knowledge and/or relationships, which are relevant to the \\nCompany ’s business and the Company has asked Advisor to provide it with certain Advisory \\nservices, as described in this Agreement; and \\nWhereas,  Advisor has agreed to provide the Company with such services, subject to the terms set forth \\nin this Agreement. \\n \\nNOW THEREFORE THE PARTIES AGREE AS FOLLOWS: \\n \\n1. Services:   \\n1.1 Advisor shall provide to the Company, as an independent contractor, software development \\nservices, and / or any other services as agreed by the parties from time to time (the “Services ”). \\nAdvisor shall not appoint any sub-agents or delegates in connection with performance of the \\nServices, nor assign any of his obligations or rights hereunder without obtaining the prior written \\nconsent of the Company.  \\nWithout derogating from the foregoing, the Advisor shall not be required to provide the Services \\nfor a period of eighteen (18) days in each 12-month period.  \\n1.2 In performing the Services, Advisor shall devote his time, know-how, expertise, talent, \\nexperience and best efforts and attention to the provision of the Services, as shall be reasonably \\nrequired by the Company . Advisor shall render the Services in a diligent manner and at a high \\nprofessional standard for the benefit of the Company and shall perform and discharge well and \\nfaithfully, with devotion, honesty and fidelity, his obligations hereunder.  \\n1.3 Advisor further agrees and undertakes to (i) comply with all the Company\\'s policies, procedures \\nand objectives, as in effect from time to time; (ii) adhere to any applicable law or provision, \\npertaining to his services; (iii) not take any action with the intention that the same will cause \\nmaterial damage to the good name of the Company; (iv) keep the contents of this Agreement \\nconfidential and not to disclose the existence or contents of this Agreement to any third party \\nwithout the prior written consent of the Company. \\n \\n2. Time Tracking:  Advisor shall provide the Company with a written report, in a format acceptable by \\nthe Company, setting forth the number of hours in which he provided the Services, on a daily basis, as \\nwell as an aggregated monthly report at the last day of each calendar month. \\n3. No Conflicts: Advisor represents that there is no contractual or other legal restriction preventing or \\nlimiting him/her from entering into this Agreement or performing any of his/her obligations \\nhereunder. Advisor shall immediately and without delay inform the Company of any affairs and/or \\nmatters that might constitute a conflict of interest with his/her services to Company and/or the \\ninterests of the Company. Advisor agrees to indemnify, defend and hold harmless the Company and \\nits directors, officers and employees against all claims, liabilities, and costs, including reasonable \\nattorneys\\' fees in connection with any breach by Advisor, of any obligations pursuant to a prior or \\nexisting engagement with any other third party, including without limitation other employers or \\nclients.'),\n",
       " Document(metadata={'page_number': 0}, page_content='ADVISORY SERVICES AGREEMENT \\n \\nThis Advisory Services Agreement is entered into as of June 15th, 2023 (the “Effective Date ”), by and \\nbetween Cloud Investments Ltd., ID 51-426526-3, an Israeli company (the \" Company \"), and Mr. Jack \\nRobinson, Passport Number 780055578, residing at 1 Rabin st, Tel Aviv, Israel, Email: \\njackrobinson@gmail.com (\"Advisor \"). \\n \\nWhereas, Advisor has expertise and/or knowledge and/or relationships, which are relevant to the \\nCompany ’s business and the Company has asked Advisor to provide it with certain Advisory \\nservices, as described in this Agreement; and \\nWhereas,  Advisor has agreed to provide the Company with such services, subject to the terms set forth \\nin this Agreement. \\n \\nNOW THEREFORE THE PARTIES AGREE AS FOLLOWS: \\n \\n1. Services:   \\n1.1 Advisor shall provide to the Company, as an independent contractor, software development \\nservices, and / or any other services as agreed by the parties from time to time (the “Services ”). \\nAdvisor shall not appoint any sub-agents or delegates in connection with performance of the \\nServices, nor assign any of his obligations or rights hereunder without obtaining the prior written \\nconsent of the Company.  \\nWithout derogating from the foregoing, the Advisor shall not be required to provide the Services \\nfor a period of eighteen (18) days in each 12-month period.  \\n1.2 In performing the Services, Advisor shall devote his time, know-how, expertise, talent, \\nexperience and best efforts and attention to the provision of the Services, as shall be reasonably \\nrequired by the Company . Advisor shall render the Services in a diligent manner and at a high \\nprofessional standard for the benefit of the Company and shall perform and discharge well and \\nfaithfully, with devotion, honesty and fidelity, his obligations hereunder.  \\n1.3 Advisor further agrees and undertakes to (i) comply with all the Company\\'s policies, procedures \\nand objectives, as in effect from time to time; (ii) adhere to any applicable law or provision, \\npertaining to his services; (iii) not take any action with the intention that the same will cause \\nmaterial damage to the good name of the Company; (iv) keep the contents of this Agreement \\nconfidential and not to disclose the existence or contents of this Agreement to any third party \\nwithout the prior written consent of the Company. \\n \\n2. Time Tracking:  Advisor shall provide the Company with a written report, in a format acceptable by \\nthe Company, setting forth the number of hours in which he provided the Services, on a daily basis, as \\nwell as an aggregated monthly report at the last day of each calendar month. \\n3. No Conflicts: Advisor represents that there is no contractual or other legal restriction preventing or \\nlimiting him/her from entering into this Agreement or performing any of his/her obligations \\nhereunder. Advisor shall immediately and without delay inform the Company of any affairs and/or \\nmatters that might constitute a conflict of interest with his/her services to Company and/or the \\ninterests of the Company. Advisor agrees to indemnify, defend and hold harmless the Company and \\nits directors, officers and employees against all claims, liabilities, and costs, including reasonable \\nattorneys\\' fees in connection with any breach by Advisor, of any obligations pursuant to a prior or \\nexisting engagement with any other third party, including without limitation other employers or \\nclients.')]"
      ]
     },
     "execution_count": 67,
     "metadata": {},
     "output_type": "execute_result"
    }
   ],
   "source": [
    "res"
   ]
  },
  {
   "cell_type": "code",
   "execution_count": 80,
   "metadata": {},
   "outputs": [
    {
     "data": {
      "text/html": [
       "<div style='text-align: left;'><pre>The parties to the Agreement are Cloud Investments Ltd. and Mr. Jack Robinson.\n",
       "Their defined names are Silvan Joseph (CEO of Cloud Investments Ltd.) and Jack\n",
       "Robinson (Advisor).</pre></div>"
      ],
      "text/plain": [
       "<IPython.core.display.HTML object>"
      ]
     },
     "metadata": {},
     "output_type": "display_data"
    },
    {
     "name": "stdout",
     "output_type": "stream",
     "text": [
      "The parties to the Agreement are Cloud Investments Ltd. and Mr. Jack Robinson. Their defined names are Silvan Joseph (CEO of Cloud Investments Ltd.) and Jack Robinson (Advisor).\n"
     ]
    }
   ],
   "source": [
    "# query = \"How much is the escrow amount?\"\n",
    "# from utils.reranking import CrossEncoderReranker\n",
    "# top_docs = cross_encoder_reranker(query, retrieved_documents)\n",
    "top_docs = reranker(query, res)\n",
    "# query =\"Who are the parties to the Agreement and what are their defined names?\"\n",
    "\n",
    "output_answer = main(query, top_docs)\n",
    "# output_answer = generate_llm_response(query, top_docs)\n",
    "print(output_answer)"
   ]
  },
  {
   "cell_type": "code",
   "execution_count": 113,
   "metadata": {},
   "outputs": [
    {
     "data": {
      "text/plain": [
       "122"
      ]
     },
     "execution_count": 113,
     "metadata": {},
     "output_type": "execute_result"
    }
   ],
   "source": [
    "len(retrieved_documents)"
   ]
  },
  {
   "cell_type": "code",
   "execution_count": 71,
   "metadata": {},
   "outputs": [
    {
     "data": {
      "text/plain": [
       "['##mation of the contemplated transactions or result in a liability of the acquired companies or buyer. section 4. 06 no brokers. except as disclosed in schedule 4. 06, such seller has no liability that is or expected to be borne by any acquired company or the buyer to any broker, finder or agent with respect to the contemplated transactions, and such seller agrees to satisfy in full any liability required to be disclosed on schedule 4. 06. article v representations and warranties of the buyer. the buyer represents and warrants to the sellers that : section 5. 01 organization. the buyer is duly organized, validly existing and in good standing under the laws of the jurisdiction of its organization.',\n",
       " '......... 38 article iv individual representations and warranties of the sellers...................................................................................................................................... 38 section 4. 01 organization................................................................................................',\n",
       " '##crow agreement and exercise any and all rights that the sellers or the sellers ’ representative are permitted or required to do or exercise under this agreement or the escrow agreement. ( b ) liability. the sellers ’ representative shall not be held liable by any of the sellers for actions or omissions in exercising or failing to exercise all or any of the power a nd authority of the sellers ’ representative pursuant to this agreement, except in the case of the sellers ’ representative ’ s gross negligence, bad faith or willful misconduct. the sellers ’ representative shall be entitled to rely on the advice of counsel, public accountants or other independent experts that it reasonably determines to be experienced in the matter at issue, and will not be liable to any seller for any action taken or omitted to be taken in good faith based on such advice. each seller will severally ( and not jointly ) indemnify ( in accordance with its pro',\n",
       " 'generally available to, or known by, the public ( other than as a result of disclosure in violation hereof by such seller ), ( ii ) independently developed without reference to such information or ( iii ) provided by a third party not known to such seller to be under an obligation of confidentiality with respect to such information ; provided, further, that the provisions of this section 6. 05 ( a ) will not prohibit any retention of copies of records or disclosure ( a ) required by any applicable legal requirement so long as reasonable prior notice is given to parent and the company of such disclosure and a reasonable opportunity is afforded parent and the company to contest the same, ( b ) made to the seller ’ s legal and / or financial advisors, or ( c ) made in connection with the enforcement of any right or remedy relating to this agreement or the contemplated transactions. each seller agrees that it shall be responsible for any breach or violation of the provisions of this section 6. 05 ( a ) by any of its affiliates or its or its affiliates ’ representatives. ( b ) notwithstanding the foregoing, each of the parties hereto and their respective representatives may disclose to any and all persons, without limitation of any kind, the tax treatment and tax structure of the contemplated transactions and all materials of',\n",
       " 'vii ) events, changes, facts, conditions, circumstances or occurrences resulting from the announcement, pendency or the existence of, or compliance ( other than compliance with the obligation to operate in the ordinary course of business ) with, this agreement and the contemplated transactions ( provided that this clause ( viii ) shall not diminish the effect of, and shall be disregarded for purposes of, the representations and warranties contained in sections 3. 03, 3. 04, 4. 03 and 4. 04 and any other representations and warranties relating to required consents or approvals, change in control provisions or similar provisions granting rights of acceleration, termination, modification or waiver based upon the entering into of this agreement or the consummation of the contemplated transactions ). “ off - the - shelf softwa re ” means generally available commercial software obtained from a third party on general commercial terms that ( i ) continues to be widely available on such commercial terms as of the closing date, ( ii ) involves license, maintenance, support, and other fees less than $ [ ● ] per year in the aggregate, ( iii ) is not material to the business, ( iv ) is not distributed with, incorporated in, or necessary for use of, any product or service of an acquired',\n",
       " '- 51 - 112923184 _ 5 ( a ) assuming the taking of all necessary action by ( including the obtaining of each necessary authorization, consent or approval ) or in respect of, and the making of all filings with, governmental authorities, in each case, as disclosed on schedule 4. 03, violate any provision of any legal requirement applicable to such seller ; or ( b ) conflict with or result in a breach or violation of, or constitute a default ( or an event which, with notice or lapse of time or both, would constitute a default ) under, or result in termination of, or accelerate the performance required by, or result in a right of termination or acceleration under, or require any action by ( including any authorization, consent or approval ) or notice to any person, or result in the creation of any encumbrance upon any shares, options or warrants of such seller under, any of the terms, conditions or provisions of ( i ) any government order applicable to or otherwise affecting such seller or its assets or properties, ( ii ) any material contractual obligation of such seller, or ( iii ) the organizational documents of such seller ( if such seller is not an individual ). section 4. 05 title. such seller is the record and',\n",
       " \"practice for purposes of this agreement. in no event will the listing of any item or matter in any schedule be deemed or interpreted to broaden or otherwise amplify the representations, warranties, covenants, or agreements contained in this agreement. summaries or descriptions of contracts or other documents contained in the schedules are qualified in their entirely by the contracts or documents themselves. section 11. 14 legal counsel ; consent and waiver. in any dispute or action arising out of or relating to this agreement in connection with the contemplated transactions following the closing, the sellers will have the right, at its election, to retain naschitz, brandes, amir & co. ( “ nba ” ) to represent it in such dispute or action arising out of or relating to this agreement or, even if such representation is adverse to buyer, the acquired companies or its affiliates. buyer, for itself, the acquired companies and its and their affiliates, and for its, the acquired companies ’ and its affiliates'respective successors and assigns, hereby ( a ) consents to any such representation in any such dispute or action arising out of or relating to this agreement or in connection with the contemplated transactions and ( b ) waives any actual or potential conflict arising from any such representation, regardless of the\",\n",
       " 'that is valid and enforceable and that comes closest to expressing the intention of the invalid or unenforceable term or provision, and this agreement will be enforceable as so modified after the expiration of the time within which the judgment may be appealed. further, each seller agrees that, ( i ) were such seller to breach any of the covenants contained in this section 6. 08, the damage to the buyer and the acquired companies may be irreparable, ( ii ) the buyer, in addition to any other remedies available to it, shall be entitled to seek preliminary and permanent injunctive relief against any breach or threatened breach by such seller of any such covenants togeth er with an award of its reasonable attorneys ’ fees incurred in enforcing its rights hereunder, ( iii ) the restricted period applicable to a seller shall be tolled, and shall not run, during the period of any breach by such seller of this section 6. 08, and ( iv ) no breach of any provision of this agreement shall operate to extinguish a seller ’ s obligation to comply with this section 6. 05. section 6. 09 d & o tail. ( a ) from and after the closing date, buyer shall cause the acquired companies to fulfill',\n",
       " 'against whom the waiver is to be effective. no waiver by any party of any breach or violation of, default under or inaccuracy in any representation, warrant y or covenant hereunder, whether intentional or not, will be deemed to extend to any prior or subsequent breach or violation of, default under, or inaccuracy in, any such representation, warranty or covenant hereunder or affect in any way any rights arising by virtue of any prior or subsequent such occurrence. no delay or omission on the part of any party in exercising an y right, power or remedy under this agreement will operate as a waiver thereof.',\n",
       " '##ourse against the other party or any of its affiliates or its or their respective representatives with respect to such representations, warranties, covenants and agreements. the covenants and agreements contained in this agreement that are to be performed after the closing will survive the closing in accordance with their terms. notwithstanding anything in this agreement ( including in this section 10. 01 or section 10. 02 ) or otherwise to the contrary, nothing will limit or reduce buyer ’ s ability to make claims or recover or receive any remedy from any person with re spect to claims arising from fraud committed by such person. section 10. 02 recourse limitations. ( a ) other than claims arising from fraud committed by the person, no director, officer, employee, incorporator, manager, member, partner, stockholder, shareholder, affiliate, 20 note to draft : subject to finalization of transaction structure.',\n",
       " 'made available to the buyer in the “ virtual data room ” created for purposes of the sale of the acquired companies as such data room existed as of one business day prior to the date hereof or which was actually physically delivered or delivered by email prior to the date hereof to the buyer or their counsel shall be considered to have been “ delivered ” or “ made available ” to the buyer for purposes of this agreement. ( e ) the parties intend that each representation, warranty and covenant contained herein will have independent significance. if any party has breached or violated, or if there is an inaccuracy in, any representation, warranty or covenant contained herein in any respect, the fa ct that there exists another representation, warranty or covenant relating to the same subject matter ( regardless of the relative levels of specificity ) which the party has not breached or violated, or in respect of which there is not an inaccuracy, will not detract from or mitigate the fact that the party has breached or violated, or there is an inaccuracy in, the first representation, warranty or covenant. ( f ) unless the context clearly requires otherwise, when used herein “ or ” shall not be exclusive ( i. e., “',\n",
       " '- 62 - 112923184 _ 5 rata percentage ) the sellers ’ representative from any losses arising out of its serving as the sellers ’ representative hereunder, except for losses arising out of or caused by the sellers ’ representative ’ s gross negligence, bad faith or willful misconduct. the sellers ’ representative is serving in its capacity as such solely for purposes of administrative convenience, and is not personally liable in such capacity for any of the obligations of the sellers hereunder, and the buyer agrees that it will not look to the personal assets of the sellers ’ representative, acting in such capacity, for the satisfaction of any obligations to be performed by the sellers hereunde r. ( c ) reliance on appointment ; successor sellers ’ representative. the buyer may rely on the appointment and authority of the sellers ’ representative granted pursuant to this section 11. 04 until receipt of written notice of the appointment of a successor sellers ’ representative made in accordance with this section 11. 04. in so doing, the buyer may rely on any and all actions taken by and decisions of the sellers ’ representative under this agreement and the escrow agreement notwithstanding any dispute or disagreement among any of the sellers or the sellers ’ representative with respect to any such action or decision without any liability to, or obligation to',\n",
       " '- 50 - 112923184 _ 5 immediately after the closing continue to have coverage under all of the liability policies with respect to events occurring prior to the closing. section 3. 22 no brokers. no acquired company has any liability of any kind to, or is subject to any claim of, any broker, finder or agent in connection with the contemplated transactions other than those which will be borne by the sellers. section 3. 23 full disclosure. the acquired companies have provided the buyer with all information under their control the buyer has requested ( in writing ). neither this agreement ( including the schedules hereto ) nor any certificates made or delivered in connection herewith contains any untrue statement of a material fact or, to company ’ s knowledge, omits to state a material fact necessary to make the statements herein or therein not misleading, in view of the circumstances in which they were made. article iv individual representations and warranties of the sellers. each seller severally, and not jointly, hereby represents and warrants to the buyer, solely as to such seller, that : section 4. 01 organization. in the case of each seller that is not an individual, such seller is duly organized, validly existing and in good standing ( if such concept',\n",
       " 'inquire of, any seller, the sellers ’ representative or any other person. any decision, act, consent or instruction of the sellers ’ representative shall constitute a decision of all the sellers and shall be final and binding upon each of the sellers. at any time after the closing, with or without cause, by a written instrument that is signed in writing by holders of at least a majority - in - interest of the sellers ( determined by reference to their respective pro rata percentages ) and delivered to parent, the sellers may remove and designate a successor sellers ’ representative ; provided, that such successor sellers ’ representative must be reasonably acceptable to parent. if the sellers ’ representative shall at any time resign or otherwise cease to function in its capacity as such for any reason whatsoever, and no successor that is reasonably acceptable to parent is appointed by such holders of a majority - in - interest of the sellers within ten ( 10 ) business days, then parent shall have the right to appoint another seller to act as the replacement sellers ’ representative who shall serve as described in this agreement and, under such circumstances, the buyer shall be entitled to rely on any and all actions taken and decisions made by such replacement sellers ’ representative. section 11. 05 entire agreement. this agreement, together with the other',\n",
       " 'the provisions of applicable legal requirement, and expressly consents that this release will be given full force and effect according to each and all of its express terms and provisions, including those related to unknown and unsuspected claims, demands and causes of action, if any, as those relating to any other claims, demands and causes of action hereinabove specified, but only to the extent such section is applicable to releases such as this section 6. 07. section 6. 08 nonsolicitation. ( a ) [ reserved ] 19 ( b ) for a period of 12 months from and after the closing date ( the “ restricted period ” ), the sellers shall not, and shall not permit, cause or encourage any of their affiliates to, ( i ) solicit, lure or entice away, or in any other manner persuade or attempt to persuade, any person who is an employee or consultant of any of the acquired companies as of the closing date to leave the employ of, or otherwise terminate or diminish his or her relationship with, any 19 seller ntd : most sellers are financial investors that will not agree to limit their inves tments and are in any event not a threat to the company. sellers that are employees are bou n']"
      ]
     },
     "execution_count": 71,
     "metadata": {},
     "output_type": "execute_result"
    }
   ],
   "source": [
    "top_docs"
   ]
  },
  {
   "cell_type": "code",
   "execution_count": null,
   "metadata": {},
   "outputs": [],
   "source": [
    "import pandas as pd\n",
    "import pprint\n",
    "evaluation = pd.read_csv('../data/RaptorQA.csv')\n",
    "\n",
    "answers = []\n",
    "contexts = []\n",
    "for question in evaluation['question']:\n",
    "    docs = reranker(question)\n",
    "    answer = chom.openai_model_answer(query=question, retrieved_documents=docs)\n",
    "    pprint.pp(answer)\n",
    "    answers.append(answer)\n",
    "    \n",
    "    context = [doc for doc in docs]\n",
    "    contexts.append(context)\n",
    "\n",
    "evaluation['answer'] = answers\n",
    "evaluation['contexts'] = contexts\n",
    "# evaluation.head()\n",
    "evaluation.to_csv('../data/updated_raptor_crossendoderReranker_evaluation.csv', index=False)"
   ]
  },
  {
   "cell_type": "markdown",
   "metadata": {},
   "source": [
    "# UMAP"
   ]
  },
  {
   "cell_type": "code",
   "execution_count": null,
   "metadata": {},
   "outputs": [],
   "source": [
    "# !pip install umap-learn"
   ]
  },
  {
   "cell_type": "code",
   "execution_count": null,
   "metadata": {},
   "outputs": [],
   "source": [
    "import umap\n",
    "import numpy as np\n",
    "from tqdm import tqdm\n",
    "\n",
    "embeddings = chroma_collection.get(include=['embeddings'])['embeddings']\n",
    "umap_transform = umap.UMAP(random_state=0, transform_seed=0).fit(embeddings)"
   ]
  },
  {
   "cell_type": "code",
   "execution_count": null,
   "metadata": {},
   "outputs": [],
   "source": [
    "def project_embeddings(embeddings, umap_transform):\n",
    "    umap_embeddings = np.empty((len(embeddings),2))\n",
    "    for i, embedding in enumerate(tqdm(embeddings)): \n",
    "        umap_embeddings[i] = umap_transform.transform([embedding])\n",
    "    return umap_embeddings   "
   ]
  },
  {
   "cell_type": "code",
   "execution_count": null,
   "metadata": {},
   "outputs": [
    {
     "name": "stderr",
     "output_type": "stream",
     "text": [
      "100%|██████████| 17/17 [00:10<00:00,  1.64it/s]\n"
     ]
    }
   ],
   "source": [
    "projected_dataset_embeddings = project_embeddings(embeddings, umap_transform)"
   ]
  },
  {
   "cell_type": "code",
   "execution_count": null,
   "metadata": {},
   "outputs": [
    {
     "data": {
      "text/plain": [
       "(-4.462840829417109,\n",
       " 0.3433709111064672,\n",
       " 14.068113040924072,\n",
       " 19.118206310272218)"
      ]
     },
     "execution_count": 99,
     "metadata": {},
     "output_type": "execute_result"
    },
    {
     "data": {
      "image/png": "[encoded data removed]",
      "text/plain": [
       "<Figure size 640x480 with 1 Axes>"
      ]
     },
     "metadata": {},
     "output_type": "display_data"
    }
   ],
   "source": [
    "plt.figure()\n",
    "plt.scatter(projected_dataset_embeddings[:, 0], projected_dataset_embeddings[:, 1], s=10)\n",
    "plt.gca().set_aspect('equal', 'datalim')\n",
    "plt.title('Projected Embeddings')\n",
    "plt.axis('off')"
   ]
  },
  {
   "cell_type": "markdown",
   "metadata": {},
   "source": [
    "# Relevancy and Distraction"
   ]
  },
  {
   "cell_type": "code",
   "execution_count": null,
   "metadata": {},
   "outputs": [
    {
     "name": "stdout",
     "output_type": "stream",
     "text": [
      "providing the company a prompt written notice and subject to promptl y cooperate with the company in seeking a protective order. 3. safeguard : the advisor shall safeguard the confidential information, keep it in strict confidence and shall not disclose it to any third party without the prior written consent of the company. 4. ip : any work product, upon creation, shall be fully and exclusivel y owned by the company. the advisor, immediately upon company ’ s request, shall sign any document and / or perform any action neede d to formalize such ownership. the advisor shall not obtain any righ ts in the work product, including moral rights and / or rights for royalties or ot her consideration under any applicable law ( including section 134 of the israeli patent law – 1967 if applicable ), and shall not be entitled to any compe nsation with respect to the services, which was not specifically agreed, in writing, between the advisor and the comp any.\n",
      "\n",
      "7. third parties : the advisor represents that the performance of the services and the terms of this undertaking, do not and will not breach any right, contractual or other, of any employer, customer or other third party. advisor acknowledges that the company is relying upon the truthfulness and accuracy of such representations in engaging with the advisor. advisor specifically undertakes not to use any proprietary and / or confidential information belonging to the advisor and / or any third party while performing the services and in case any advisor proprietary or confidential information is used, such information will be automatically assigned to the company and become its fu ll and exclusive property. 8. jurisdiction : this undertaking shall be governed by and construed in accordance with the laws of the state of israel, without giving effect\n",
      "\n",
      "5. non - compete : during the term of engagement with the company and for a period of 12 months thereafter, advisor shall not be involved, as an employee, owner, contractor or otherwise, in any business, which competes with the company ’ s business, and shall not solicit and / or hire any employee and / or service provider of the company, without the prior written consent of the company. 6. personnel : the advisor may provide the services only directly or through employees, contractors or agents ( “ personnel ” ), which were specifically approved by the company, and have committed in writ ing to confidentiality and ownership rights towards the advisor and / or the company, in a form restrictive enough to allow advisor to comply and enforce the commitments under this undertaking ( “ authorized personnel ” ). without limiting the foregoing, the advisor is liable hereunder for any breach of this undertaking by any advisor personne l.\n",
      "\n",
      "confidentiality, non - competition and ip ownership undertaking in the form attached hereto as exhibit a. 8. relationship of the parties ; indemnification : the sole relationship between the company and the advisor shall be that of independent contractors. advisor shall not be deemed to be, nor treated by the company as, an employee of the company. advisor shall not receive nor be entitled to overtime pay, insurance, paid vacation, severance payments or similar fringe or employment benefits from the company. without derogating from the above, if it is adjudicated or otherwise determined by any governmental authority that the advisor and / or anyone on advisor's behalf, is, regardless of the terms of this agreement, an employee of the company, then payments to advisor hereunder shall be reduced effective retroactively as of the beginning of the term so that 60 % of such payments sha ll\n",
      "\n",
      "this agreement may not be assigned, sold, delegated or transferred in any manner by advisor for any reason whatsoever. the company may assign the agreement to a successor of all or substantially all of its assets or business, provided the assignee has assumed the company ’ s obligations under this agreement. 10. governing law and jurisdiction : this agreement shall be governed by the laws of the state of israel, without giving effect to the rules respecting conflicts of laws. the parties consent to the exclusive jurisdiction and venue of tel aviv courts for any lawsuit filed arising from or relating to this agreement. 11. notices : notices under this agreement shall be delivered to the party ’ s email address as follows : company : info @ cloudcorp. com, advisor : jackrobinson @ gmail. com, or in any the other means with a proof of acceptance by the other party. in witness whereof the parties have executed this agreement as of the date first above written.\n",
      "\n"
     ]
    }
   ],
   "source": [
    "query = \"Under what circumstances and to what extent the Sellers are responsible for a breach of representations and warranties?\"\n",
    "\n",
    "results = chroma_collection.query(query_texts=query, n_results=5, include=['documents', 'embeddings'])\n",
    "\n",
    "retrieved_documents = results['documents'][0]\n",
    "\n",
    "for document in results['documents'][0]:\n",
    "    print(document)\n",
    "    print('')"
   ]
  },
  {
   "cell_type": "code",
   "execution_count": null,
   "metadata": {},
   "outputs": [
    {
     "name": "stdout",
     "output_type": "stream",
     "text": [
      "Sellers are responsible for breach of representations and warranties if they fail to provide prompt written notices and cooperate to seek protective orders as per agreement terms.\n"
     ]
    }
   ],
   "source": [
    "output_answer = chom.openai_model_answer(query=query, retrieved_documents=retrieved_documents)\n",
    "print(output_answer)"
   ]
  },
  {
   "cell_type": "code",
   "execution_count": null,
   "metadata": {},
   "outputs": [
    {
     "name": "stderr",
     "output_type": "stream",
     "text": [
      "100%|██████████| 1/1 [00:00<00:00,  1.70it/s]\n",
      "100%|██████████| 5/5 [00:03<00:00,  1.61it/s]\n"
     ]
    }
   ],
   "source": [
    "query_embedding = embedding_function([query])[0]\n",
    "retrieved_embeddings = results['embeddings'][0]\n",
    "\n",
    "projected_query_embedding = project_embeddings([query_embedding], umap_transform)\n",
    "projected_retrieved_embeddings = project_embeddings(retrieved_embeddings, umap_transform)"
   ]
  },
  {
   "cell_type": "code",
   "execution_count": null,
   "metadata": {},
   "outputs": [
    {
     "data": {
      "text/plain": [
       "(-4.462840829417109,\n",
       " 0.3433709111064672,\n",
       " 14.068113040924072,\n",
       " 19.118206310272218)"
      ]
     },
     "execution_count": 103,
     "metadata": {},
     "output_type": "execute_result"
    },
    {
     "data": {
      "image/png": "[encoded data removed]",
      "text/plain": [
       "<Figure size 640x480 with 1 Axes>"
      ]
     },
     "metadata": {},
     "output_type": "display_data"
    }
   ],
   "source": [
    "# Plot the projected query and retrieved documents in the embedding space\n",
    "plt.figure()\n",
    "plt.scatter(projected_dataset_embeddings[:, 0], projected_dataset_embeddings[:, 1], s=10, color='gray')\n",
    "plt.scatter(projected_query_embedding[:, 0], projected_query_embedding[:, 1], s=150, marker='X', color='r')\n",
    "plt.scatter(projected_retrieved_embeddings[:, 0], projected_retrieved_embeddings[:, 1], s=100, facecolors='none', edgecolors='g')\n",
    "\n",
    "plt.gca().set_aspect('equal', 'datalim')\n",
    "plt.title(f'{query}')\n",
    "plt.axis('off')"
   ]
  },
  {
   "cell_type": "code",
   "execution_count": null,
   "metadata": {},
   "outputs": [
    {
     "name": "stdout",
     "output_type": "stream",
     "text": [
      "- 2 - 4. term : the term of this agreement shall commence on the effective date and shall continue until terminated in accordance with the provisions herein ( the \" term \" ). 5. termination : either party, at any given time, may terminate this agreement, for any reason whatsoever, with or without cause, upon fourteen ( 14 ) days ’ prior written notice. notwithstanding the above, the company may terminate this agreement immediately and without prior notice if advisor refuses or is unable to perform the services, or is in breach of any provision of this agreement. 6. compensation : 6. 1 as full and sole consideration for the services, and subject to the performance of the services, the company shall pay the advisor, against an invoice provided to the company by advisor, hourly fees at a rate of usd 9 ( nine ) per billable hour as defined below, limited to a maximum of usd 1, 500 per month ( the \" fees \" ). in addition, the company shall pay the advisor usd 100\n",
      "\n",
      "this agreement may not be assigned, sold, delegated or transferred in any manner by advisor for any reason whatsoever. the company may assign the agreement to a successor of all or substantially all of its assets or business, provided the assignee has assumed the company ’ s obligations under this agreement. 10. governing law and jurisdiction : this agreement shall be governed by the laws of the state of israel, without giving effect to the rules respecting conflicts of laws. the parties consent to the exclusive jurisdiction and venue of tel aviv courts for any lawsuit filed arising from or relating to this agreement. 11. notices : notices under this agreement shall be delivered to the party ’ s email address as follows : company : info @ cloudcorp. com, advisor : jackrobinson @ gmail. com, or in any the other means with a proof of acceptance by the other party. in witness whereof the parties have executed this agreement as of the date first above written.\n",
      "\n",
      "- 3 - constitute salary payments, and 40 % of such payments shall constitute payment by the company for all other advisor statutory rights and benefits as employee of the company throughout the term. advisor further consents that the compan y may offset any amounts due to him under this section from any amounts payable to advisor under this agreement. advisor shall indemnify the company for any loss or expenses incurred by the company if it were determined that an alleged employer / employee relationship existed between the advisor and the company. 9. entire agreement ; no waiver or assignment : this agreement together with the exhibits, which are attached hereto and incorporated herein, set forth the entire agreement between the pa rties and shall supersede all previous communications and agreements between the parties, either oral or written. this agreement may be modified only by a written amendment executed by both parties.\n",
      "\n",
      "subject to company's prior written consent for each specific expense, before advisor incurs such expenses. as a condition to reimbursement, advisor shall provide the company with copies of all invoices, receipts and other evidence of expenditures as required by company policy. 6. 4 advisor shall be solely responsible for any income taxes or other assessments made or imposed by any governmental authority on advisor with respect to the services rendered and the compensation received hereunder, and any and all expenses and costs of himself, employees, agents and representatives, including, without limitation, any salary, overtime, severance or social benefits payable thereto, and marketing costs incurred in connection with the performance of obligations hereunder. 7. confidentiality, non - competition and ip ownership undertaking : in connection with the performance of advisor ’ s obligations under this agreement, the advisor shall execute a\n",
      "\n",
      "per month to finance a workspace for the advisor, as long as the advisor actually hires a professional workspace ( the “ workspace expense ” ). advisor will not be entitled to any additional fees or expense reimbursement whatsoever, except as expressly provided for in this agreement. billable hour : net time devoted to the provisioning of the services, without calculating meals, travels or any other overhead time borne by the advisor. 6. 2 the fees and the workspace expense for each month shall be payable by no later than ten ( 10 ) days from the beginning of the following month, against receipt by the company of a duly issued tax invoice. 6. 3 in addition, the company shall reimburse advisor for any reasonable and actual expenses incurred by the advisor in connection with the performance of the services, all in accordance with the company ’ s policies as determined by the board of directors from time to time, and\n",
      "\n"
     ]
    }
   ],
   "source": [
    "query = \"How much is the escrow amount in value?\"\n",
    "results = chroma_collection.query(query_texts=query, n_results=5, include=['documents', 'embeddings'])\n",
    "\n",
    "retrieved_documents = results['documents'][0]\n",
    "\n",
    "for document in results['documents'][0]:\n",
    "    print(document)\n",
    "    print('')"
   ]
  },
  {
   "cell_type": "code",
   "execution_count": null,
   "metadata": {},
   "outputs": [
    {
     "name": "stdout",
     "output_type": "stream",
     "text": [
      "The value of the escrow amount is not provided in the information given.\n"
     ]
    }
   ],
   "source": [
    "output_answer = chom.openai_model_answer(query=query, retrieved_documents=retrieved_documents)\n",
    "print(output_answer)"
   ]
  },
  {
   "cell_type": "code",
   "execution_count": null,
   "metadata": {},
   "outputs": [
    {
     "name": "stderr",
     "output_type": "stream",
     "text": [
      "100%|██████████| 1/1 [00:00<00:00,  1.71it/s]\n",
      "100%|██████████| 5/5 [00:03<00:00,  1.63it/s]\n"
     ]
    }
   ],
   "source": [
    "query_embedding = embedding_function([query])[0]\n",
    "retrieved_embeddings = results['embeddings'][0]\n",
    "\n",
    "projected_query_embedding = project_embeddings([query_embedding], umap_transform)\n",
    "projected_retrieved_embeddings = project_embeddings(retrieved_embeddings, umap_transform)"
   ]
  },
  {
   "cell_type": "code",
   "execution_count": null,
   "metadata": {},
   "outputs": [
    {
     "data": {
      "text/plain": [
       "(-4.462840829417109,\n",
       " 0.3433709111064672,\n",
       " 14.068113040924072,\n",
       " 19.118206310272218)"
      ]
     },
     "execution_count": 107,
     "metadata": {},
     "output_type": "execute_result"
    },
    {
     "data": {
      "image/png": "[encoded data removed]",
      "text/plain": [
       "<Figure size 640x480 with 1 Axes>"
      ]
     },
     "metadata": {},
     "output_type": "display_data"
    }
   ],
   "source": [
    "# Plot the projected query and retrieved documents in the embedding space\n",
    "plt.figure()\n",
    "plt.scatter(projected_dataset_embeddings[:, 0], projected_dataset_embeddings[:, 1], s=10, color='gray')\n",
    "plt.scatter(projected_query_embedding[:, 0], projected_query_embedding[:, 1], s=150, marker='X', color='r')\n",
    "plt.scatter(projected_retrieved_embeddings[:, 0], projected_retrieved_embeddings[:, 1], s=100, facecolors='none', edgecolors='g')\n",
    "\n",
    "plt.gca().set_aspect('equal', 'datalim')\n",
    "plt.title(f'{query}')\n",
    "plt.axis('off')"
   ]
  },
  {
   "cell_type": "code",
   "execution_count": null,
   "metadata": {},
   "outputs": [
    {
     "name": "stdout",
     "output_type": "stream",
     "text": [
      "- 2 - 4. term : the term of this agreement shall commence on the effective date and shall continue until terminated in accordance with the provisions herein ( the \" term \" ). 5. termination : either party, at any given time, may terminate this agreement, for any reason whatsoever, with or without cause, upon fourteen ( 14 ) days ’ prior written notice. notwithstanding the above, the company may terminate this agreement immediately and without prior notice if advisor refuses or is unable to perform the services, or is in breach of any provision of this agreement. 6. compensation : 6. 1 as full and sole consideration for the services, and subject to the performance of the services, the company shall pay the advisor, against an invoice provided to the company by advisor, hourly fees at a rate of usd 9 ( nine ) per billable hour as defined below, limited to a maximum of usd 1, 500 per month ( the \" fees \" ). in addition, the company shall pay the advisor usd 100\n",
      "\n",
      "- 3 - constitute salary payments, and 40 % of such payments shall constitute payment by the company for all other advisor statutory rights and benefits as employee of the company throughout the term. advisor further consents that the compan y may offset any amounts due to him under this section from any amounts payable to advisor under this agreement. advisor shall indemnify the company for any loss or expenses incurred by the company if it were determined that an alleged employer / employee relationship existed between the advisor and the company. 9. entire agreement ; no waiver or assignment : this agreement together with the exhibits, which are attached hereto and incorporated herein, set forth the entire agreement between the pa rties and shall supersede all previous communications and agreements between the parties, either oral or written. this agreement may be modified only by a written amendment executed by both parties.\n",
      "\n",
      "per month to finance a workspace for the advisor, as long as the advisor actually hires a professional workspace ( the “ workspace expense ” ). advisor will not be entitled to any additional fees or expense reimbursement whatsoever, except as expressly provided for in this agreement. billable hour : net time devoted to the provisioning of the services, without calculating meals, travels or any other overhead time borne by the advisor. 6. 2 the fees and the workspace expense for each month shall be payable by no later than ten ( 10 ) days from the beginning of the following month, against receipt by the company of a duly issued tax invoice. 6. 3 in addition, the company shall reimburse advisor for any reasonable and actual expenses incurred by the advisor in connection with the performance of the services, all in accordance with the company ’ s policies as determined by the board of directors from time to time, and\n",
      "\n",
      "this agreement may not be assigned, sold, delegated or transferred in any manner by advisor for any reason whatsoever. the company may assign the agreement to a successor of all or substantially all of its assets or business, provided the assignee has assumed the company ’ s obligations under this agreement. 10. governing law and jurisdiction : this agreement shall be governed by the laws of the state of israel, without giving effect to the rules respecting conflicts of laws. the parties consent to the exclusive jurisdiction and venue of tel aviv courts for any lawsuit filed arising from or relating to this agreement. 11. notices : notices under this agreement shall be delivered to the party ’ s email address as follows : company : info @ cloudcorp. com, advisor : jackrobinson @ gmail. com, or in any the other means with a proof of acceptance by the other party. in witness whereof the parties have executed this agreement as of the date first above written.\n",
      "\n",
      "subject to company's prior written consent for each specific expense, before advisor incurs such expenses. as a condition to reimbursement, advisor shall provide the company with copies of all invoices, receipts and other evidence of expenditures as required by company policy. 6. 4 advisor shall be solely responsible for any income taxes or other assessments made or imposed by any governmental authority on advisor with respect to the services rendered and the compensation received hereunder, and any and all expenses and costs of himself, employees, agents and representatives, including, without limitation, any salary, overtime, severance or social benefits payable thereto, and marketing costs incurred in connection with the performance of obligations hereunder. 7. confidentiality, non - competition and ip ownership undertaking : in connection with the performance of advisor ’ s obligations under this agreement, the advisor shall execute a\n",
      "\n"
     ]
    }
   ],
   "source": [
    "query = \"How much is the escrow amount?\"\n",
    "results = chroma_collection.query(query_texts=query, n_results=5, include=['documents', 'embeddings'])\n",
    "\n",
    "retrieved_documents = results['documents'][0]\n",
    "\n",
    "for document in results['documents'][0]:\n",
    "    print(document)\n",
    "    print('')"
   ]
  },
  {
   "cell_type": "code",
   "execution_count": null,
   "metadata": {},
   "outputs": [
    {
     "name": "stdout",
     "output_type": "stream",
     "text": [
      "The escrow amount is not mentioned in the provided information.\n"
     ]
    }
   ],
   "source": [
    "output_answer = chom.openai_model_answer(query=query, retrieved_documents=retrieved_documents)\n",
    "print(output_answer)"
   ]
  },
  {
   "cell_type": "code",
   "execution_count": null,
   "metadata": {},
   "outputs": [
    {
     "name": "stderr",
     "output_type": "stream",
     "text": [
      "100%|██████████| 1/1 [00:00<00:00,  1.70it/s]\n",
      "100%|██████████| 5/5 [00:03<00:00,  1.62it/s]\n"
     ]
    }
   ],
   "source": [
    "query_embedding = embedding_function([query])[0]\n",
    "retrieved_embeddings = results['embeddings'][0]\n",
    "\n",
    "projected_query_embedding = project_embeddings([query_embedding], umap_transform)\n",
    "projected_retrieved_embeddings = project_embeddings(retrieved_embeddings, umap_transform)"
   ]
  },
  {
   "cell_type": "code",
   "execution_count": null,
   "metadata": {},
   "outputs": [
    {
     "data": {
      "text/plain": [
       "(-4.462840829417109,\n",
       " 0.3433709111064672,\n",
       " 14.068113040924072,\n",
       " 19.118206310272218)"
      ]
     },
     "execution_count": 111,
     "metadata": {},
     "output_type": "execute_result"
    },
    {
     "data": {
      "image/png": "[encoded data removed]",
      "text/plain": [
       "<Figure size 640x480 with 1 Axes>"
      ]
     },
     "metadata": {},
     "output_type": "display_data"
    }
   ],
   "source": [
    "# Plot the projected query and retrieved documents in the embedding space\n",
    "plt.figure()\n",
    "plt.scatter(projected_dataset_embeddings[:, 0], projected_dataset_embeddings[:, 1], s=10, color='gray')\n",
    "plt.scatter(projected_query_embedding[:, 0], projected_query_embedding[:, 1], s=150, marker='X', color='r')\n",
    "plt.scatter(projected_retrieved_embeddings[:, 0], projected_retrieved_embeddings[:, 1], s=100, facecolors='none', edgecolors='g')\n",
    "\n",
    "plt.gca().set_aspect('equal', 'datalim')\n",
    "plt.title(f'{query}')\n",
    "plt.axis('off')"
   ]
  },
  {
   "cell_type": "code",
   "execution_count": null,
   "metadata": {},
   "outputs": [
    {
     "name": "stdout",
     "output_type": "stream",
     "text": [
      "5. non - compete : during the term of engagement with the company and for a period of 12 months thereafter, advisor shall not be involved, as an employee, owner, contractor or otherwise, in any business, which competes with the company ’ s business, and shall not solicit and / or hire any employee and / or service provider of the company, without the prior written consent of the company. 6. personnel : the advisor may provide the services only directly or through employees, contractors or agents ( “ personnel ” ), which were specifically approved by the company, and have committed in writ ing to confidentiality and ownership rights towards the advisor and / or the company, in a form restrictive enough to allow advisor to comply and enforce the commitments under this undertaking ( “ authorized personnel ” ). without limiting the foregoing, the advisor is liable hereunder for any breach of this undertaking by any advisor personne l.\n",
      "\n",
      "- 2 - 4. term : the term of this agreement shall commence on the effective date and shall continue until terminated in accordance with the provisions herein ( the \" term \" ). 5. termination : either party, at any given time, may terminate this agreement, for any reason whatsoever, with or without cause, upon fourteen ( 14 ) days ’ prior written notice. notwithstanding the above, the company may terminate this agreement immediately and without prior notice if advisor refuses or is unable to perform the services, or is in breach of any provision of this agreement. 6. compensation : 6. 1 as full and sole consideration for the services, and subject to the performance of the services, the company shall pay the advisor, against an invoice provided to the company by advisor, hourly fees at a rate of usd 9 ( nine ) per billable hour as defined below, limited to a maximum of usd 1, 500 per month ( the \" fees \" ). in addition, the company shall pay the advisor usd 100\n",
      "\n",
      "7. third parties : the advisor represents that the performance of the services and the terms of this undertaking, do not and will not breach any right, contractual or other, of any employer, customer or other third party. advisor acknowledges that the company is relying upon the truthfulness and accuracy of such representations in engaging with the advisor. advisor specifically undertakes not to use any proprietary and / or confidential information belonging to the advisor and / or any third party while performing the services and in case any advisor proprietary or confidential information is used, such information will be automatically assigned to the company and become its fu ll and exclusive property. 8. jurisdiction : this undertaking shall be governed by and construed in accordance with the laws of the state of israel, without giving effect\n",
      "\n",
      "this agreement may not be assigned, sold, delegated or transferred in any manner by advisor for any reason whatsoever. the company may assign the agreement to a successor of all or substantially all of its assets or business, provided the assignee has assumed the company ’ s obligations under this agreement. 10. governing law and jurisdiction : this agreement shall be governed by the laws of the state of israel, without giving effect to the rules respecting conflicts of laws. the parties consent to the exclusive jurisdiction and venue of tel aviv courts for any lawsuit filed arising from or relating to this agreement. 11. notices : notices under this agreement shall be delivered to the party ’ s email address as follows : company : info @ cloudcorp. com, advisor : jackrobinson @ gmail. com, or in any the other means with a proof of acceptance by the other party. in witness whereof the parties have executed this agreement as of the date first above written.\n",
      "\n",
      "to its laws pertaining to conflict of laws. the advisor agrees that any an d all disputes in connection with this undertaking shall be submitted to the exclusive jurisdiction of the competent courts in the c ity of tel aviv - yafo, israel. 9. pre - undertaking : in case the advisor has been providing services to the company before the effective date ( “ pre - undertaking period ” ), this undertaking shall also apply to the pre - undertaking period, including, if relevant, before company ’ s incorporation. the company may assign this undertaking to third parties. in witness whereof, the undersigned has executed this undertaking as of the effective date. advisor by : _ _ _ _ _ _ _ _ _ _ _ _ _ _ _ _ _ _ _ _ _ _ _ _ _ _ _ _ _ _ _ _ _ _ _ _ _ name : jack robinson\n",
      "\n"
     ]
    }
   ],
   "source": [
    "query = \"Are there any conditions to the closing?\"\n",
    "results = chroma_collection.query(query_texts=query, n_results=5, include=['documents', 'embeddings'])\n",
    "\n",
    "retrieved_documents = results['documents'][0]\n",
    "\n",
    "for document in results['documents'][0]:\n",
    "    print(document)\n",
    "    print('')"
   ]
  },
  {
   "cell_type": "code",
   "execution_count": null,
   "metadata": {},
   "outputs": [
    {
     "name": "stdout",
     "output_type": "stream",
     "text": [
      "The conditions for closing include a non-compete clause, termination clauses, compensation details, specifics about authorized personnel, and jurisdiction rules.\n"
     ]
    }
   ],
   "source": [
    "output_answer = chom.openai_model_answer(query=query, retrieved_documents=retrieved_documents)\n",
    "print(output_answer)"
   ]
  },
  {
   "cell_type": "code",
   "execution_count": null,
   "metadata": {},
   "outputs": [
    {
     "name": "stderr",
     "output_type": "stream",
     "text": [
      "100%|██████████| 1/1 [00:00<00:00,  1.18it/s]\n",
      "100%|██████████| 5/5 [00:03<00:00,  1.59it/s]\n"
     ]
    }
   ],
   "source": [
    "query_embedding = embedding_function([query])[0]\n",
    "retrieved_embeddings = results['embeddings'][0]\n",
    "\n",
    "projected_query_embedding = project_embeddings([query_embedding], umap_transform)\n",
    "projected_retrieved_embeddings = project_embeddings(retrieved_embeddings, umap_transform)"
   ]
  },
  {
   "cell_type": "code",
   "execution_count": null,
   "metadata": {},
   "outputs": [
    {
     "data": {
      "text/plain": [
       "(-4.462840829417109,\n",
       " 0.3433709111064672,\n",
       " 14.068113040924072,\n",
       " 19.118206310272218)"
      ]
     },
     "execution_count": 115,
     "metadata": {},
     "output_type": "execute_result"
    },
    {
     "data": {
      "image/png": "[encoded data removed]",
      "text/plain": [
       "<Figure size 640x480 with 1 Axes>"
      ]
     },
     "metadata": {},
     "output_type": "display_data"
    }
   ],
   "source": [
    "# Plot the projected query and retrieved documents in the embedding space\n",
    "plt.figure()\n",
    "plt.scatter(projected_dataset_embeddings[:, 0], projected_dataset_embeddings[:, 1], s=10, color='gray')\n",
    "plt.scatter(projected_query_embedding[:, 0], projected_query_embedding[:, 1], s=150, marker='X', color='r')\n",
    "plt.scatter(projected_retrieved_embeddings[:, 0], projected_retrieved_embeddings[:, 1], s=100, facecolors='none', edgecolors='g')\n",
    "\n",
    "plt.gca().set_aspect('equal', 'datalim')\n",
    "plt.title(f'{query}')\n",
    "plt.axis('off')"
   ]
  }
 ],
 "metadata": {
  "kernelspec": {
   "display_name": "Python 3",
   "language": "python",
   "name": "python3"
  },
  "language_info": {
   "codemirror_mode": {
    "name": "ipython",
    "version": 3
   },
   "file_extension": ".py",
   "mimetype": "text/x-python",
   "name": "python",
   "nbconvert_exporter": "python",
   "pygments_lexer": "ipython3",
   "version": "3.10.12"
  }
 },
 "nbformat": 4,
 "nbformat_minor": 2
}
