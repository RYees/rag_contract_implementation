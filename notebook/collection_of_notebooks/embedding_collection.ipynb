{
 "cells": [
  {
   "cell_type": "markdown",
   "metadata": {},
   "source": [
    "BGE Model( BAAI(Beijing Academy of Artificial Intelligence) General Embeddings) Model\n",
    "\n",
    "BGE models on HuggingFaceare one of the best open source embedding models."
   ]
  },
  {
   "cell_type": "code",
   "execution_count": 7,
   "metadata": {},
   "outputs": [],
   "source": [
    "from collections import namedtuple\n",
    "from pypdf import PdfReader\n",
    "Page = namedtuple(\"Page\", [\"id\", \"page_content\", \"metadata\"])\n",
    "\n",
    "def pdf_reader(file_path):\n",
    "    reader = PdfReader(file_path)\n",
    "    pdf_pages = []\n",
    "    for page_number, page in enumerate(reader.pages):\n",
    "        page_content = page.extract_text().strip()\n",
    "        if page_content:\n",
    "            metadata = {\"page_number\": page_number}  # Add any additional metadata as needed\n",
    "            pdf_pages.append(Page(id=page_number, page_content=page_content, metadata=metadata))\n",
    "    return pdf_pages\n",
    "\n",
    "file_path = '../data/RaptorContract.pdf'\n",
    "pages = pdf_reader(file_path)"
   ]
  },
  {
   "cell_type": "code",
   "execution_count": 8,
   "metadata": {},
   "outputs": [
    {
     "data": {
      "text/plain": [
       "'[R&G Draft 12.__.2021] \\n112923184_5  \\n \\nSTOCK PURCHASE AGREEMENT \\nBY AND AMONG \\n[BUYER], \\n[TARGET COMPANY], \\nTHE SELLERS LISTED ON SCHEDULE I HERETO \\nAND  \\nTHE SELLERS ’ REPRESENTATIVE NAMED HEREIN \\nDated as of [●]  \\n \\n[This document is intended solely to facilitate discussions among the parties identified herein.  \\nNeither this document nor such discussions are intended to create, nor will either or both be \\ndeemed to create, a legally binding or enforceable offer or agreement of any type or nature, \\nunless and until a definitive written agreement is executed and delivered by each of th e parties \\nhereto. \\n \\nThis document shall be kept confidential pursuant to the terms of the Confidentiality \\nAgreement entered into by the parties and, if applicable, its affiliates with respect to the subject \\nmatter hereof.]\\n\\n-i- \\n112923184_5 TABLE OF CONTENTS \\nARTICLE I DEFINITIONS; CERTAIN RULES OF CONSTRUCTION .................................... 2  \\nSection 1.01  Definitions ......................................................................................................... 2  \\nSection 1.02  Certain Matters of Construction ...................................................................... 13  \\nARTICLE II PURCHASE AND SALE OF SHARES AND WARRANTS; \\nTREATMENT OF OPTIONS; CLOSING. .................................................................................. 14  \\nSection 2.01  Purchase and Sale of Shares ............................................................................ 14  \\nSection 2.02  Purchase Price.................................................................................................. 14  \\nSection 2.03  The Closing...................................................................................................... 14  \\nSection 2.04  Closing Payments. ........................................................................................... 15  \\nSection 2.05  Closing Deliveries ........................................................................................... 15  \\nSection 2.06  Treatment of Options ....................................................................................... 16  \\nSection 2.07  Purchase Price Adjustment .............................................................................. 17  \\nSection 2.08  Escrow ............................................................................................................. 19  \\nARTICLE III REPRESENTATIONS AND WARRANTIES REGARDING THE \\nACQUIRED COMPANIES. ......................................................................................................... 19  \\nSection 3.01  Organization .................................................................................................... 19  \\nSection 3.02  Power and Authorization ................................................................................. 20  \\nSection 3.03  Authorization of Governmental Authorities .................................................... 20  \\nSection 3.04  Noncontravention ............................................................................................ 20  \\nSection 3.05  Capitalization of the Acquired Companies ...................................................... 21  \\nSection 3.06  Financial Matters ............................................................................................. 22  \\nSection 3.07  Absence of Certain Developments .................................................................. 22  \\nSection 3.08  Debt; Guarantees ............................................................................................. 24  \\nSection 3.09  Assets ............................................................................................................... 25  \\nSection 3.10  Real Property ................................................................................................... 25  \\nSection 3.11  Intellectual Property ........................................................................................ 26  \\nSection 3.12  Legal Compliance; Illegal Payments; Permits ................................................. 29  \\nSection 3.13  Tax Matters ...................................................................................................... 30  \\nSection 3.14  Employee Benefit Plans................................................................................... 32  \\nSection 3.15  Environmental Matters .................................................................................... 33  \\nSection 3.16  Contracts .......................................................................................................... 34  \\nSection 3.17  Related Party Transactions .............................................................................. 36  \\nSection 3.18  Customers and Suppliers ................................................................................. 37'"
      ]
     },
     "execution_count": 8,
     "metadata": {},
     "output_type": "execute_result"
    }
   ],
   "source": [
    "from langchain.text_splitter import CharacterTextSplitter\n",
    "text = '\\n\\n'.join([page.page_content for page in pages])\n",
    "\n",
    "text_splitter = CharacterTextSplitter.from_tiktoken_encoder(\n",
    "    separator = \"\\n\\n\",\n",
    "    chunk_size = 1200,\n",
    "    chunk_overlap = 100,\n",
    "    is_separator_regex = False,\n",
    "    model_name='text-embedding-3-small', #used to calculate tokens\n",
    "    encoding_name='text-embedding-3-small'\n",
    ")\n",
    "\n",
    "doc_list = text_splitter.create_documents(text)\n",
    "doc_list # returns list of document objects\n",
    "line_list = text_splitter.split_text(text)\n",
    "line_list[0]"
   ]
  },
  {
   "cell_type": "code",
   "execution_count": 1,
   "metadata": {},
   "outputs": [
    {
     "name": "stderr",
     "output_type": "stream",
     "text": [
      "/home/ek/.local/lib/python3.10/site-packages/langchain_core/_api/deprecation.py:139: LangChainDeprecationWarning: The class `HuggingFaceEmbeddings` was deprecated in LangChain 0.2.2 and will be removed in 0.3.0. An updated version of the class exists in the langchain-huggingface package and should be used instead. To use it run `pip install -U langchain-huggingface` and import as `from langchain_huggingface import HuggingFaceEmbeddings`.\n",
      "  warn_deprecated(\n"
     ]
    },
    {
     "data": {
      "application/vnd.jupyter.widget-view+json": {
       "model_id": "32ea7aa0e9954c65890b9857b7bb1628",
       "version_major": 2,
       "version_minor": 0
      },
      "text/plain": [
       "modules.json:   0%|          | 0.00/349 [00:00<?, ?B/s]"
      ]
     },
     "metadata": {},
     "output_type": "display_data"
    },
    {
     "data": {
      "application/vnd.jupyter.widget-view+json": {
       "model_id": "c6c948ee28ca4fe3a7c30faca6a73099",
       "version_major": 2,
       "version_minor": 0
      },
      "text/plain": [
       "config_sentence_transformers.json:   0%|          | 0.00/124 [00:00<?, ?B/s]"
      ]
     },
     "metadata": {},
     "output_type": "display_data"
    },
    {
     "data": {
      "application/vnd.jupyter.widget-view+json": {
       "model_id": "f97394d0c68e40f782581d2895788155",
       "version_major": 2,
       "version_minor": 0
      },
      "text/plain": [
       "README.md:   0%|          | 0.00/94.6k [00:00<?, ?B/s]"
      ]
     },
     "metadata": {},
     "output_type": "display_data"
    },
    {
     "data": {
      "application/vnd.jupyter.widget-view+json": {
       "model_id": "b7a4d4fc4b1a4a9db80a43e639062da8",
       "version_major": 2,
       "version_minor": 0
      },
      "text/plain": [
       "sentence_bert_config.json:   0%|          | 0.00/52.0 [00:00<?, ?B/s]"
      ]
     },
     "metadata": {},
     "output_type": "display_data"
    },
    {
     "data": {
      "application/vnd.jupyter.widget-view+json": {
       "model_id": "c7223b45d5854873a08145554425371d",
       "version_major": 2,
       "version_minor": 0
      },
      "text/plain": [
       "config.json:   0%|          | 0.00/777 [00:00<?, ?B/s]"
      ]
     },
     "metadata": {},
     "output_type": "display_data"
    },
    {
     "data": {
      "application/vnd.jupyter.widget-view+json": {
       "model_id": "ae58395780284b85ba12974720b1ea0c",
       "version_major": 2,
       "version_minor": 0
      },
      "text/plain": [
       "model.safetensors:   0%|          | 0.00/438M [00:00<?, ?B/s]"
      ]
     },
     "metadata": {},
     "output_type": "display_data"
    },
    {
     "data": {
      "application/vnd.jupyter.widget-view+json": {
       "model_id": "e9cc458d050c414c8935809f6beff819",
       "version_major": 2,
       "version_minor": 0
      },
      "text/plain": [
       "tokenizer_config.json:   0%|          | 0.00/366 [00:00<?, ?B/s]"
      ]
     },
     "metadata": {},
     "output_type": "display_data"
    },
    {
     "data": {
      "application/vnd.jupyter.widget-view+json": {
       "model_id": "975a40985db943e5be8822b5c08e61db",
       "version_major": 2,
       "version_minor": 0
      },
      "text/plain": [
       "vocab.txt:   0%|          | 0.00/232k [00:00<?, ?B/s]"
      ]
     },
     "metadata": {},
     "output_type": "display_data"
    },
    {
     "data": {
      "application/vnd.jupyter.widget-view+json": {
       "model_id": "b78af89746b8431db1a9e98d0b5d83bd",
       "version_major": 2,
       "version_minor": 0
      },
      "text/plain": [
       "tokenizer.json:   0%|          | 0.00/711k [00:00<?, ?B/s]"
      ]
     },
     "metadata": {},
     "output_type": "display_data"
    },
    {
     "data": {
      "application/vnd.jupyter.widget-view+json": {
       "model_id": "a35f435af622403581e7389ea2e97f1b",
       "version_major": 2,
       "version_minor": 0
      },
      "text/plain": [
       "special_tokens_map.json:   0%|          | 0.00/125 [00:00<?, ?B/s]"
      ]
     },
     "metadata": {},
     "output_type": "display_data"
    },
    {
     "data": {
      "application/vnd.jupyter.widget-view+json": {
       "model_id": "46a455c4c3bf4c64aa26bae5e7ab0bb2",
       "version_major": 2,
       "version_minor": 0
      },
      "text/plain": [
       "1_Pooling/config.json:   0%|          | 0.00/190 [00:00<?, ?B/s]"
      ]
     },
     "metadata": {},
     "output_type": "display_data"
    }
   ],
   "source": [
    "import numpy as np\n",
    "from langchain.embeddings import HuggingFaceEmbeddings\n",
    "\n",
    "model_name = \"BAAI/bge-base-en-v1.5\"\n",
    "model_kwargs = {\"device\":'cpu'}\n",
    "encode_kwargs = {'normalize_embeddings':True}\n",
    "\n",
    "hf = HuggingFaceEmbeddings(\n",
    "    model_name = model_name,\n",
    "    model_kwargs = model_kwargs,\n",
    "    encode_kwargs = encode_kwargs\n",
    ")"
   ]
  },
  {
   "cell_type": "code",
   "execution_count": 13,
   "metadata": {},
   "outputs": [
    {
     "data": {
      "text/plain": [
       "(65, 768)"
      ]
     },
     "execution_count": 13,
     "metadata": {},
     "output_type": "execute_result"
    }
   ],
   "source": [
    "import numpy as np\n",
    "embedded_docs = [hf.embed_query(text) for text in line_list]\n",
    "\n",
    "np.array(embedded_docs).shape"
   ]
  },
  {
   "cell_type": "markdown",
   "metadata": {},
   "source": [
    "Fake Embeddings\n",
    "\n",
    "If we have some hardware constraints, we can also use something Fake Embeddings from LangChain."
   ]
  },
  {
   "cell_type": "code",
   "execution_count": 5,
   "metadata": {},
   "outputs": [
    {
     "data": {
      "text/plain": [
       "[[-0.16965905908042958,\n",
       "  1.5939186768826148,\n",
       "  -0.7133848358361978,\n",
       "  0.6664052620711756,\n",
       "  -1.2059056236153183,\n",
       "  -0.023488316255508266,\n",
       "  1.1549833497192237,\n",
       "  1.621098862084171,\n",
       "  -1.8785527193021985,\n",
       "  0.9143707827955454,\n",
       "  0.7961616202367885,\n",
       "  -0.4509841261236601,\n",
       "  -0.4022375700116447,\n",
       "  -0.802605656955823,\n",
       "  0.2925978621627828,\n",
       "  0.19811393881047945,\n",
       "  0.043413212558926856,\n",
       "  0.0008839694283831814,\n",
       "  -0.4969221718647262,\n",
       "  -0.3818215590096675,\n",
       "  -1.1417235540882416,\n",
       "  0.7832409702037648,\n",
       "  0.04920227141733389,\n",
       "  -0.9445591779066456,\n",
       "  -0.21293952590640589,\n",
       "  -0.1314604618954993,\n",
       "  0.23223352466820546,\n",
       "  -0.6512801933006795,\n",
       "  1.1494704679397605,\n",
       "  -0.8836998884764613,\n",
       "  1.025430916924119,\n",
       "  0.2603584901835216,\n",
       "  -1.3584422558060683,\n",
       "  1.6382429308951105,\n",
       "  -0.6627835903564737,\n",
       "  0.188055630474813,\n",
       "  -0.3962292472506285,\n",
       "  -2.1120082159872307,\n",
       "  -0.21848370861654173,\n",
       "  -0.13967536795945998,\n",
       "  -0.929026872946699,\n",
       "  0.46264884741971113,\n",
       "  -0.4633234953084111,\n",
       "  0.016696689880739937,\n",
       "  -1.002192790869498,\n",
       "  -0.7190704718111235,\n",
       "  -0.4295872281312931,\n",
       "  1.4462514770277421,\n",
       "  0.2368640976194441,\n",
       "  -0.3414186463412388,\n",
       "  1.6152657812121693,\n",
       "  0.38329109617443163,\n",
       "  -0.2410386380330583,\n",
       "  -0.7518517617700324,\n",
       "  0.3428085298079425,\n",
       "  0.24339628610505332,\n",
       "  -0.21914805864227097,\n",
       "  -1.0776026320322798,\n",
       "  1.0124266916583808,\n",
       "  0.806341588915792,\n",
       "  1.0467926777314895,\n",
       "  0.2754789533139722,\n",
       "  0.32980073229735823,\n",
       "  -1.1836218269761312,\n",
       "  0.6649983698226117,\n",
       "  0.4467068768304537,\n",
       "  1.0754627671664392,\n",
       "  -0.7351197020790702,\n",
       "  -0.177184990648321,\n",
       "  -1.7487828937260688,\n",
       "  -0.6221239510171804,\n",
       "  0.24573887769664662,\n",
       "  -0.1557120347613857,\n",
       "  1.492599146692833,\n",
       "  -2.4391290520248377,\n",
       "  -0.610084944114149,\n",
       "  1.011485941449121,\n",
       "  -1.3762826415106089,\n",
       "  2.941018174401255,\n",
       "  -1.125617329588686,\n",
       "  0.7257254836516327,\n",
       "  -0.515821087646347,\n",
       "  -1.059734419898893,\n",
       "  -0.17265273849884713,\n",
       "  -0.1274629837321649,\n",
       "  0.1934531132121008,\n",
       "  -0.0488031266170559,\n",
       "  -0.8097364005155715,\n",
       "  -0.8100948810027514,\n",
       "  1.0753513941271993,\n",
       "  0.6872157048055779,\n",
       "  1.3652372132762371,\n",
       "  -1.3947717641931305,\n",
       "  -1.201503930289602,\n",
       "  1.055826359480712,\n",
       "  0.672454022761144,\n",
       "  0.022503130628470466,\n",
       "  -0.1549999610962791,\n",
       "  1.0877923918001826,\n",
       "  -0.5546794319570961,\n",
       "  1.85875338835409,\n",
       "  0.0414030731481672,\n",
       "  -0.8095628416097383,\n",
       "  0.2571334166503833,\n",
       "  -0.2523551193048715,\n",
       "  0.21858118479788347,\n",
       "  0.13149923956017778,\n",
       "  -0.3438251188079412,\n",
       "  1.2571756479303275,\n",
       "  0.660174989293187,\n",
       "  0.1513089389197075,\n",
       "  1.4535551354796943,\n",
       "  0.09408474078222985,\n",
       "  -2.3433236063249105,\n",
       "  -0.20543623013885573,\n",
       "  -0.7249515843141865,\n",
       "  -0.17900451804594314,\n",
       "  0.2932460206933939,\n",
       "  0.7858181808620395,\n",
       "  0.7217294045473748,\n",
       "  0.6236222368031996,\n",
       "  -1.6784561245290033,\n",
       "  0.314058922277941,\n",
       "  -1.4795237964436836,\n",
       "  -0.9377195522019869,\n",
       "  -0.6555047001053904,\n",
       "  -1.7360881467567364,\n",
       "  1.4276697674933096,\n",
       "  -0.8216775380865684,\n",
       "  -0.4258686088381446,\n",
       "  -0.393914366157574,\n",
       "  -0.5374880246180979,\n",
       "  -0.1816432113506364,\n",
       "  -0.3043294387746142,\n",
       "  1.402275506962749,\n",
       "  0.5682961903288318,\n",
       "  0.9236145840069966,\n",
       "  1.7516866595943594,\n",
       "  -0.1880223933318219,\n",
       "  1.1378660519285506,\n",
       "  -2.0127472580204824,\n",
       "  0.22602169625168145,\n",
       "  -0.47080395627138916,\n",
       "  -1.686392390735557,\n",
       "  -0.4382106521230419,\n",
       "  1.8617823532066575,\n",
       "  0.2626216308159815,\n",
       "  -0.5566256447021845,\n",
       "  0.9917657989356269,\n",
       "  0.8552615086948838,\n",
       "  0.566430999311882,\n",
       "  0.4725110960830836,\n",
       "  1.5816827553799389,\n",
       "  0.09813397300984673,\n",
       "  1.4722801533744774,\n",
       "  0.4156756985092121,\n",
       "  0.15540590713718633,\n",
       "  0.5634285212801567,\n",
       "  0.9335689921116009,\n",
       "  -0.8864849855375271,\n",
       "  -2.1807543816763437,\n",
       "  0.41275022183914767,\n",
       "  -0.5501036278897318,\n",
       "  0.25381300505395327,\n",
       "  -0.3827798974217161,\n",
       "  -0.421029636296857,\n",
       "  0.63936326230676,\n",
       "  0.9934409972120225,\n",
       "  0.3215344032836122,\n",
       "  -2.3094290733653726,\n",
       "  -0.9629488255882306,\n",
       "  1.0509589893730553,\n",
       "  -2.2074855224758974,\n",
       "  1.1966501289276714,\n",
       "  -0.7325841118502323,\n",
       "  0.7083334971957087,\n",
       "  0.2862717606034682,\n",
       "  -0.03857777418322956,\n",
       "  1.1338554760613626,\n",
       "  -1.2039683374908163,\n",
       "  -0.9202124157060899,\n",
       "  0.6894126102132302,\n",
       "  1.2761417428934885,\n",
       "  0.04805287205047082,\n",
       "  0.30664997241488184,\n",
       "  -0.44765913117438993,\n",
       "  -0.9825499671495552,\n",
       "  0.16291598943125582,\n",
       "  -1.282186491632309,\n",
       "  2.308465645598398,\n",
       "  1.7714602893535394,\n",
       "  -1.2770540240291166,\n",
       "  0.9663107167271492,\n",
       "  -1.2520401835336563,\n",
       "  -0.3282955126580689,\n",
       "  0.6207125271335083,\n",
       "  -0.5680320831444865,\n",
       "  -0.9464080795005415,\n",
       "  0.15146167750788136,\n",
       "  -0.8215817694013784,\n",
       "  -0.41143077249986193,\n",
       "  -0.04078752578282476,\n",
       "  -0.3082796076258375,\n",
       "  1.7134309325883057,\n",
       "  -0.5925746765896486,\n",
       "  0.1377180096994031,\n",
       "  0.6919366838631519,\n",
       "  0.5404865092974799,\n",
       "  -0.05977247742585931,\n",
       "  1.101695272906151,\n",
       "  -1.6794487415796762,\n",
       "  3.1074276831605556,\n",
       "  -0.08637363121209705,\n",
       "  -0.3051588090372254,\n",
       "  -0.2103371314869551,\n",
       "  -0.5402332022839083,\n",
       "  0.7322624721014255,\n",
       "  0.8565960719173902,\n",
       "  1.046392428802297,\n",
       "  0.42202566475931885,\n",
       "  -1.096922924763736,\n",
       "  -0.08420073255061354,\n",
       "  1.3125839075630303,\n",
       "  0.3398081202213526,\n",
       "  -0.39101442735358755,\n",
       "  -0.8670282147129048,\n",
       "  0.04880162226394923,\n",
       "  1.5110771416993696,\n",
       "  0.7111131903996585,\n",
       "  -0.4180380533061626,\n",
       "  0.12705273758704644,\n",
       "  -0.7713984022677878,\n",
       "  0.9306337720308788,\n",
       "  0.526491205753532,\n",
       "  0.9009187888817911,\n",
       "  -0.144746294377788,\n",
       "  0.3975627585439223,\n",
       "  0.49249199642636043,\n",
       "  1.3882762648763822,\n",
       "  1.3164863540584413,\n",
       "  -1.2532141993711967,\n",
       "  0.9573167533376588,\n",
       "  -0.699016759476398,\n",
       "  -1.6038505416223514,\n",
       "  1.5877093145309462,\n",
       "  -0.23636752641080327,\n",
       "  0.5814082542235474,\n",
       "  -0.7978400139743723,\n",
       "  0.6336362685952281,\n",
       "  0.2761461232352391,\n",
       "  2.377220282366698,\n",
       "  -1.263519728161399,\n",
       "  -0.25422844043906423,\n",
       "  -0.9603348616799606,\n",
       "  0.20695608267972954,\n",
       "  2.634506674981631,\n",
       "  -1.3735933876650368,\n",
       "  2.7117845804898595,\n",
       "  0.45642671207373064,\n",
       "  -0.9709478524743398,\n",
       "  -1.6925126288522887,\n",
       "  0.5636247167231192,\n",
       "  -0.028083975623122093,\n",
       "  -0.8094794627932925,\n",
       "  -1.0054410578050326,\n",
       "  -0.6214971415977956,\n",
       "  -0.39638157824861864,\n",
       "  0.24166450773574527,\n",
       "  0.07500312814986286,\n",
       "  -0.3523720186680623,\n",
       "  0.8988611725893371,\n",
       "  -0.8463288731494565,\n",
       "  -0.9466590267805061,\n",
       "  -1.0835834339430346,\n",
       "  0.6542748000433534,\n",
       "  -0.624725359170137,\n",
       "  0.8306918530866237,\n",
       "  -0.6786230842193387,\n",
       "  0.7657642613757761,\n",
       "  0.33525020041119424,\n",
       "  0.2065252099552331,\n",
       "  -1.4837432928006604,\n",
       "  0.40148854964367203,\n",
       "  -0.9463394505000198,\n",
       "  0.6418603886834932,\n",
       "  -0.24357567071598005,\n",
       "  -1.6091983578146931,\n",
       "  0.11009813215167841,\n",
       "  0.09945406962871178,\n",
       "  -0.37612149640805165,\n",
       "  0.9993693706915844,\n",
       "  2.1985179427116224,\n",
       "  -0.14514904375780527,\n",
       "  0.534062353103681,\n",
       "  0.013434315711186147,\n",
       "  -0.7280116839640818,\n",
       "  -0.2996857059612775,\n",
       "  0.6270598699763031,\n",
       "  -3.2469730392643226,\n",
       "  -1.3863734692324277]]"
      ]
     },
     "execution_count": 5,
     "metadata": {},
     "output_type": "execute_result"
    }
   ],
   "source": [
    "from langchain_community.embeddings import FakeEmbeddings\n",
    "\n",
    "fake_embeddings = FakeEmbeddings(size = 300) # embedding size\n",
    "\n",
    "fake_embedding_record = fake_embeddings.embed_query(\"This is a random text\")\n",
    "fake_embedding_records = fake_embeddings.embed_documents([\"This is a random text\"])\n",
    "fake_embedding_records"
   ]
  }
 ],
 "metadata": {
  "kernelspec": {
   "display_name": "Python 3",
   "language": "python",
   "name": "python3"
  },
  "language_info": {
   "codemirror_mode": {
    "name": "ipython",
    "version": 3
   },
   "file_extension": ".py",
   "mimetype": "text/x-python",
   "name": "python",
   "nbconvert_exporter": "python",
   "pygments_lexer": "ipython3",
   "version": "3.10.12"
  }
 },
 "nbformat": 4,
 "nbformat_minor": 2
}
